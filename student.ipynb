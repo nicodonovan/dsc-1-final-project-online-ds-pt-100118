{
 "cells": [
  {
   "cell_type": "markdown",
   "metadata": {},
   "source": [
    "## Final Project Submission\n",
    "\n",
    "Please fill out:\n",
    "* Student name: **Nicholas Donovan**\n",
    "* Student pace: self paced / **part time** / full time\n",
    "* Scheduled project review date/time: **2/7/19 @ 2:15pm**\n",
    "* Instructor name: **Jeff Herman**\n",
    "* Blog post URL: https://medium.com/@nicodonovan/fighting-fraud-flatiron-data-science-project-1-280b63249253\n"
   ]
  },
  {
   "cell_type": "code",
   "execution_count": null,
   "metadata": {},
   "outputs": [],
   "source": [
    "# Your code here - remember to use markdown cells for comments as well!"
   ]
  },
  {
   "cell_type": "markdown",
   "metadata": {},
   "source": [
    "# OSEMN Model\n",
    "\n",
    "For our current project, our team decided on using the OSEMN model as the backbone for our analysis. We felt that it was the most straightforward approach, giving us a lot of flexibility and versatility to apply our findings to a wide-ranging audience. "
   ]
  },
  {
   "cell_type": "markdown",
   "metadata": {},
   "source": [
    "# O: Obtain\n",
    "We will be using the King County House Sales dataset to predict the sale price of houses as accurately as possible."
   ]
  },
  {
   "cell_type": "code",
   "execution_count": 1,
   "metadata": {
    "scrolled": true
   },
   "outputs": [
    {
     "data": {
      "text/html": [
       "<div>\n",
       "<style scoped>\n",
       "    .dataframe tbody tr th:only-of-type {\n",
       "        vertical-align: middle;\n",
       "    }\n",
       "\n",
       "    .dataframe tbody tr th {\n",
       "        vertical-align: top;\n",
       "    }\n",
       "\n",
       "    .dataframe thead th {\n",
       "        text-align: right;\n",
       "    }\n",
       "</style>\n",
       "<table border=\"1\" class=\"dataframe\">\n",
       "  <thead>\n",
       "    <tr style=\"text-align: right;\">\n",
       "      <th></th>\n",
       "      <th>id</th>\n",
       "      <th>date</th>\n",
       "      <th>price</th>\n",
       "      <th>bedrooms</th>\n",
       "      <th>bathrooms</th>\n",
       "      <th>sqft_living</th>\n",
       "      <th>sqft_lot</th>\n",
       "      <th>floors</th>\n",
       "      <th>waterfront</th>\n",
       "      <th>view</th>\n",
       "      <th>...</th>\n",
       "      <th>grade</th>\n",
       "      <th>sqft_above</th>\n",
       "      <th>sqft_basement</th>\n",
       "      <th>yr_built</th>\n",
       "      <th>yr_renovated</th>\n",
       "      <th>zipcode</th>\n",
       "      <th>lat</th>\n",
       "      <th>long</th>\n",
       "      <th>sqft_living15</th>\n",
       "      <th>sqft_lot15</th>\n",
       "    </tr>\n",
       "  </thead>\n",
       "  <tbody>\n",
       "    <tr>\n",
       "      <th>0</th>\n",
       "      <td>7129300520</td>\n",
       "      <td>10/13/2014</td>\n",
       "      <td>221900.0</td>\n",
       "      <td>3</td>\n",
       "      <td>1.00</td>\n",
       "      <td>1180</td>\n",
       "      <td>5650</td>\n",
       "      <td>1.0</td>\n",
       "      <td>NaN</td>\n",
       "      <td>0.0</td>\n",
       "      <td>...</td>\n",
       "      <td>7</td>\n",
       "      <td>1180</td>\n",
       "      <td>0.0</td>\n",
       "      <td>1955</td>\n",
       "      <td>0.0</td>\n",
       "      <td>98178</td>\n",
       "      <td>47.5112</td>\n",
       "      <td>-122.257</td>\n",
       "      <td>1340</td>\n",
       "      <td>5650</td>\n",
       "    </tr>\n",
       "    <tr>\n",
       "      <th>1</th>\n",
       "      <td>6414100192</td>\n",
       "      <td>12/9/2014</td>\n",
       "      <td>538000.0</td>\n",
       "      <td>3</td>\n",
       "      <td>2.25</td>\n",
       "      <td>2570</td>\n",
       "      <td>7242</td>\n",
       "      <td>2.0</td>\n",
       "      <td>0.0</td>\n",
       "      <td>0.0</td>\n",
       "      <td>...</td>\n",
       "      <td>7</td>\n",
       "      <td>2170</td>\n",
       "      <td>400.0</td>\n",
       "      <td>1951</td>\n",
       "      <td>1991.0</td>\n",
       "      <td>98125</td>\n",
       "      <td>47.7210</td>\n",
       "      <td>-122.319</td>\n",
       "      <td>1690</td>\n",
       "      <td>7639</td>\n",
       "    </tr>\n",
       "    <tr>\n",
       "      <th>2</th>\n",
       "      <td>5631500400</td>\n",
       "      <td>2/25/2015</td>\n",
       "      <td>180000.0</td>\n",
       "      <td>2</td>\n",
       "      <td>1.00</td>\n",
       "      <td>770</td>\n",
       "      <td>10000</td>\n",
       "      <td>1.0</td>\n",
       "      <td>0.0</td>\n",
       "      <td>0.0</td>\n",
       "      <td>...</td>\n",
       "      <td>6</td>\n",
       "      <td>770</td>\n",
       "      <td>0.0</td>\n",
       "      <td>1933</td>\n",
       "      <td>NaN</td>\n",
       "      <td>98028</td>\n",
       "      <td>47.7379</td>\n",
       "      <td>-122.233</td>\n",
       "      <td>2720</td>\n",
       "      <td>8062</td>\n",
       "    </tr>\n",
       "    <tr>\n",
       "      <th>3</th>\n",
       "      <td>2487200875</td>\n",
       "      <td>12/9/2014</td>\n",
       "      <td>604000.0</td>\n",
       "      <td>4</td>\n",
       "      <td>3.00</td>\n",
       "      <td>1960</td>\n",
       "      <td>5000</td>\n",
       "      <td>1.0</td>\n",
       "      <td>0.0</td>\n",
       "      <td>0.0</td>\n",
       "      <td>...</td>\n",
       "      <td>7</td>\n",
       "      <td>1050</td>\n",
       "      <td>910.0</td>\n",
       "      <td>1965</td>\n",
       "      <td>0.0</td>\n",
       "      <td>98136</td>\n",
       "      <td>47.5208</td>\n",
       "      <td>-122.393</td>\n",
       "      <td>1360</td>\n",
       "      <td>5000</td>\n",
       "    </tr>\n",
       "    <tr>\n",
       "      <th>4</th>\n",
       "      <td>1954400510</td>\n",
       "      <td>2/18/2015</td>\n",
       "      <td>510000.0</td>\n",
       "      <td>3</td>\n",
       "      <td>2.00</td>\n",
       "      <td>1680</td>\n",
       "      <td>8080</td>\n",
       "      <td>1.0</td>\n",
       "      <td>0.0</td>\n",
       "      <td>0.0</td>\n",
       "      <td>...</td>\n",
       "      <td>8</td>\n",
       "      <td>1680</td>\n",
       "      <td>0.0</td>\n",
       "      <td>1987</td>\n",
       "      <td>0.0</td>\n",
       "      <td>98074</td>\n",
       "      <td>47.6168</td>\n",
       "      <td>-122.045</td>\n",
       "      <td>1800</td>\n",
       "      <td>7503</td>\n",
       "    </tr>\n",
       "  </tbody>\n",
       "</table>\n",
       "<p>5 rows × 21 columns</p>\n",
       "</div>"
      ],
      "text/plain": [
       "           id        date     price  bedrooms  bathrooms  sqft_living  \\\n",
       "0  7129300520  10/13/2014  221900.0         3       1.00         1180   \n",
       "1  6414100192   12/9/2014  538000.0         3       2.25         2570   \n",
       "2  5631500400   2/25/2015  180000.0         2       1.00          770   \n",
       "3  2487200875   12/9/2014  604000.0         4       3.00         1960   \n",
       "4  1954400510   2/18/2015  510000.0         3       2.00         1680   \n",
       "\n",
       "   sqft_lot  floors  waterfront  view     ...      grade  sqft_above  \\\n",
       "0      5650     1.0         NaN   0.0     ...          7        1180   \n",
       "1      7242     2.0         0.0   0.0     ...          7        2170   \n",
       "2     10000     1.0         0.0   0.0     ...          6         770   \n",
       "3      5000     1.0         0.0   0.0     ...          7        1050   \n",
       "4      8080     1.0         0.0   0.0     ...          8        1680   \n",
       "\n",
       "   sqft_basement yr_built  yr_renovated  zipcode      lat     long  \\\n",
       "0            0.0     1955           0.0    98178  47.5112 -122.257   \n",
       "1          400.0     1951        1991.0    98125  47.7210 -122.319   \n",
       "2            0.0     1933           NaN    98028  47.7379 -122.233   \n",
       "3          910.0     1965           0.0    98136  47.5208 -122.393   \n",
       "4            0.0     1987           0.0    98074  47.6168 -122.045   \n",
       "\n",
       "   sqft_living15  sqft_lot15  \n",
       "0           1340        5650  \n",
       "1           1690        7639  \n",
       "2           2720        8062  \n",
       "3           1360        5000  \n",
       "4           1800        7503  \n",
       "\n",
       "[5 rows x 21 columns]"
      ]
     },
     "execution_count": 1,
     "metadata": {},
     "output_type": "execute_result"
    }
   ],
   "source": [
    "import pandas as pd\n",
    "import numpy as np\n",
    "import seaborn as sns\n",
    "import matplotlib.pyplot as plt\n",
    "import statsmodels.formula.api as smf\n",
    "%matplotlib inline\n",
    "# loading the data into a dataframe\n",
    "df = pd.read_csv('kc_house_data.csv')\n",
    "df.head()"
   ]
  },
  {
   "cell_type": "code",
   "execution_count": 2,
   "metadata": {
    "scrolled": true
   },
   "outputs": [
    {
     "data": {
      "text/plain": [
       "21597"
      ]
     },
     "execution_count": 2,
     "metadata": {},
     "output_type": "execute_result"
    }
   ],
   "source": [
    "len(df)"
   ]
  },
  {
   "cell_type": "markdown",
   "metadata": {},
   "source": [
    "21 total columns\n",
    "\n",
    "21,597 total entries"
   ]
  },
  {
   "cell_type": "markdown",
   "metadata": {},
   "source": [
    "# S: Scrub \n",
    "Here we will be further investigating our dataset. This includes identifying and removing null values, replacing values, distinguishing between continuous and categorical columns and converting formats. As well as any other issues that may come up during this exploratory process. "
   ]
  },
  {
   "cell_type": "code",
   "execution_count": 3,
   "metadata": {},
   "outputs": [
    {
     "name": "stdout",
     "output_type": "stream",
     "text": [
      "<class 'pandas.core.frame.DataFrame'>\n",
      "RangeIndex: 21597 entries, 0 to 21596\n",
      "Data columns (total 21 columns):\n",
      "id               21597 non-null int64\n",
      "date             21597 non-null object\n",
      "price            21597 non-null float64\n",
      "bedrooms         21597 non-null int64\n",
      "bathrooms        21597 non-null float64\n",
      "sqft_living      21597 non-null int64\n",
      "sqft_lot         21597 non-null int64\n",
      "floors           21597 non-null float64\n",
      "waterfront       19221 non-null float64\n",
      "view             21534 non-null float64\n",
      "condition        21597 non-null int64\n",
      "grade            21597 non-null int64\n",
      "sqft_above       21597 non-null int64\n",
      "sqft_basement    21597 non-null object\n",
      "yr_built         21597 non-null int64\n",
      "yr_renovated     17755 non-null float64\n",
      "zipcode          21597 non-null int64\n",
      "lat              21597 non-null float64\n",
      "long             21597 non-null float64\n",
      "sqft_living15    21597 non-null int64\n",
      "sqft_lot15       21597 non-null int64\n",
      "dtypes: float64(8), int64(11), object(2)\n",
      "memory usage: 3.5+ MB\n"
     ]
    }
   ],
   "source": [
    "df.info()"
   ]
  },
  {
   "cell_type": "code",
   "execution_count": 4,
   "metadata": {},
   "outputs": [],
   "source": [
    "to_drop = [\"id\", \"date\", \"zipcode\", \"lat\", \"long\"]\n",
    "df.drop(to_drop, axis=1, inplace=True)"
   ]
  },
  {
   "cell_type": "markdown",
   "metadata": {},
   "source": [
    "The \"id\" and \"date\" columns were dropped as they will not be used for this analysis and model building. Additionally, after multiple attempts to include the \"zipcode\", \"lat\" and \"long\" columns, I decided that they provided too large of a technical challenge without any meaningful improvment to the model. In short, they created too many dummy categories during the one-hot encoding stage to process efficently.  "
   ]
  },
  {
   "cell_type": "markdown",
   "metadata": {},
   "source": [
    "Based on our findings from the dataframe's metadata, I noticed that only two columns were cast at strings (object). \"Date\" seemed to be correctly cast as a string, but \"sqft_basement\" did not seem appropriate as a string, so it was further inspected. "
   ]
  },
  {
   "cell_type": "code",
   "execution_count": 5,
   "metadata": {
    "scrolled": true
   },
   "outputs": [
    {
     "data": {
      "text/plain": [
       "array(['0.0', '400.0', '910.0', '1530.0', '?', '730.0', '1700.0', '300.0',\n",
       "       '970.0', '760.0', '720.0', '700.0', '820.0', '780.0', '790.0',\n",
       "       '330.0', '1620.0', '360.0', '588.0', '1510.0', '410.0', '990.0',\n",
       "       '600.0', '560.0', '550.0', '1000.0', '1600.0', '500.0', '1040.0',\n",
       "       '880.0', '1010.0', '240.0', '265.0', '290.0', '800.0', '540.0',\n",
       "       '710.0', '840.0', '380.0', '770.0', '480.0', '570.0', '1490.0',\n",
       "       '620.0', '1250.0', '1270.0', '120.0', '650.0', '180.0', '1130.0',\n",
       "       '450.0', '1640.0', '1460.0', '1020.0', '1030.0', '750.0', '640.0',\n",
       "       '1070.0', '490.0', '1310.0', '630.0', '2000.0', '390.0', '430.0',\n",
       "       '850.0', '210.0', '1430.0', '1950.0', '440.0', '220.0', '1160.0',\n",
       "       '860.0', '580.0', '2060.0', '1820.0', '1180.0', '200.0', '1150.0',\n",
       "       '1200.0', '680.0', '530.0', '1450.0', '1170.0', '1080.0', '960.0',\n",
       "       '280.0', '870.0', '1100.0', '460.0', '1400.0', '660.0', '1220.0',\n",
       "       '900.0', '420.0', '1580.0', '1380.0', '475.0', '690.0', '270.0',\n",
       "       '350.0', '935.0', '1370.0', '980.0', '1470.0', '160.0', '950.0',\n",
       "       '50.0', '740.0', '1780.0', '1900.0', '340.0', '470.0', '370.0',\n",
       "       '140.0', '1760.0', '130.0', '520.0', '890.0', '1110.0', '150.0',\n",
       "       '1720.0', '810.0', '190.0', '1290.0', '670.0', '1800.0', '1120.0',\n",
       "       '1810.0', '60.0', '1050.0', '940.0', '310.0', '930.0', '1390.0',\n",
       "       '610.0', '1830.0', '1300.0', '510.0', '1330.0', '1590.0', '920.0',\n",
       "       '1320.0', '1420.0', '1240.0', '1960.0', '1560.0', '2020.0',\n",
       "       '1190.0', '2110.0', '1280.0', '250.0', '2390.0', '1230.0', '170.0',\n",
       "       '830.0', '1260.0', '1410.0', '1340.0', '590.0', '1500.0', '1140.0',\n",
       "       '260.0', '100.0', '320.0', '1480.0', '1060.0', '1284.0', '1670.0',\n",
       "       '1350.0', '2570.0', '1090.0', '110.0', '2500.0', '90.0', '1940.0',\n",
       "       '1550.0', '2350.0', '2490.0', '1481.0', '1360.0', '1135.0',\n",
       "       '1520.0', '1850.0', '1660.0', '2130.0', '2600.0', '1690.0',\n",
       "       '243.0', '1210.0', '1024.0', '1798.0', '1610.0', '1440.0',\n",
       "       '1570.0', '1650.0', '704.0', '1910.0', '1630.0', '2360.0',\n",
       "       '1852.0', '2090.0', '2400.0', '1790.0', '2150.0', '230.0', '70.0',\n",
       "       '1680.0', '2100.0', '3000.0', '1870.0', '1710.0', '2030.0',\n",
       "       '875.0', '1540.0', '2850.0', '2170.0', '506.0', '906.0', '145.0',\n",
       "       '2040.0', '784.0', '1750.0', '374.0', '518.0', '2720.0', '2730.0',\n",
       "       '1840.0', '3480.0', '2160.0', '1920.0', '2330.0', '1860.0',\n",
       "       '2050.0', '4820.0', '1913.0', '80.0', '2010.0', '3260.0', '2200.0',\n",
       "       '415.0', '1730.0', '652.0', '2196.0', '1930.0', '515.0', '40.0',\n",
       "       '2080.0', '2580.0', '1548.0', '1740.0', '235.0', '861.0', '1890.0',\n",
       "       '2220.0', '792.0', '2070.0', '4130.0', '2250.0', '2240.0',\n",
       "       '1990.0', '768.0', '2550.0', '435.0', '1008.0', '2300.0', '2610.0',\n",
       "       '666.0', '3500.0', '172.0', '1816.0', '2190.0', '1245.0', '1525.0',\n",
       "       '1880.0', '862.0', '946.0', '1281.0', '414.0', '2180.0', '276.0',\n",
       "       '1248.0', '602.0', '516.0', '176.0', '225.0', '1275.0', '266.0',\n",
       "       '283.0', '65.0', '2310.0', '10.0', '1770.0', '2120.0', '295.0',\n",
       "       '207.0', '915.0', '556.0', '417.0', '143.0', '508.0', '2810.0',\n",
       "       '20.0', '274.0', '248.0'], dtype=object)"
      ]
     },
     "execution_count": 5,
     "metadata": {},
     "output_type": "execute_result"
    }
   ],
   "source": [
    "df.sqft_basement.unique()"
   ]
  },
  {
   "cell_type": "code",
   "execution_count": 6,
   "metadata": {
    "scrolled": true
   },
   "outputs": [
    {
     "data": {
      "text/plain": [
       "0.0       12826\n",
       "?           454\n",
       "600.0       217\n",
       "500.0       209\n",
       "700.0       208\n",
       "800.0       201\n",
       "400.0       184\n",
       "1000.0      148\n",
       "900.0       142\n",
       "300.0       142\n",
       "200.0       105\n",
       "750.0       104\n",
       "450.0       103\n",
       "480.0       103\n",
       "530.0       103\n",
       "720.0        98\n",
       "620.0        90\n",
       "580.0        84\n",
       "840.0        83\n",
       "420.0        81\n",
       "860.0        79\n",
       "1100.0       78\n",
       "670.0        78\n",
       "780.0        76\n",
       "550.0        76\n",
       "650.0        75\n",
       "240.0        74\n",
       "680.0        73\n",
       "380.0        73\n",
       "360.0        72\n",
       "          ...  \n",
       "2130.0        1\n",
       "4130.0        1\n",
       "65.0          1\n",
       "2850.0        1\n",
       "415.0         1\n",
       "143.0         1\n",
       "666.0         1\n",
       "915.0         1\n",
       "374.0         1\n",
       "2600.0        1\n",
       "1245.0        1\n",
       "588.0         1\n",
       "3480.0        1\n",
       "946.0         1\n",
       "2190.0        1\n",
       "1930.0        1\n",
       "2120.0        1\n",
       "508.0         1\n",
       "652.0         1\n",
       "1960.0        1\n",
       "1880.0        1\n",
       "768.0         1\n",
       "875.0         1\n",
       "276.0         1\n",
       "2490.0        1\n",
       "2250.0        1\n",
       "2196.0        1\n",
       "2050.0        1\n",
       "2350.0        1\n",
       "2390.0        1\n",
       "Name: sqft_basement, Length: 304, dtype: int64"
      ]
     },
     "execution_count": 6,
     "metadata": {},
     "output_type": "execute_result"
    }
   ],
   "source": [
    "df['sqft_basement'].value_counts()"
   ]
  },
  {
   "cell_type": "markdown",
   "metadata": {},
   "source": [
    "The column \"sqft_basement\" seems to be incorrectly cast as a string type despite containing numerical data. This was due to the fact that there are 454 entries that have \"?\" as their value, symbolizing unknown data for this column. I decided to drop these values as it only constitutes about a 2% reduction. "
   ]
  },
  {
   "cell_type": "code",
   "execution_count": 7,
   "metadata": {},
   "outputs": [],
   "source": [
    "to_drop = df[df['sqft_basement'] == '?']\n",
    "df.drop(to_drop.index, axis=0, inplace=True)\n",
    "df.sqft_basement = df.sqft_basement.astype('float')"
   ]
  },
  {
   "cell_type": "code",
   "execution_count": 8,
   "metadata": {
    "scrolled": false
   },
   "outputs": [
    {
     "name": "stdout",
     "output_type": "stream",
     "text": [
      "<class 'pandas.core.frame.DataFrame'>\n",
      "Int64Index: 21143 entries, 0 to 21596\n",
      "Data columns (total 16 columns):\n",
      "price            21143 non-null float64\n",
      "bedrooms         21143 non-null int64\n",
      "bathrooms        21143 non-null float64\n",
      "sqft_living      21143 non-null int64\n",
      "sqft_lot         21143 non-null int64\n",
      "floors           21143 non-null float64\n",
      "waterfront       18804 non-null float64\n",
      "view             21082 non-null float64\n",
      "condition        21143 non-null int64\n",
      "grade            21143 non-null int64\n",
      "sqft_above       21143 non-null int64\n",
      "sqft_basement    21143 non-null float64\n",
      "yr_built         21143 non-null int64\n",
      "yr_renovated     17389 non-null float64\n",
      "sqft_living15    21143 non-null int64\n",
      "sqft_lot15       21143 non-null int64\n",
      "dtypes: float64(7), int64(9)\n",
      "memory usage: 2.7 MB\n"
     ]
    }
   ],
   "source": [
    "df.info()"
   ]
  },
  {
   "cell_type": "code",
   "execution_count": 10,
   "metadata": {},
   "outputs": [
    {
     "data": {
      "text/plain": [
       "price               0\n",
       "bedrooms            0\n",
       "bathrooms           0\n",
       "sqft_living         0\n",
       "sqft_lot            0\n",
       "floors              0\n",
       "waterfront       2339\n",
       "view               61\n",
       "condition           0\n",
       "grade               0\n",
       "sqft_above          0\n",
       "sqft_basement       0\n",
       "yr_built            0\n",
       "yr_renovated     3754\n",
       "sqft_living15       0\n",
       "sqft_lot15          0\n",
       "dtype: int64"
      ]
     },
     "execution_count": 10,
     "metadata": {},
     "output_type": "execute_result"
    }
   ],
   "source": [
    "df.isna().sum()"
   ]
  },
  {
   "cell_type": "markdown",
   "metadata": {},
   "source": [
    "Now we are checking to see if the data contains any null values. And by the looks of our results, we can see that \"waterfront\", \"view\" and \"yr_renovated\" all contain null values. We will inspect each individually. "
   ]
  },
  {
   "cell_type": "code",
   "execution_count": 11,
   "metadata": {
    "scrolled": true
   },
   "outputs": [
    {
     "data": {
      "text/plain": [
       "0.0    19018\n",
       "2.0      930\n",
       "3.0      496\n",
       "1.0      327\n",
       "4.0      311\n",
       "Name: view, dtype: int64"
      ]
     },
     "execution_count": 11,
     "metadata": {},
     "output_type": "execute_result"
    }
   ],
   "source": [
    "df.view.value_counts()"
   ]
  },
  {
   "cell_type": "code",
   "execution_count": 12,
   "metadata": {},
   "outputs": [],
   "source": [
    "df['view'].fillna(0, inplace=True)"
   ]
  },
  {
   "cell_type": "code",
   "execution_count": 13,
   "metadata": {},
   "outputs": [
    {
     "data": {
      "text/plain": [
       "price               0\n",
       "bedrooms            0\n",
       "bathrooms           0\n",
       "sqft_living         0\n",
       "sqft_lot            0\n",
       "floors              0\n",
       "waterfront       2339\n",
       "view                0\n",
       "condition           0\n",
       "grade               0\n",
       "sqft_above          0\n",
       "sqft_basement       0\n",
       "yr_built            0\n",
       "yr_renovated     3754\n",
       "sqft_living15       0\n",
       "sqft_lot15          0\n",
       "dtype: int64"
      ]
     },
     "execution_count": 13,
     "metadata": {},
     "output_type": "execute_result"
    }
   ],
   "source": [
    "df.isna().sum()"
   ]
  },
  {
   "cell_type": "markdown",
   "metadata": {},
   "source": [
    "For the \"views\" column, I decided to replace the null values with the most common value. For \"views\", the most common value was 0.0. Since there were only 15 total null values for this column and 0.0 had an order of magnitude more counts than the other values, I felt this would minimally skew the data, if at all. "
   ]
  },
  {
   "cell_type": "code",
   "execution_count": 14,
   "metadata": {},
   "outputs": [
    {
     "data": {
      "text/plain": [
       "array([nan,  0.,  1.])"
      ]
     },
     "execution_count": 14,
     "metadata": {},
     "output_type": "execute_result"
    }
   ],
   "source": [
    "df.waterfront.unique()"
   ]
  },
  {
   "cell_type": "code",
   "execution_count": 15,
   "metadata": {
    "scrolled": true
   },
   "outputs": [
    {
     "data": {
      "text/plain": [
       "0.0    18662\n",
       "1.0      142\n",
       "Name: waterfront, dtype: int64"
      ]
     },
     "execution_count": 15,
     "metadata": {},
     "output_type": "execute_result"
    }
   ],
   "source": [
    "df.waterfront.value_counts()"
   ]
  },
  {
   "cell_type": "code",
   "execution_count": 16,
   "metadata": {
    "scrolled": true
   },
   "outputs": [
    {
     "data": {
      "text/plain": [
       "0        nan\n",
       "1        0.0\n",
       "2        0.0\n",
       "3        0.0\n",
       "4        0.0\n",
       "5        0.0\n",
       "7        0.0\n",
       "8        0.0\n",
       "9        0.0\n",
       "10       nan\n",
       "11       0.0\n",
       "12       0.0\n",
       "13       0.0\n",
       "14       0.0\n",
       "15       0.0\n",
       "16       0.0\n",
       "17       0.0\n",
       "19       0.0\n",
       "20       0.0\n",
       "21       0.0\n",
       "22       0.0\n",
       "23       nan\n",
       "24       0.0\n",
       "25       0.0\n",
       "26       0.0\n",
       "27       0.0\n",
       "28       0.0\n",
       "29       0.0\n",
       "30       0.0\n",
       "31       0.0\n",
       "        ... \n",
       "21566    0.0\n",
       "21567    nan\n",
       "21568    0.0\n",
       "21569    0.0\n",
       "21570    0.0\n",
       "21571    0.0\n",
       "21572    0.0\n",
       "21573    0.0\n",
       "21574    0.0\n",
       "21575    0.0\n",
       "21576    0.0\n",
       "21577    0.0\n",
       "21578    nan\n",
       "21579    0.0\n",
       "21580    0.0\n",
       "21582    nan\n",
       "21583    0.0\n",
       "21584    0.0\n",
       "21585    0.0\n",
       "21586    nan\n",
       "21587    nan\n",
       "21588    0.0\n",
       "21589    0.0\n",
       "21590    0.0\n",
       "21591    0.0\n",
       "21592    0.0\n",
       "21593    0.0\n",
       "21594    0.0\n",
       "21595    nan\n",
       "21596    0.0\n",
       "Name: waterfront, Length: 21143, dtype: object"
      ]
     },
     "execution_count": 16,
     "metadata": {},
     "output_type": "execute_result"
    }
   ],
   "source": [
    "df.waterfront = df.waterfront.astype(\"str\")\n",
    "df['waterfront'].fillna('nan')"
   ]
  },
  {
   "cell_type": "code",
   "execution_count": 17,
   "metadata": {
    "scrolled": false
   },
   "outputs": [
    {
     "data": {
      "text/plain": [
       "price               0\n",
       "bedrooms            0\n",
       "bathrooms           0\n",
       "sqft_living         0\n",
       "sqft_lot            0\n",
       "floors              0\n",
       "waterfront          0\n",
       "view                0\n",
       "condition           0\n",
       "grade               0\n",
       "sqft_above          0\n",
       "sqft_basement       0\n",
       "yr_built            0\n",
       "yr_renovated     3754\n",
       "sqft_living15       0\n",
       "sqft_lot15          0\n",
       "dtype: int64"
      ]
     },
     "execution_count": 17,
     "metadata": {},
     "output_type": "execute_result"
    }
   ],
   "source": [
    "df.isna().sum()"
   ]
  },
  {
   "cell_type": "markdown",
   "metadata": {},
   "source": [
    "For the \"waterfront\" column, I noticed that it was incorrectly cast an numerical column despite being categorical data. So I changed its type from float to string. This allowed me to treat the null values as its own category.  "
   ]
  },
  {
   "cell_type": "code",
   "execution_count": 18,
   "metadata": {
    "scrolled": true
   },
   "outputs": [
    {
     "data": {
      "text/plain": [
       "array([   0., 1991.,   nan, 2002., 2010., 1992., 2013., 1994., 1978.,\n",
       "       2005., 2003., 1984., 1954., 2014., 2011., 1983., 1945., 1990.,\n",
       "       1988., 1977., 1981., 1995., 2000., 1999., 1998., 1970., 1989.,\n",
       "       2004., 1986., 2007., 1987., 2006., 1985., 1980., 1971., 1979.,\n",
       "       1997., 1950., 1969., 1948., 2009., 2015., 1974., 2008., 1968.,\n",
       "       2012., 1963., 1951., 1962., 2001., 1953., 1993., 1996., 1955.,\n",
       "       1982., 1956., 1940., 1976., 1975., 1964., 1973., 1957., 1959.,\n",
       "       1960., 1967., 1965., 1934., 1972., 1944., 1958.])"
      ]
     },
     "execution_count": 18,
     "metadata": {},
     "output_type": "execute_result"
    }
   ],
   "source": [
    "df.yr_renovated.unique()"
   ]
  },
  {
   "cell_type": "code",
   "execution_count": 19,
   "metadata": {
    "scrolled": true
   },
   "outputs": [
    {
     "data": {
      "text/plain": [
       "0.0       16666\n",
       "2014.0       69\n",
       "2003.0       31\n",
       "2013.0       31\n",
       "2007.0       30\n",
       "2000.0       29\n",
       "2005.0       29\n",
       "1990.0       22\n",
       "2009.0       21\n",
       "2004.0       21\n",
       "2006.0       20\n",
       "1989.0       18\n",
       "2002.0       17\n",
       "1998.0       15\n",
       "1999.0       15\n",
       "2008.0       15\n",
       "1983.0       15\n",
       "1984.0       15\n",
       "2015.0       14\n",
       "2010.0       14\n",
       "1985.0       14\n",
       "1986.0       14\n",
       "1987.0       14\n",
       "1991.0       14\n",
       "1992.0       13\n",
       "1994.0       13\n",
       "2001.0       12\n",
       "1997.0       12\n",
       "1995.0       12\n",
       "1996.0       11\n",
       "          ...  \n",
       "1968.0        6\n",
       "1964.0        5\n",
       "1975.0        5\n",
       "1973.0        4\n",
       "1965.0        4\n",
       "1981.0        4\n",
       "1969.0        4\n",
       "1978.0        3\n",
       "1963.0        3\n",
       "1960.0        3\n",
       "1958.0        3\n",
       "1956.0        3\n",
       "1955.0        3\n",
       "1972.0        3\n",
       "1945.0        2\n",
       "1962.0        2\n",
       "1967.0        2\n",
       "1974.0        2\n",
       "1957.0        2\n",
       "1940.0        2\n",
       "1951.0        1\n",
       "1948.0        1\n",
       "1950.0        1\n",
       "1976.0        1\n",
       "1954.0        1\n",
       "1953.0        1\n",
       "1944.0        1\n",
       "1934.0        1\n",
       "1971.0        1\n",
       "1959.0        1\n",
       "Name: yr_renovated, Length: 69, dtype: int64"
      ]
     },
     "execution_count": 19,
     "metadata": {},
     "output_type": "execute_result"
    }
   ],
   "source": [
    "df.yr_renovated.value_counts()"
   ]
  },
  {
   "cell_type": "code",
   "execution_count": 20,
   "metadata": {
    "scrolled": true
   },
   "outputs": [
    {
     "data": {
      "text/plain": [
       "count    17389.000000\n",
       "mean        82.991949\n",
       "std        398.481819\n",
       "min          0.000000\n",
       "25%          0.000000\n",
       "50%          0.000000\n",
       "75%          0.000000\n",
       "max       2015.000000\n",
       "Name: yr_renovated, dtype: float64"
      ]
     },
     "execution_count": 20,
     "metadata": {},
     "output_type": "execute_result"
    }
   ],
   "source": [
    "df.yr_renovated.describe()"
   ]
  },
  {
   "cell_type": "code",
   "execution_count": 21,
   "metadata": {},
   "outputs": [
    {
     "data": {
      "text/plain": [
       "price            0\n",
       "bedrooms         0\n",
       "bathrooms        0\n",
       "sqft_living      0\n",
       "sqft_lot         0\n",
       "floors           0\n",
       "waterfront       0\n",
       "view             0\n",
       "condition        0\n",
       "grade            0\n",
       "sqft_above       0\n",
       "sqft_basement    0\n",
       "yr_built         0\n",
       "sqft_living15    0\n",
       "sqft_lot15       0\n",
       "dtype: int64"
      ]
     },
     "execution_count": 21,
     "metadata": {},
     "output_type": "execute_result"
    }
   ],
   "source": [
    "to_drop = [\"yr_renovated\"]\n",
    "df.drop(to_drop, axis=1, inplace=True)\n",
    "df.isna().sum()"
   ]
  },
  {
   "cell_type": "markdown",
   "metadata": {},
   "source": [
    "I decided to drop the \"yr_renovated\" column. As a majority of houses in our data were not renovated, thus I decided it would not prove useful for our model. "
   ]
  },
  {
   "cell_type": "code",
   "execution_count": 22,
   "metadata": {
    "scrolled": false
   },
   "outputs": [
    {
     "name": "stdout",
     "output_type": "stream",
     "text": [
      "<class 'pandas.core.frame.DataFrame'>\n",
      "Int64Index: 21143 entries, 0 to 21596\n",
      "Data columns (total 15 columns):\n",
      "price            21143 non-null float64\n",
      "bedrooms         21143 non-null int64\n",
      "bathrooms        21143 non-null float64\n",
      "sqft_living      21143 non-null int64\n",
      "sqft_lot         21143 non-null int64\n",
      "floors           21143 non-null float64\n",
      "waterfront       21143 non-null object\n",
      "view             21143 non-null float64\n",
      "condition        21143 non-null int64\n",
      "grade            21143 non-null int64\n",
      "sqft_above       21143 non-null int64\n",
      "sqft_basement    21143 non-null float64\n",
      "yr_built         21143 non-null int64\n",
      "sqft_living15    21143 non-null int64\n",
      "sqft_lot15       21143 non-null int64\n",
      "dtypes: float64(5), int64(9), object(1)\n",
      "memory usage: 2.6+ MB\n"
     ]
    }
   ],
   "source": [
    "df.info()"
   ]
  },
  {
   "cell_type": "markdown",
   "metadata": {},
   "source": [
    "Some categorical data was incorrectly encoded as integers/floats. These were converted to strings to better represent the categorical nature and be one-hot encoded later on in the process. "
   ]
  },
  {
   "cell_type": "code",
   "execution_count": 23,
   "metadata": {},
   "outputs": [],
   "source": [
    "df.bedrooms = df.bedrooms.astype(\"str\")\n",
    "df.bathrooms = df.bathrooms.astype(\"str\")\n",
    "df.floors = df.floors.astype(\"str\")\n",
    "df.view = df.view.astype(\"str\")\n",
    "df.condition = df.condition.astype(\"str\")\n",
    "df.grade = df.grade.astype(\"str\")\n",
    "df.yr_built = df.yr_built.astype(\"str\")\n",
    "#sdf.zipcode = sdf.zipcode.astype(\"str\")\n",
    "#sdf.lat = sdf.lat.astype(\"str\")\n",
    "#sdf.long = sdf.long.astype(\"str\")"
   ]
  },
  {
   "cell_type": "code",
   "execution_count": 24,
   "metadata": {},
   "outputs": [
    {
     "name": "stdout",
     "output_type": "stream",
     "text": [
      "<class 'pandas.core.frame.DataFrame'>\n",
      "Int64Index: 21143 entries, 0 to 21596\n",
      "Data columns (total 15 columns):\n",
      "price            21143 non-null float64\n",
      "bedrooms         21143 non-null object\n",
      "bathrooms        21143 non-null object\n",
      "sqft_living      21143 non-null int64\n",
      "sqft_lot         21143 non-null int64\n",
      "floors           21143 non-null object\n",
      "waterfront       21143 non-null object\n",
      "view             21143 non-null object\n",
      "condition        21143 non-null object\n",
      "grade            21143 non-null object\n",
      "sqft_above       21143 non-null int64\n",
      "sqft_basement    21143 non-null float64\n",
      "yr_built         21143 non-null object\n",
      "sqft_living15    21143 non-null int64\n",
      "sqft_lot15       21143 non-null int64\n",
      "dtypes: float64(2), int64(5), object(8)\n",
      "memory usage: 2.6+ MB\n"
     ]
    }
   ],
   "source": [
    "df.info()"
   ]
  },
  {
   "cell_type": "code",
   "execution_count": 25,
   "metadata": {},
   "outputs": [
    {
     "data": {
      "text/plain": [
       "<matplotlib.axes._subplots.AxesSubplot at 0x1a1f635668>"
      ]
     },
     "execution_count": 25,
     "metadata": {},
     "output_type": "execute_result"
    },
    {
     "data": {
      "image/png": "[encoded data removed]",
      "text/plain": [
       "<Figure size 792x648 with 2 Axes>"
      ]
     },
     "metadata": {},
     "output_type": "display_data"
    }
   ],
   "source": [
    "# Set the style of the visualization\n",
    "sns.set(style=\"white\")\n",
    "\n",
    "# Create a covariance matrix\n",
    "corr = df.corr()\n",
    "\n",
    "# Generate a mask the size of our covariance matrix\n",
    "mask = np.zeros_like(corr, dtype=np.bool)\n",
    "mask[np.triu_indices_from(mask)] = True\n",
    "\n",
    "# Set up the matplotlib figure\n",
    "f, ax = plt.subplots(figsize=(11, 9))\n",
    "\n",
    "# Generate a custom diverging colormap\n",
    "cmap = sns.diverging_palette(220, 10, as_cmap=True)\n",
    "\n",
    "# Draw the heatmap with the mask and correct aspect ratio\n",
    "sns.heatmap(corr, mask=mask, cmap=cmap, vmax=.75, center=0,\n",
    "            square=True, linewidths=.5, cbar_kws={\"shrink\": .5})"
   ]
  },
  {
   "cell_type": "code",
   "execution_count": 26,
   "metadata": {
    "scrolled": false
   },
   "outputs": [
    {
     "data": {
      "text/html": [
       "<div>\n",
       "<style scoped>\n",
       "    .dataframe tbody tr th:only-of-type {\n",
       "        vertical-align: middle;\n",
       "    }\n",
       "\n",
       "    .dataframe tbody tr th {\n",
       "        vertical-align: top;\n",
       "    }\n",
       "\n",
       "    .dataframe thead th {\n",
       "        text-align: right;\n",
       "    }\n",
       "</style>\n",
       "<table border=\"1\" class=\"dataframe\">\n",
       "  <thead>\n",
       "    <tr style=\"text-align: right;\">\n",
       "      <th></th>\n",
       "      <th>price</th>\n",
       "      <th>sqft_living</th>\n",
       "      <th>sqft_lot</th>\n",
       "      <th>sqft_above</th>\n",
       "      <th>sqft_basement</th>\n",
       "      <th>sqft_living15</th>\n",
       "      <th>sqft_lot15</th>\n",
       "    </tr>\n",
       "  </thead>\n",
       "  <tbody>\n",
       "    <tr>\n",
       "      <th>price</th>\n",
       "      <td>True</td>\n",
       "      <td>False</td>\n",
       "      <td>False</td>\n",
       "      <td>False</td>\n",
       "      <td>False</td>\n",
       "      <td>False</td>\n",
       "      <td>False</td>\n",
       "    </tr>\n",
       "    <tr>\n",
       "      <th>sqft_living</th>\n",
       "      <td>False</td>\n",
       "      <td>True</td>\n",
       "      <td>False</td>\n",
       "      <td>True</td>\n",
       "      <td>False</td>\n",
       "      <td>True</td>\n",
       "      <td>False</td>\n",
       "    </tr>\n",
       "    <tr>\n",
       "      <th>sqft_lot</th>\n",
       "      <td>False</td>\n",
       "      <td>False</td>\n",
       "      <td>True</td>\n",
       "      <td>False</td>\n",
       "      <td>False</td>\n",
       "      <td>False</td>\n",
       "      <td>False</td>\n",
       "    </tr>\n",
       "    <tr>\n",
       "      <th>sqft_above</th>\n",
       "      <td>False</td>\n",
       "      <td>True</td>\n",
       "      <td>False</td>\n",
       "      <td>True</td>\n",
       "      <td>False</td>\n",
       "      <td>False</td>\n",
       "      <td>False</td>\n",
       "    </tr>\n",
       "    <tr>\n",
       "      <th>sqft_basement</th>\n",
       "      <td>False</td>\n",
       "      <td>False</td>\n",
       "      <td>False</td>\n",
       "      <td>False</td>\n",
       "      <td>True</td>\n",
       "      <td>False</td>\n",
       "      <td>False</td>\n",
       "    </tr>\n",
       "    <tr>\n",
       "      <th>sqft_living15</th>\n",
       "      <td>False</td>\n",
       "      <td>True</td>\n",
       "      <td>False</td>\n",
       "      <td>False</td>\n",
       "      <td>False</td>\n",
       "      <td>True</td>\n",
       "      <td>False</td>\n",
       "    </tr>\n",
       "    <tr>\n",
       "      <th>sqft_lot15</th>\n",
       "      <td>False</td>\n",
       "      <td>False</td>\n",
       "      <td>False</td>\n",
       "      <td>False</td>\n",
       "      <td>False</td>\n",
       "      <td>False</td>\n",
       "      <td>True</td>\n",
       "    </tr>\n",
       "  </tbody>\n",
       "</table>\n",
       "</div>"
      ],
      "text/plain": [
       "               price  sqft_living  sqft_lot  sqft_above  sqft_basement  \\\n",
       "price           True        False     False       False          False   \n",
       "sqft_living    False         True     False        True          False   \n",
       "sqft_lot       False        False      True       False          False   \n",
       "sqft_above     False         True     False        True          False   \n",
       "sqft_basement  False        False     False       False           True   \n",
       "sqft_living15  False         True     False       False          False   \n",
       "sqft_lot15     False        False     False       False          False   \n",
       "\n",
       "               sqft_living15  sqft_lot15  \n",
       "price                  False       False  \n",
       "sqft_living             True       False  \n",
       "sqft_lot               False       False  \n",
       "sqft_above             False       False  \n",
       "sqft_basement          False       False  \n",
       "sqft_living15           True       False  \n",
       "sqft_lot15             False        True  "
      ]
     },
     "execution_count": 26,
     "metadata": {},
     "output_type": "execute_result"
    }
   ],
   "source": [
    "abs(df.corr()) > 0.75"
   ]
  },
  {
   "cell_type": "markdown",
   "metadata": {},
   "source": [
    "Based on the heatmap and the correlation matrix (0.75 was used as a cutoff because generally, a correlation with an absolute value around 0.7-0.8 or higher is considered a high correlation), \"sqft_living\" is highly correlated with \"sqft_living15\" and \"sqft_above\". To solve this issue, the column was removed from our data. The rest of the data did not show any high correlation amongst each other."
   ]
  },
  {
   "cell_type": "code",
   "execution_count": 27,
   "metadata": {},
   "outputs": [],
   "source": [
    "to_drop = [\"sqft_living\"]\n",
    "df.drop(to_drop, axis=1, inplace=True)"
   ]
  },
  {
   "cell_type": "code",
   "execution_count": 28,
   "metadata": {
    "scrolled": true
   },
   "outputs": [
    {
     "name": "stdout",
     "output_type": "stream",
     "text": [
      "<class 'pandas.core.frame.DataFrame'>\n",
      "Int64Index: 21143 entries, 0 to 21596\n",
      "Data columns (total 14 columns):\n",
      "price            21143 non-null float64\n",
      "bedrooms         21143 non-null object\n",
      "bathrooms        21143 non-null object\n",
      "sqft_lot         21143 non-null int64\n",
      "floors           21143 non-null object\n",
      "waterfront       21143 non-null object\n",
      "view             21143 non-null object\n",
      "condition        21143 non-null object\n",
      "grade            21143 non-null object\n",
      "sqft_above       21143 non-null int64\n",
      "sqft_basement    21143 non-null float64\n",
      "yr_built         21143 non-null object\n",
      "sqft_living15    21143 non-null int64\n",
      "sqft_lot15       21143 non-null int64\n",
      "dtypes: float64(2), int64(4), object(8)\n",
      "memory usage: 2.4+ MB\n"
     ]
    }
   ],
   "source": [
    "df.info()"
   ]
  },
  {
   "cell_type": "code",
   "execution_count": 35,
   "metadata": {},
   "outputs": [
    {
     "data": {
      "text/plain": [
       "array([[<matplotlib.axes._subplots.AxesSubplot object at 0x1a20104160>,\n",
       "        <matplotlib.axes._subplots.AxesSubplot object at 0x1a206595f8>],\n",
       "       [<matplotlib.axes._subplots.AxesSubplot object at 0x1a1d73bf60>,\n",
       "        <matplotlib.axes._subplots.AxesSubplot object at 0x1a1de97908>],\n",
       "       [<matplotlib.axes._subplots.AxesSubplot object at 0x1a1dec52b0>,\n",
       "        <matplotlib.axes._subplots.AxesSubplot object at 0x1a1df8bc18>]],\n",
       "      dtype=object)"
      ]
     },
     "execution_count": 35,
     "metadata": {},
     "output_type": "execute_result"
    },
    {
     "data": {
      "image/png": "[encoded data removed]",
      "text/plain": [
       "<Figure size 1152x864 with 6 Axes>"
      ]
     },
     "metadata": {},
     "output_type": "display_data"
    }
   ],
   "source": [
    "# histogram before normalization \n",
    "df.hist(figsize=[16,12])"
   ]
  },
  {
   "cell_type": "code",
   "execution_count": 38,
   "metadata": {},
   "outputs": [],
   "source": [
    "# z-score normalization\n",
    "df.sqft_lot = (df.sqft_lot - df.sqft_lot.mean()) / df.sqft_lot.std()\n",
    "df.sqft_above = (df.sqft_above - df.sqft_above.mean()) / df.sqft_above.std()\n",
    "df.sqft_basement = (df.sqft_basement - df.sqft_basement.mean()) / df.sqft_basement.std()\n",
    "df.sqft_living15 = (df.sqft_living15 - df.sqft_living15.mean()) / df.sqft_living15.std()\n",
    "df.sqft_lot15 = (df.sqft_lot15 - df.sqft_lot15.mean()) / df.sqft_lot15.std()"
   ]
  },
  {
   "cell_type": "markdown",
   "metadata": {},
   "source": [
    "Here we are normalizing our data, which converts it to the same scale. We used z-score normalization, which is the most widely used method for normalization. "
   ]
  },
  {
   "cell_type": "markdown",
   "metadata": {},
   "source": [
    "# E: Explore\n",
    "Exploratory Data Analysis (EDA): We need to better understand the distribution of data before we can begin building models. "
   ]
  },
  {
   "cell_type": "code",
   "execution_count": 40,
   "metadata": {},
   "outputs": [
    {
     "data": {
      "text/html": [
       "<div>\n",
       "<style scoped>\n",
       "    .dataframe tbody tr th:only-of-type {\n",
       "        vertical-align: middle;\n",
       "    }\n",
       "\n",
       "    .dataframe tbody tr th {\n",
       "        vertical-align: top;\n",
       "    }\n",
       "\n",
       "    .dataframe thead th {\n",
       "        text-align: right;\n",
       "    }\n",
       "</style>\n",
       "<table border=\"1\" class=\"dataframe\">\n",
       "  <thead>\n",
       "    <tr style=\"text-align: right;\">\n",
       "      <th></th>\n",
       "      <th>price</th>\n",
       "      <th>sqft_lot</th>\n",
       "      <th>sqft_above</th>\n",
       "      <th>sqft_basement</th>\n",
       "      <th>sqft_living15</th>\n",
       "      <th>sqft_lot15</th>\n",
       "    </tr>\n",
       "  </thead>\n",
       "  <tbody>\n",
       "    <tr>\n",
       "      <th>count</th>\n",
       "      <td>2.114300e+04</td>\n",
       "      <td>2.114300e+04</td>\n",
       "      <td>2.114300e+04</td>\n",
       "      <td>2.114300e+04</td>\n",
       "      <td>2.114300e+04</td>\n",
       "      <td>2.114300e+04</td>\n",
       "    </tr>\n",
       "    <tr>\n",
       "      <th>mean</th>\n",
       "      <td>5.405107e+05</td>\n",
       "      <td>-2.688522e-18</td>\n",
       "      <td>2.150818e-17</td>\n",
       "      <td>-5.377044e-18</td>\n",
       "      <td>1.613113e-17</td>\n",
       "      <td>-8.065566e-18</td>\n",
       "    </tr>\n",
       "    <tr>\n",
       "      <th>std</th>\n",
       "      <td>3.680751e+05</td>\n",
       "      <td>1.000000e+00</td>\n",
       "      <td>1.000000e+00</td>\n",
       "      <td>1.000000e+00</td>\n",
       "      <td>1.000000e+00</td>\n",
       "      <td>1.000000e+00</td>\n",
       "    </tr>\n",
       "    <tr>\n",
       "      <th>min</th>\n",
       "      <td>7.800000e+04</td>\n",
       "      <td>-3.534924e-01</td>\n",
       "      <td>-1.713004e+00</td>\n",
       "      <td>-6.595544e-01</td>\n",
       "      <td>-2.316378e+00</td>\n",
       "      <td>-4.449122e-01</td>\n",
       "    </tr>\n",
       "    <tr>\n",
       "      <th>25%</th>\n",
       "      <td>3.220000e+05</td>\n",
       "      <td>-2.437353e-01</td>\n",
       "      <td>-7.110841e-01</td>\n",
       "      <td>-6.595544e-01</td>\n",
       "      <td>-7.252339e-01</td>\n",
       "      <td>-2.811611e-01</td>\n",
       "    </tr>\n",
       "    <tr>\n",
       "      <th>50%</th>\n",
       "      <td>4.500000e+05</td>\n",
       "      <td>-1.812007e-01</td>\n",
       "      <td>-2.765165e-01</td>\n",
       "      <td>-6.595544e-01</td>\n",
       "      <td>-2.147845e-01</td>\n",
       "      <td>-1.881884e-01</td>\n",
       "    </tr>\n",
       "    <tr>\n",
       "      <th>75%</th>\n",
       "      <td>6.450000e+05</td>\n",
       "      <td>-1.065694e-01</td>\n",
       "      <td>5.081193e-01</td>\n",
       "      <td>6.059871e-01</td>\n",
       "      <td>5.435974e-01</td>\n",
       "      <td>-9.760813e-02</td>\n",
       "    </tr>\n",
       "    <tr>\n",
       "      <th>max</th>\n",
       "      <td>7.700000e+06</td>\n",
       "      <td>3.970647e+01</td>\n",
       "      <td>9.199470e+00</td>\n",
       "      <td>1.023314e+01</td>\n",
       "      <td>6.158541e+00</td>\n",
       "      <td>3.159676e+01</td>\n",
       "    </tr>\n",
       "  </tbody>\n",
       "</table>\n",
       "</div>"
      ],
      "text/plain": [
       "              price      sqft_lot    sqft_above  sqft_basement  sqft_living15  \\\n",
       "count  2.114300e+04  2.114300e+04  2.114300e+04   2.114300e+04   2.114300e+04   \n",
       "mean   5.405107e+05 -2.688522e-18  2.150818e-17  -5.377044e-18   1.613113e-17   \n",
       "std    3.680751e+05  1.000000e+00  1.000000e+00   1.000000e+00   1.000000e+00   \n",
       "min    7.800000e+04 -3.534924e-01 -1.713004e+00  -6.595544e-01  -2.316378e+00   \n",
       "25%    3.220000e+05 -2.437353e-01 -7.110841e-01  -6.595544e-01  -7.252339e-01   \n",
       "50%    4.500000e+05 -1.812007e-01 -2.765165e-01  -6.595544e-01  -2.147845e-01   \n",
       "75%    6.450000e+05 -1.065694e-01  5.081193e-01   6.059871e-01   5.435974e-01   \n",
       "max    7.700000e+06  3.970647e+01  9.199470e+00   1.023314e+01   6.158541e+00   \n",
       "\n",
       "         sqft_lot15  \n",
       "count  2.114300e+04  \n",
       "mean  -8.065566e-18  \n",
       "std    1.000000e+00  \n",
       "min   -4.449122e-01  \n",
       "25%   -2.811611e-01  \n",
       "50%   -1.881884e-01  \n",
       "75%   -9.760813e-02  \n",
       "max    3.159676e+01  "
      ]
     },
     "execution_count": 40,
     "metadata": {},
     "output_type": "execute_result"
    }
   ],
   "source": [
    "df.describe()"
   ]
  },
  {
   "cell_type": "code",
   "execution_count": 41,
   "metadata": {
    "scrolled": false
   },
   "outputs": [
    {
     "data": {
      "image/png": "[encoded data removed]",
      "text/plain": [
       "<Figure size 432x288 with 1 Axes>"
      ]
     },
     "metadata": {},
     "output_type": "display_data"
    },
    {
     "data": {
      "image/png": "[encoded data removed]",
      "text/plain": [
       "<Figure size 432x288 with 1 Axes>"
      ]
     },
     "metadata": {},
     "output_type": "display_data"
    },
    {
     "data": {
      "image/png": "[encoded data removed]",
      "text/plain": [
       "<Figure size 432x288 with 1 Axes>"
      ]
     },
     "metadata": {},
     "output_type": "display_data"
    },
    {
     "data": {
      "image/png": "[encoded data removed]",
      "text/plain": [
       "<Figure size 432x288 with 1 Axes>"
      ]
     },
     "metadata": {},
     "output_type": "display_data"
    },
    {
     "data": {
      "image/png": "[encoded data removed]",
      "text/plain": [
       "<Figure size 432x288 with 1 Axes>"
      ]
     },
     "metadata": {},
     "output_type": "display_data"
    },
    {
     "data": {
      "image/png": "[encoded data removed]",
      "text/plain": [
       "<Figure size 432x288 with 1 Axes>"
      ]
     },
     "metadata": {},
     "output_type": "display_data"
    }
   ],
   "source": [
    "for column in ['sqft_lot', 'sqft_above', 'sqft_basement', 'sqft_living15', 'sqft_lot15', 'price']:\n",
    "    df[column].plot.hist(density=True )\n",
    "    df[column].plot.kde(label=column )\n",
    "    plt.legend()\n",
    "    plt.show()\n",
    "    \n",
    "# use only continuous variables "
   ]
  },
  {
   "cell_type": "markdown",
   "metadata": {},
   "source": [
    "Scrubbing our data seemed to worked, except for \"sqft_basement\" which displays some multimodality. "
   ]
  },
  {
   "cell_type": "code",
   "execution_count": 42,
   "metadata": {
    "scrolled": false
   },
   "outputs": [
    {
     "name": "stderr",
     "output_type": "stream",
     "text": [
      "/anaconda3/envs/learn-env/lib/python3.6/site-packages/scipy/stats/stats.py:1713: FutureWarning: Using a non-tuple sequence for multidimensional indexing is deprecated; use `arr[tuple(seq)]` instead of `arr[seq]`. In the future this will be interpreted as an array index, `arr[np.array(seq)]`, which will result either in an error or a different result.\n",
      "  return np.add.reduce(sorted[indexer] * weights, axis=axis) / sumval\n"
     ]
    },
    {
     "data": {
      "image/png": "[encoded data removed]",
      "text/plain": [
       "<Figure size 432x432 with 3 Axes>"
      ]
     },
     "metadata": {},
     "output_type": "display_data"
    },
    {
     "data": {
      "image/png": "[encoded data removed]",
      "text/plain": [
       "<Figure size 432x432 with 3 Axes>"
      ]
     },
     "metadata": {},
     "output_type": "display_data"
    },
    {
     "data": {
      "image/png": "[encoded data removed]",
      "text/plain": [
       "<Figure size 432x432 with 3 Axes>"
      ]
     },
     "metadata": {},
     "output_type": "display_data"
    },
    {
     "data": {
      "image/png": "[encoded data removed]",
      "text/plain": [
       "<Figure size 432x432 with 3 Axes>"
      ]
     },
     "metadata": {},
     "output_type": "display_data"
    },
    {
     "data": {
      "image/png": "[encoded data removed]",
      "text/plain": [
       "<Figure size 432x432 with 3 Axes>"
      ]
     },
     "metadata": {},
     "output_type": "display_data"
    }
   ],
   "source": [
    "for column in ['sqft_lot', 'sqft_above', 'sqft_basement', 'sqft_living15', 'sqft_lot15']:\n",
    "    sns.jointplot(x=column, y='price',\n",
    "                  data=df, \n",
    "                  kind='reg', \n",
    "                  label=column,\n",
    "                  joint_kws={'line_kws':{'color':'green'}})\n",
    "    plt.legend()\n",
    "    plt.show()"
   ]
  },
  {
   "cell_type": "markdown",
   "metadata": {},
   "source": [
    "The joint plot allows us to visualize a scatterplot, the distributions of two different columns, a kde plot, and a simple regression line all on the same visualization. Based on the results, all five indicators seem to have a positive relationship with price. "
   ]
  },
  {
   "cell_type": "code",
   "execution_count": 43,
   "metadata": {},
   "outputs": [
    {
     "data": {
      "text/html": [
       "<div>\n",
       "<style scoped>\n",
       "    .dataframe tbody tr th:only-of-type {\n",
       "        vertical-align: middle;\n",
       "    }\n",
       "\n",
       "    .dataframe tbody tr th {\n",
       "        vertical-align: top;\n",
       "    }\n",
       "\n",
       "    .dataframe thead th {\n",
       "        text-align: right;\n",
       "    }\n",
       "</style>\n",
       "<table border=\"1\" class=\"dataframe\">\n",
       "  <thead>\n",
       "    <tr style=\"text-align: right;\">\n",
       "      <th></th>\n",
       "      <th>price</th>\n",
       "      <th>sqft_lot</th>\n",
       "      <th>sqft_above</th>\n",
       "      <th>sqft_basement</th>\n",
       "      <th>sqft_living15</th>\n",
       "      <th>sqft_lot15</th>\n",
       "      <th>bedrooms_1</th>\n",
       "      <th>bedrooms_10</th>\n",
       "      <th>bedrooms_11</th>\n",
       "      <th>bedrooms_2</th>\n",
       "      <th>...</th>\n",
       "      <th>yr_built_2006</th>\n",
       "      <th>yr_built_2007</th>\n",
       "      <th>yr_built_2008</th>\n",
       "      <th>yr_built_2009</th>\n",
       "      <th>yr_built_2010</th>\n",
       "      <th>yr_built_2011</th>\n",
       "      <th>yr_built_2012</th>\n",
       "      <th>yr_built_2013</th>\n",
       "      <th>yr_built_2014</th>\n",
       "      <th>yr_built_2015</th>\n",
       "    </tr>\n",
       "  </thead>\n",
       "  <tbody>\n",
       "    <tr>\n",
       "      <th>0</th>\n",
       "      <td>221900.0</td>\n",
       "      <td>-0.229006</td>\n",
       "      <td>-0.735227</td>\n",
       "      <td>-0.659554</td>\n",
       "      <td>-0.943998</td>\n",
       "      <td>-0.260918</td>\n",
       "      <td>0</td>\n",
       "      <td>0</td>\n",
       "      <td>0</td>\n",
       "      <td>0</td>\n",
       "      <td>...</td>\n",
       "      <td>0</td>\n",
       "      <td>0</td>\n",
       "      <td>0</td>\n",
       "      <td>0</td>\n",
       "      <td>0</td>\n",
       "      <td>0</td>\n",
       "      <td>0</td>\n",
       "      <td>0</td>\n",
       "      <td>0</td>\n",
       "      <td>0</td>\n",
       "    </tr>\n",
       "    <tr>\n",
       "      <th>1</th>\n",
       "      <td>538000.0</td>\n",
       "      <td>-0.190373</td>\n",
       "      <td>0.459834</td>\n",
       "      <td>0.244404</td>\n",
       "      <td>-0.433549</td>\n",
       "      <td>-0.187710</td>\n",
       "      <td>0</td>\n",
       "      <td>0</td>\n",
       "      <td>0</td>\n",
       "      <td>0</td>\n",
       "      <td>...</td>\n",
       "      <td>0</td>\n",
       "      <td>0</td>\n",
       "      <td>0</td>\n",
       "      <td>0</td>\n",
       "      <td>0</td>\n",
       "      <td>0</td>\n",
       "      <td>0</td>\n",
       "      <td>0</td>\n",
       "      <td>0</td>\n",
       "      <td>0</td>\n",
       "    </tr>\n",
       "    <tr>\n",
       "      <th>2</th>\n",
       "      <td>180000.0</td>\n",
       "      <td>-0.123447</td>\n",
       "      <td>-1.230151</td>\n",
       "      <td>-0.659554</td>\n",
       "      <td>1.068631</td>\n",
       "      <td>-0.172141</td>\n",
       "      <td>0</td>\n",
       "      <td>0</td>\n",
       "      <td>0</td>\n",
       "      <td>1</td>\n",
       "      <td>...</td>\n",
       "      <td>0</td>\n",
       "      <td>0</td>\n",
       "      <td>0</td>\n",
       "      <td>0</td>\n",
       "      <td>0</td>\n",
       "      <td>0</td>\n",
       "      <td>0</td>\n",
       "      <td>0</td>\n",
       "      <td>0</td>\n",
       "      <td>0</td>\n",
       "    </tr>\n",
       "    <tr>\n",
       "      <th>3</th>\n",
       "      <td>604000.0</td>\n",
       "      <td>-0.244779</td>\n",
       "      <td>-0.892154</td>\n",
       "      <td>1.396951</td>\n",
       "      <td>-0.914829</td>\n",
       "      <td>-0.284842</td>\n",
       "      <td>0</td>\n",
       "      <td>0</td>\n",
       "      <td>0</td>\n",
       "      <td>0</td>\n",
       "      <td>...</td>\n",
       "      <td>0</td>\n",
       "      <td>0</td>\n",
       "      <td>0</td>\n",
       "      <td>0</td>\n",
       "      <td>0</td>\n",
       "      <td>0</td>\n",
       "      <td>0</td>\n",
       "      <td>0</td>\n",
       "      <td>0</td>\n",
       "      <td>0</td>\n",
       "    </tr>\n",
       "    <tr>\n",
       "      <th>4</th>\n",
       "      <td>510000.0</td>\n",
       "      <td>-0.170038</td>\n",
       "      <td>-0.131661</td>\n",
       "      <td>-0.659554</td>\n",
       "      <td>-0.273122</td>\n",
       "      <td>-0.192716</td>\n",
       "      <td>0</td>\n",
       "      <td>0</td>\n",
       "      <td>0</td>\n",
       "      <td>0</td>\n",
       "      <td>...</td>\n",
       "      <td>0</td>\n",
       "      <td>0</td>\n",
       "      <td>0</td>\n",
       "      <td>0</td>\n",
       "      <td>0</td>\n",
       "      <td>0</td>\n",
       "      <td>0</td>\n",
       "      <td>0</td>\n",
       "      <td>0</td>\n",
       "      <td>0</td>\n",
       "    </tr>\n",
       "  </tbody>\n",
       "</table>\n",
       "<p>5 rows × 193 columns</p>\n",
       "</div>"
      ],
      "text/plain": [
       "      price  sqft_lot  sqft_above  sqft_basement  sqft_living15  sqft_lot15  \\\n",
       "0  221900.0 -0.229006   -0.735227      -0.659554      -0.943998   -0.260918   \n",
       "1  538000.0 -0.190373    0.459834       0.244404      -0.433549   -0.187710   \n",
       "2  180000.0 -0.123447   -1.230151      -0.659554       1.068631   -0.172141   \n",
       "3  604000.0 -0.244779   -0.892154       1.396951      -0.914829   -0.284842   \n",
       "4  510000.0 -0.170038   -0.131661      -0.659554      -0.273122   -0.192716   \n",
       "\n",
       "   bedrooms_1  bedrooms_10  bedrooms_11  bedrooms_2      ...        \\\n",
       "0           0            0            0           0      ...         \n",
       "1           0            0            0           0      ...         \n",
       "2           0            0            0           1      ...         \n",
       "3           0            0            0           0      ...         \n",
       "4           0            0            0           0      ...         \n",
       "\n",
       "   yr_built_2006  yr_built_2007  yr_built_2008  yr_built_2009  yr_built_2010  \\\n",
       "0              0              0              0              0              0   \n",
       "1              0              0              0              0              0   \n",
       "2              0              0              0              0              0   \n",
       "3              0              0              0              0              0   \n",
       "4              0              0              0              0              0   \n",
       "\n",
       "   yr_built_2011  yr_built_2012  yr_built_2013  yr_built_2014  yr_built_2015  \n",
       "0              0              0              0              0              0  \n",
       "1              0              0              0              0              0  \n",
       "2              0              0              0              0              0  \n",
       "3              0              0              0              0              0  \n",
       "4              0              0              0              0              0  \n",
       "\n",
       "[5 rows x 193 columns]"
      ]
     },
     "execution_count": 43,
     "metadata": {},
     "output_type": "execute_result"
    }
   ],
   "source": [
    "df = pd.get_dummies(df)\n",
    "df.head()"
   ]
  },
  {
   "cell_type": "markdown",
   "metadata": {},
   "source": [
    "# M: Model\n",
    "An iterative process where we begin to build our regression model. "
   ]
  },
  {
   "cell_type": "code",
   "execution_count": 44,
   "metadata": {},
   "outputs": [
    {
     "name": "stdout",
     "output_type": "stream",
     "text": [
      "<class 'pandas.core.frame.DataFrame'>\n",
      "Int64Index: 21143 entries, 0 to 21596\n",
      "Data columns (total 20 columns):\n",
      "price             21143 non-null float64\n",
      "sqft_lot          21143 non-null float64\n",
      "sqft_above        21143 non-null float64\n",
      "sqft_basement     21143 non-null float64\n",
      "sqft_living15     21143 non-null float64\n",
      "sqft_lot15        21143 non-null float64\n",
      "bedrooms_1        21143 non-null uint8\n",
      "bedrooms_10       21143 non-null uint8\n",
      "bedrooms_11       21143 non-null uint8\n",
      "bedrooms_2        21143 non-null uint8\n",
      "bedrooms_3        21143 non-null uint8\n",
      "bedrooms_33       21143 non-null uint8\n",
      "bedrooms_4        21143 non-null uint8\n",
      "bedrooms_5        21143 non-null uint8\n",
      "bedrooms_6        21143 non-null uint8\n",
      "bedrooms_7        21143 non-null uint8\n",
      "bedrooms_8        21143 non-null uint8\n",
      "bedrooms_9        21143 non-null uint8\n",
      "bathrooms_0.5     21143 non-null uint8\n",
      "bathrooms_0.75    21143 non-null uint8\n",
      "dtypes: float64(6), uint8(14)\n",
      "memory usage: 1.4 MB\n"
     ]
    }
   ],
   "source": [
    "df.iloc[:,0:20].info()"
   ]
  },
  {
   "cell_type": "code",
   "execution_count": 45,
   "metadata": {},
   "outputs": [],
   "source": [
    "for cat_names in df.iloc[:,6:].columns:\n",
    "         df[cat_names] = df[cat_names].astype('category')"
   ]
  },
  {
   "cell_type": "code",
   "execution_count": 57,
   "metadata": {
    "scrolled": true
   },
   "outputs": [
    {
     "name": "stdout",
     "output_type": "stream",
     "text": [
      "<class 'pandas.core.frame.DataFrame'>\n",
      "Int64Index: 6329 entries, 20668 to 661\n",
      "Data columns (total 20 columns):\n",
      "price             6329 non-null float64\n",
      "sqft_lot          6329 non-null float64\n",
      "sqft_above        6329 non-null float64\n",
      "sqft_basement     6329 non-null float64\n",
      "sqft_living15     6329 non-null float64\n",
      "sqft_lot15        6329 non-null float64\n",
      "bedrooms_1        6329 non-null category\n",
      "bedrooms_2        6329 non-null category\n",
      "bedrooms_3        6329 non-null category\n",
      "bedrooms_33       6329 non-null category\n",
      "bedrooms_4        6329 non-null category\n",
      "bedrooms_5        6329 non-null category\n",
      "bedrooms_6        6329 non-null category\n",
      "bedrooms_7        6329 non-null category\n",
      "bedrooms_8        6329 non-null category\n",
      "bedrooms_9        6329 non-null category\n",
      "bathrooms_0.5     6329 non-null category\n",
      "bathrooms_0.75    6329 non-null category\n",
      "bathrooms_1.0     6329 non-null category\n",
      "bathrooms_1.25    6329 non-null category\n",
      "dtypes: category(14), float64(6)\n",
      "memory usage: 434.0 KB\n"
     ]
    }
   ],
   "source": [
    "df.iloc[:,0:20].info()"
   ]
  },
  {
   "cell_type": "markdown",
   "metadata": {},
   "source": [
    "After one-hot encoding our categorical variables, I did a quick check to see their datatypes. After inspection, those categories were changed to the categorical datatype, so they could be properly integrated into our model. "
   ]
  },
  {
   "cell_type": "code",
   "execution_count": 46,
   "metadata": {},
   "outputs": [
    {
     "data": {
      "text/html": [
       "<div>\n",
       "<style scoped>\n",
       "    .dataframe tbody tr th:only-of-type {\n",
       "        vertical-align: middle;\n",
       "    }\n",
       "\n",
       "    .dataframe tbody tr th {\n",
       "        vertical-align: top;\n",
       "    }\n",
       "\n",
       "    .dataframe thead th {\n",
       "        text-align: right;\n",
       "    }\n",
       "</style>\n",
       "<table border=\"1\" class=\"dataframe\">\n",
       "  <thead>\n",
       "    <tr style=\"text-align: right;\">\n",
       "      <th></th>\n",
       "      <th>price</th>\n",
       "      <th>sqft_lot</th>\n",
       "      <th>sqft_above</th>\n",
       "      <th>sqft_basement</th>\n",
       "      <th>sqft_living15</th>\n",
       "      <th>sqft_lot15</th>\n",
       "    </tr>\n",
       "  </thead>\n",
       "  <tbody>\n",
       "    <tr>\n",
       "      <th>count</th>\n",
       "      <td>2.114300e+04</td>\n",
       "      <td>2.114300e+04</td>\n",
       "      <td>2.114300e+04</td>\n",
       "      <td>2.114300e+04</td>\n",
       "      <td>2.114300e+04</td>\n",
       "      <td>2.114300e+04</td>\n",
       "    </tr>\n",
       "    <tr>\n",
       "      <th>mean</th>\n",
       "      <td>5.405107e+05</td>\n",
       "      <td>-2.688522e-18</td>\n",
       "      <td>2.150818e-17</td>\n",
       "      <td>-5.377044e-18</td>\n",
       "      <td>1.613113e-17</td>\n",
       "      <td>-8.065566e-18</td>\n",
       "    </tr>\n",
       "    <tr>\n",
       "      <th>std</th>\n",
       "      <td>3.680751e+05</td>\n",
       "      <td>1.000000e+00</td>\n",
       "      <td>1.000000e+00</td>\n",
       "      <td>1.000000e+00</td>\n",
       "      <td>1.000000e+00</td>\n",
       "      <td>1.000000e+00</td>\n",
       "    </tr>\n",
       "    <tr>\n",
       "      <th>min</th>\n",
       "      <td>7.800000e+04</td>\n",
       "      <td>-3.534924e-01</td>\n",
       "      <td>-1.713004e+00</td>\n",
       "      <td>-6.595544e-01</td>\n",
       "      <td>-2.316378e+00</td>\n",
       "      <td>-4.449122e-01</td>\n",
       "    </tr>\n",
       "    <tr>\n",
       "      <th>25%</th>\n",
       "      <td>3.220000e+05</td>\n",
       "      <td>-2.437353e-01</td>\n",
       "      <td>-7.110841e-01</td>\n",
       "      <td>-6.595544e-01</td>\n",
       "      <td>-7.252339e-01</td>\n",
       "      <td>-2.811611e-01</td>\n",
       "    </tr>\n",
       "    <tr>\n",
       "      <th>50%</th>\n",
       "      <td>4.500000e+05</td>\n",
       "      <td>-1.812007e-01</td>\n",
       "      <td>-2.765165e-01</td>\n",
       "      <td>-6.595544e-01</td>\n",
       "      <td>-2.147845e-01</td>\n",
       "      <td>-1.881884e-01</td>\n",
       "    </tr>\n",
       "    <tr>\n",
       "      <th>75%</th>\n",
       "      <td>6.450000e+05</td>\n",
       "      <td>-1.065694e-01</td>\n",
       "      <td>5.081193e-01</td>\n",
       "      <td>6.059871e-01</td>\n",
       "      <td>5.435974e-01</td>\n",
       "      <td>-9.760813e-02</td>\n",
       "    </tr>\n",
       "    <tr>\n",
       "      <th>max</th>\n",
       "      <td>7.700000e+06</td>\n",
       "      <td>3.970647e+01</td>\n",
       "      <td>9.199470e+00</td>\n",
       "      <td>1.023314e+01</td>\n",
       "      <td>6.158541e+00</td>\n",
       "      <td>3.159676e+01</td>\n",
       "    </tr>\n",
       "  </tbody>\n",
       "</table>\n",
       "</div>"
      ],
      "text/plain": [
       "              price      sqft_lot    sqft_above  sqft_basement  sqft_living15  \\\n",
       "count  2.114300e+04  2.114300e+04  2.114300e+04   2.114300e+04   2.114300e+04   \n",
       "mean   5.405107e+05 -2.688522e-18  2.150818e-17  -5.377044e-18   1.613113e-17   \n",
       "std    3.680751e+05  1.000000e+00  1.000000e+00   1.000000e+00   1.000000e+00   \n",
       "min    7.800000e+04 -3.534924e-01 -1.713004e+00  -6.595544e-01  -2.316378e+00   \n",
       "25%    3.220000e+05 -2.437353e-01 -7.110841e-01  -6.595544e-01  -7.252339e-01   \n",
       "50%    4.500000e+05 -1.812007e-01 -2.765165e-01  -6.595544e-01  -2.147845e-01   \n",
       "75%    6.450000e+05 -1.065694e-01  5.081193e-01   6.059871e-01   5.435974e-01   \n",
       "max    7.700000e+06  3.970647e+01  9.199470e+00   1.023314e+01   6.158541e+00   \n",
       "\n",
       "         sqft_lot15  \n",
       "count  2.114300e+04  \n",
       "mean  -8.065566e-18  \n",
       "std    1.000000e+00  \n",
       "min   -4.449122e-01  \n",
       "25%   -2.811611e-01  \n",
       "50%   -1.881884e-01  \n",
       "75%   -9.760813e-02  \n",
       "max    3.159676e+01  "
      ]
     },
     "execution_count": 46,
     "metadata": {},
     "output_type": "execute_result"
    }
   ],
   "source": [
    "df.describe()"
   ]
  },
  {
   "cell_type": "code",
   "execution_count": 48,
   "metadata": {},
   "outputs": [
    {
     "name": "stdout",
     "output_type": "stream",
     "text": [
      "King County Houses: Price~sqft_lot\n",
      "------------------------------\n",
      "['sqft_lot', 0.007732844956811813, 540510.7274275168, 32367.268318877967, 1.4301826266151583e-37]\n",
      "King County Houses: Price~sqft_above\n",
      "------------------------------\n",
      "['sqft_above', 0.36619760286513114, 540510.7274275168, 222737.91256067622, 0.0]\n",
      "King County Houses: Price~sqft_basement\n",
      "------------------------------\n",
      "['sqft_basement', 0.1056299556096223, 540510.7274275168, 119627.20209864987, 0.0]\n",
      "King County Houses: Price~sqft_living15\n",
      "------------------------------\n",
      "['sqft_living15', 0.3438828169564687, 540510.7274275168, 215844.8219573556, 0.0]\n",
      "King County Houses: Price~sqft_lot15\n",
      "------------------------------\n",
      "['sqft_lot15', 0.006920893744457479, 540510.7274275168, 30620.86730796857, 8.592560324246995e-34]\n"
     ]
    }
   ],
   "source": [
    "col_names = df.describe().columns.drop(['price'])\n",
    "results = [['ind_var', 'r_squared', 'intercept', 'slope', 'p-value' ]]\n",
    "for idx, val in enumerate(col_names):\n",
    "    print (\"King County Houses: Price~\" + val)\n",
    "    print (\"------------------------------\")\n",
    "\n",
    "    f = 'price~' + val\n",
    "    model = smf.ols(formula=f, data=df).fit()\n",
    "    X_new = pd.DataFrame({val: [df[val].min(), df[val].max()]});\n",
    "    preds = model.predict(X_new)\n",
    "    results.append([val, model.rsquared, model.params[0], model.params[1], model.pvalues[1] ])\n",
    "    print(results[idx+1])"
   ]
  },
  {
   "cell_type": "code",
   "execution_count": 49,
   "metadata": {
    "scrolled": true
   },
   "outputs": [
    {
     "data": {
      "text/html": [
       "<div>\n",
       "<style scoped>\n",
       "    .dataframe tbody tr th:only-of-type {\n",
       "        vertical-align: middle;\n",
       "    }\n",
       "\n",
       "    .dataframe tbody tr th {\n",
       "        vertical-align: top;\n",
       "    }\n",
       "\n",
       "    .dataframe thead th {\n",
       "        text-align: right;\n",
       "    }\n",
       "</style>\n",
       "<table border=\"1\" class=\"dataframe\">\n",
       "  <thead>\n",
       "    <tr style=\"text-align: right;\">\n",
       "      <th></th>\n",
       "      <th>0</th>\n",
       "      <th>1</th>\n",
       "      <th>2</th>\n",
       "      <th>3</th>\n",
       "      <th>4</th>\n",
       "    </tr>\n",
       "  </thead>\n",
       "  <tbody>\n",
       "    <tr>\n",
       "      <th>0</th>\n",
       "      <td>ind_var</td>\n",
       "      <td>r_squared</td>\n",
       "      <td>intercept</td>\n",
       "      <td>slope</td>\n",
       "      <td>p-value</td>\n",
       "    </tr>\n",
       "    <tr>\n",
       "      <th>1</th>\n",
       "      <td>sqft_lot</td>\n",
       "      <td>0.00773284</td>\n",
       "      <td>540511</td>\n",
       "      <td>32367.3</td>\n",
       "      <td>1.43018e-37</td>\n",
       "    </tr>\n",
       "    <tr>\n",
       "      <th>2</th>\n",
       "      <td>sqft_above</td>\n",
       "      <td>0.366198</td>\n",
       "      <td>540511</td>\n",
       "      <td>222738</td>\n",
       "      <td>0</td>\n",
       "    </tr>\n",
       "    <tr>\n",
       "      <th>3</th>\n",
       "      <td>sqft_basement</td>\n",
       "      <td>0.10563</td>\n",
       "      <td>540511</td>\n",
       "      <td>119627</td>\n",
       "      <td>0</td>\n",
       "    </tr>\n",
       "    <tr>\n",
       "      <th>4</th>\n",
       "      <td>sqft_living15</td>\n",
       "      <td>0.343883</td>\n",
       "      <td>540511</td>\n",
       "      <td>215845</td>\n",
       "      <td>0</td>\n",
       "    </tr>\n",
       "    <tr>\n",
       "      <th>5</th>\n",
       "      <td>sqft_lot15</td>\n",
       "      <td>0.00692089</td>\n",
       "      <td>540511</td>\n",
       "      <td>30620.9</td>\n",
       "      <td>8.59256e-34</td>\n",
       "    </tr>\n",
       "  </tbody>\n",
       "</table>\n",
       "</div>"
      ],
      "text/plain": [
       "               0           1          2        3            4\n",
       "0        ind_var   r_squared  intercept    slope      p-value\n",
       "1       sqft_lot  0.00773284     540511  32367.3  1.43018e-37\n",
       "2     sqft_above    0.366198     540511   222738            0\n",
       "3  sqft_basement     0.10563     540511   119627            0\n",
       "4  sqft_living15    0.343883     540511   215845            0\n",
       "5     sqft_lot15  0.00692089     540511  30620.9  8.59256e-34"
      ]
     },
     "execution_count": 49,
     "metadata": {},
     "output_type": "execute_result"
    }
   ],
   "source": [
    "pd.DataFrame(results)"
   ]
  },
  {
   "cell_type": "code",
   "execution_count": null,
   "metadata": {},
   "outputs": [],
   "source": [
    "my_cols = df.columns\n",
    "\n",
    "my_cols1 = []\n",
    "for col in my_cols: \n",
    "    my_cols.append(col.replace(\".\", \"\"))\n",
    "\n",
    "df.columns = mycols1"
   ]
  },
  {
   "cell_type": "code",
   "execution_count": null,
   "metadata": {},
   "outputs": [],
   "source": [
    "cols_bedroom= df.columns[6:15]\n",
    "cols_bathroom = df.columns[16:40]\n",
    "cols_floors = df.columns[41:46]\n",
    "cols_waterfront = df.columns[47:49]\n",
    "cols_view = df.columns[50:54]\n",
    "cols_condition = df.columns[55:59]\n",
    "cols_grade = df.columns[60:70]\n",
    "cols_yr_built = df.columns[71:187]\n",
    "\n",
    "cols = [cols_bedroom, cols_bathroom, cols_waterfront, cols_view, cols_condition, cols_grade, cols_yr_built]\n",
    "for col in cols:\n",
    "    sum_cols = \"+\".join(col)\n",
    "    form = \"price ~\" + sum_cols\n",
    "    model = smf.ols(formula= form, data= df).fit()\n",
    "    print(model.summary())"
   ]
  },
  {
   "cell_type": "code",
   "execution_count": 58,
   "metadata": {},
   "outputs": [
    {
     "data": {
      "text/html": [
       "<div>\n",
       "<style scoped>\n",
       "    .dataframe tbody tr th:only-of-type {\n",
       "        vertical-align: middle;\n",
       "    }\n",
       "\n",
       "    .dataframe tbody tr th {\n",
       "        vertical-align: top;\n",
       "    }\n",
       "\n",
       "    .dataframe thead th {\n",
       "        text-align: right;\n",
       "    }\n",
       "</style>\n",
       "<table border=\"1\" class=\"dataframe\">\n",
       "  <thead>\n",
       "    <tr style=\"text-align: right;\">\n",
       "      <th></th>\n",
       "      <th>price</th>\n",
       "      <th>sqft_above</th>\n",
       "      <th>sqft_basement</th>\n",
       "      <th>sqft_living15</th>\n",
       "    </tr>\n",
       "  </thead>\n",
       "  <tbody>\n",
       "    <tr>\n",
       "      <th>count</th>\n",
       "      <td>2.114300e+04</td>\n",
       "      <td>2.114300e+04</td>\n",
       "      <td>2.114300e+04</td>\n",
       "      <td>2.114300e+04</td>\n",
       "    </tr>\n",
       "    <tr>\n",
       "      <th>mean</th>\n",
       "      <td>5.405107e+05</td>\n",
       "      <td>2.150818e-17</td>\n",
       "      <td>-5.377044e-18</td>\n",
       "      <td>1.613113e-17</td>\n",
       "    </tr>\n",
       "    <tr>\n",
       "      <th>std</th>\n",
       "      <td>3.680751e+05</td>\n",
       "      <td>1.000000e+00</td>\n",
       "      <td>1.000000e+00</td>\n",
       "      <td>1.000000e+00</td>\n",
       "    </tr>\n",
       "    <tr>\n",
       "      <th>min</th>\n",
       "      <td>7.800000e+04</td>\n",
       "      <td>-1.713004e+00</td>\n",
       "      <td>-6.595544e-01</td>\n",
       "      <td>-2.316378e+00</td>\n",
       "    </tr>\n",
       "    <tr>\n",
       "      <th>25%</th>\n",
       "      <td>3.220000e+05</td>\n",
       "      <td>-7.110841e-01</td>\n",
       "      <td>-6.595544e-01</td>\n",
       "      <td>-7.252339e-01</td>\n",
       "    </tr>\n",
       "    <tr>\n",
       "      <th>50%</th>\n",
       "      <td>4.500000e+05</td>\n",
       "      <td>-2.765165e-01</td>\n",
       "      <td>-6.595544e-01</td>\n",
       "      <td>-2.147845e-01</td>\n",
       "    </tr>\n",
       "    <tr>\n",
       "      <th>75%</th>\n",
       "      <td>6.450000e+05</td>\n",
       "      <td>5.081193e-01</td>\n",
       "      <td>6.059871e-01</td>\n",
       "      <td>5.435974e-01</td>\n",
       "    </tr>\n",
       "    <tr>\n",
       "      <th>max</th>\n",
       "      <td>7.700000e+06</td>\n",
       "      <td>9.199470e+00</td>\n",
       "      <td>1.023314e+01</td>\n",
       "      <td>6.158541e+00</td>\n",
       "    </tr>\n",
       "  </tbody>\n",
       "</table>\n",
       "</div>"
      ],
      "text/plain": [
       "              price    sqft_above  sqft_basement  sqft_living15\n",
       "count  2.114300e+04  2.114300e+04   2.114300e+04   2.114300e+04\n",
       "mean   5.405107e+05  2.150818e-17  -5.377044e-18   1.613113e-17\n",
       "std    3.680751e+05  1.000000e+00   1.000000e+00   1.000000e+00\n",
       "min    7.800000e+04 -1.713004e+00  -6.595544e-01  -2.316378e+00\n",
       "25%    3.220000e+05 -7.110841e-01  -6.595544e-01  -7.252339e-01\n",
       "50%    4.500000e+05 -2.765165e-01  -6.595544e-01  -2.147845e-01\n",
       "75%    6.450000e+05  5.081193e-01   6.059871e-01   5.435974e-01\n",
       "max    7.700000e+06  9.199470e+00   1.023314e+01   6.158541e+00"
      ]
     },
     "execution_count": 58,
     "metadata": {},
     "output_type": "execute_result"
    }
   ],
   "source": [
    "df_final = df.drop([\"sqft_lot\", \"sqft_lot15\"], axis=1)\n",
    "df_final.describe()"
   ]
  },
  {
   "cell_type": "markdown",
   "metadata": {},
   "source": [
    "\"sqft_lot\" and \"sqft_lot15\" were dropped because they resulted with R-squared values of < 0.01 in the single linear models. "
   ]
  },
  {
   "cell_type": "code",
   "execution_count": 59,
   "metadata": {
    "scrolled": true
   },
   "outputs": [
    {
     "data": {
      "text/html": [
       "<div>\n",
       "<style scoped>\n",
       "    .dataframe tbody tr th:only-of-type {\n",
       "        vertical-align: middle;\n",
       "    }\n",
       "\n",
       "    .dataframe tbody tr th {\n",
       "        vertical-align: top;\n",
       "    }\n",
       "\n",
       "    .dataframe thead th {\n",
       "        text-align: right;\n",
       "    }\n",
       "</style>\n",
       "<table border=\"1\" class=\"dataframe\">\n",
       "  <thead>\n",
       "    <tr style=\"text-align: right;\">\n",
       "      <th></th>\n",
       "      <th>sqft_above</th>\n",
       "      <th>sqft_basement</th>\n",
       "      <th>sqft_living15</th>\n",
       "      <th>bedrooms_1</th>\n",
       "      <th>bedrooms_10</th>\n",
       "      <th>bedrooms_11</th>\n",
       "      <th>bedrooms_2</th>\n",
       "      <th>bedrooms_3</th>\n",
       "      <th>bedrooms_33</th>\n",
       "      <th>bedrooms_4</th>\n",
       "      <th>...</th>\n",
       "      <th>yr_built_2006</th>\n",
       "      <th>yr_built_2007</th>\n",
       "      <th>yr_built_2008</th>\n",
       "      <th>yr_built_2009</th>\n",
       "      <th>yr_built_2010</th>\n",
       "      <th>yr_built_2011</th>\n",
       "      <th>yr_built_2012</th>\n",
       "      <th>yr_built_2013</th>\n",
       "      <th>yr_built_2014</th>\n",
       "      <th>yr_built_2015</th>\n",
       "    </tr>\n",
       "  </thead>\n",
       "  <tbody>\n",
       "    <tr>\n",
       "      <th>0</th>\n",
       "      <td>-0.735227</td>\n",
       "      <td>-0.659554</td>\n",
       "      <td>-0.943998</td>\n",
       "      <td>0</td>\n",
       "      <td>0</td>\n",
       "      <td>0</td>\n",
       "      <td>0</td>\n",
       "      <td>1</td>\n",
       "      <td>0</td>\n",
       "      <td>0</td>\n",
       "      <td>...</td>\n",
       "      <td>0</td>\n",
       "      <td>0</td>\n",
       "      <td>0</td>\n",
       "      <td>0</td>\n",
       "      <td>0</td>\n",
       "      <td>0</td>\n",
       "      <td>0</td>\n",
       "      <td>0</td>\n",
       "      <td>0</td>\n",
       "      <td>0</td>\n",
       "    </tr>\n",
       "    <tr>\n",
       "      <th>1</th>\n",
       "      <td>0.459834</td>\n",
       "      <td>0.244404</td>\n",
       "      <td>-0.433549</td>\n",
       "      <td>0</td>\n",
       "      <td>0</td>\n",
       "      <td>0</td>\n",
       "      <td>0</td>\n",
       "      <td>1</td>\n",
       "      <td>0</td>\n",
       "      <td>0</td>\n",
       "      <td>...</td>\n",
       "      <td>0</td>\n",
       "      <td>0</td>\n",
       "      <td>0</td>\n",
       "      <td>0</td>\n",
       "      <td>0</td>\n",
       "      <td>0</td>\n",
       "      <td>0</td>\n",
       "      <td>0</td>\n",
       "      <td>0</td>\n",
       "      <td>0</td>\n",
       "    </tr>\n",
       "    <tr>\n",
       "      <th>2</th>\n",
       "      <td>-1.230151</td>\n",
       "      <td>-0.659554</td>\n",
       "      <td>1.068631</td>\n",
       "      <td>0</td>\n",
       "      <td>0</td>\n",
       "      <td>0</td>\n",
       "      <td>1</td>\n",
       "      <td>0</td>\n",
       "      <td>0</td>\n",
       "      <td>0</td>\n",
       "      <td>...</td>\n",
       "      <td>0</td>\n",
       "      <td>0</td>\n",
       "      <td>0</td>\n",
       "      <td>0</td>\n",
       "      <td>0</td>\n",
       "      <td>0</td>\n",
       "      <td>0</td>\n",
       "      <td>0</td>\n",
       "      <td>0</td>\n",
       "      <td>0</td>\n",
       "    </tr>\n",
       "    <tr>\n",
       "      <th>3</th>\n",
       "      <td>-0.892154</td>\n",
       "      <td>1.396951</td>\n",
       "      <td>-0.914829</td>\n",
       "      <td>0</td>\n",
       "      <td>0</td>\n",
       "      <td>0</td>\n",
       "      <td>0</td>\n",
       "      <td>0</td>\n",
       "      <td>0</td>\n",
       "      <td>1</td>\n",
       "      <td>...</td>\n",
       "      <td>0</td>\n",
       "      <td>0</td>\n",
       "      <td>0</td>\n",
       "      <td>0</td>\n",
       "      <td>0</td>\n",
       "      <td>0</td>\n",
       "      <td>0</td>\n",
       "      <td>0</td>\n",
       "      <td>0</td>\n",
       "      <td>0</td>\n",
       "    </tr>\n",
       "    <tr>\n",
       "      <th>4</th>\n",
       "      <td>-0.131661</td>\n",
       "      <td>-0.659554</td>\n",
       "      <td>-0.273122</td>\n",
       "      <td>0</td>\n",
       "      <td>0</td>\n",
       "      <td>0</td>\n",
       "      <td>0</td>\n",
       "      <td>1</td>\n",
       "      <td>0</td>\n",
       "      <td>0</td>\n",
       "      <td>...</td>\n",
       "      <td>0</td>\n",
       "      <td>0</td>\n",
       "      <td>0</td>\n",
       "      <td>0</td>\n",
       "      <td>0</td>\n",
       "      <td>0</td>\n",
       "      <td>0</td>\n",
       "      <td>0</td>\n",
       "      <td>0</td>\n",
       "      <td>0</td>\n",
       "    </tr>\n",
       "  </tbody>\n",
       "</table>\n",
       "<p>5 rows × 190 columns</p>\n",
       "</div>"
      ],
      "text/plain": [
       "   sqft_above  sqft_basement  sqft_living15 bedrooms_1 bedrooms_10  \\\n",
       "0   -0.735227      -0.659554      -0.943998          0           0   \n",
       "1    0.459834       0.244404      -0.433549          0           0   \n",
       "2   -1.230151      -0.659554       1.068631          0           0   \n",
       "3   -0.892154       1.396951      -0.914829          0           0   \n",
       "4   -0.131661      -0.659554      -0.273122          0           0   \n",
       "\n",
       "  bedrooms_11 bedrooms_2 bedrooms_3 bedrooms_33 bedrooms_4      ...       \\\n",
       "0           0          0          1           0          0      ...        \n",
       "1           0          0          1           0          0      ...        \n",
       "2           0          1          0           0          0      ...        \n",
       "3           0          0          0           0          1      ...        \n",
       "4           0          0          1           0          0      ...        \n",
       "\n",
       "  yr_built_2006 yr_built_2007 yr_built_2008 yr_built_2009 yr_built_2010  \\\n",
       "0             0             0             0             0             0   \n",
       "1             0             0             0             0             0   \n",
       "2             0             0             0             0             0   \n",
       "3             0             0             0             0             0   \n",
       "4             0             0             0             0             0   \n",
       "\n",
       "  yr_built_2011 yr_built_2012 yr_built_2013 yr_built_2014 yr_built_2015  \n",
       "0             0             0             0             0             0  \n",
       "1             0             0             0             0             0  \n",
       "2             0             0             0             0             0  \n",
       "3             0             0             0             0             0  \n",
       "4             0             0             0             0             0  \n",
       "\n",
       "[5 rows x 190 columns]"
      ]
     },
     "execution_count": 59,
     "metadata": {},
     "output_type": "execute_result"
    }
   ],
   "source": [
    "y = df_final[[\"price\"]]\n",
    "X = df_final.drop([\"price\"], axis=1)\n",
    "X.head()"
   ]
  },
  {
   "cell_type": "code",
   "execution_count": 61,
   "metadata": {},
   "outputs": [
    {
     "data": {
      "text/plain": [
       "(21143, 190)"
      ]
     },
     "execution_count": 61,
     "metadata": {},
     "output_type": "execute_result"
    }
   ],
   "source": [
    "X.shape"
   ]
  },
  {
   "cell_type": "code",
   "execution_count": 62,
   "metadata": {},
   "outputs": [],
   "source": [
    "from sklearn.feature_selection import RFE\n",
    "from sklearn.linear_model import LinearRegression\n",
    "linreg = LinearRegression()"
   ]
  },
  {
   "cell_type": "code",
   "execution_count": 65,
   "metadata": {
    "scrolled": true
   },
   "outputs": [
    {
     "name": "stdout",
     "output_type": "stream",
     "text": [
      "price    0.073968\n",
      "dtype: float64\n",
      "price    0.065571\n",
      "dtype: float64\n",
      "price    0.183251\n",
      "dtype: float64\n",
      "price    0.175845\n",
      "dtype: float64\n",
      "price    0.267482\n",
      "dtype: float64\n",
      "price    0.26084\n",
      "dtype: float64\n",
      "price    0.606994\n",
      "dtype: float64\n",
      "price    0.60343\n",
      "dtype: float64\n",
      "price    0.620841\n",
      "dtype: float64\n",
      "price    0.617402\n",
      "dtype: float64\n",
      "price    0.631919\n",
      "dtype: float64\n",
      "price    0.628581\n",
      "dtype: float64\n",
      "price    0.641489\n",
      "dtype: float64\n",
      "price    0.638238\n",
      "dtype: float64\n",
      "price    0.644724\n",
      "dtype: float64\n",
      "price    0.641502\n",
      "dtype: float64\n",
      "price    0.649149\n",
      "dtype: float64\n",
      "price    0.645967\n",
      "dtype: float64\n",
      "price    0.653646\n",
      "dtype: float64\n",
      "price    0.650505\n",
      "dtype: float64\n",
      "price    0.661151\n",
      "dtype: float64\n",
      "price    0.658079\n",
      "dtype: float64\n",
      "price    0.667139\n",
      "dtype: float64\n",
      "price    0.664121\n",
      "dtype: float64\n",
      "price    0.673616\n",
      "dtype: float64\n",
      "price    0.670657\n",
      "dtype: float64\n",
      "price    0.679067\n",
      "dtype: float64\n",
      "price    0.676157\n",
      "dtype: float64\n",
      "price    0.680543\n",
      "dtype: float64\n",
      "price    0.677646\n",
      "dtype: float64\n",
      "price    0.681231\n",
      "dtype: float64\n",
      "price    0.678341\n",
      "dtype: float64\n",
      "price    0.681397\n",
      "dtype: float64\n",
      "price    0.678507\n",
      "dtype: float64\n",
      "price    0.681531\n",
      "dtype: float64\n",
      "price    0.678643\n",
      "dtype: float64\n",
      "price    0.681558\n",
      "dtype: float64\n",
      "price    0.67867\n",
      "dtype: float64\n"
     ]
    }
   ],
   "source": [
    "r_list = []\n",
    "adj_r_list = []\n",
    "list_n = list(range(5,190,10))\n",
    "for n in list_n: \n",
    "    select_n = RFE(linreg, n_features_to_select = n)\n",
    "    select_n = select_n.fit(X, np.ravel(y))\n",
    "    selected_columns = X.columns[select_n.support_ ]\n",
    "    linreg.fit(X[selected_columns],y)\n",
    "    yhat = linreg.predict(X[selected_columns])\n",
    "    SS_Residual = np.sum((y-yhat)**2)\n",
    "    SS_Total = np.sum((y-np.mean(y))**2)\n",
    "    r_squared = 1 - (float(SS_Residual))/SS_Total\n",
    "    print(r_squared)\n",
    "    adjusted_r_squared = 1 - (1-r_squared)*(len(y)-1)/(len(y)-X.shape[1]-1)\n",
    "    print(adjusted_r_squared)\n",
    "    r_list.append(r_squared)\n",
    "    adj_r_list.append(adjusted_r_squared)"
   ]
  },
  {
   "cell_type": "code",
   "execution_count": 75,
   "metadata": {},
   "outputs": [
    {
     "data": {
      "image/png": "[encoded data removed]",
      "text/plain": [
       "<Figure size 864x720 with 1 Axes>"
      ]
     },
     "metadata": {},
     "output_type": "display_data"
    }
   ],
   "source": [
    "# elbow plot - where it plateaus is how many features you want \n",
    "# x is features, y is r-square\n",
    "\n",
    "fig = plt.figure(figsize=(12,10))\n",
    "plt.plot(list(range(5, 190, 10)), r_list)\n",
    "plt.xlabel('Features')\n",
    "plt.ylabel('R-Squared')\n",
    "plt.title(\"Features vs. R-Squared Elbow Plot\")\n",
    "plt.show()"
   ]
  },
  {
   "cell_type": "markdown",
   "metadata": {},
   "source": [
    "Feature ranking with recursive feature elimination. At around 50 features added, we can generously say that R-squared values have plateaued and it would be unnecessary to add more. Even at 50 features, we run the risk of overfitting our model. "
   ]
  },
  {
   "cell_type": "code",
   "execution_count": 72,
   "metadata": {
    "scrolled": true
   },
   "outputs": [
    {
     "name": "stdout",
     "output_type": "stream",
     "text": [
      "price    1.243500e+11\n",
      "dtype: float64\n",
      "price    1.298949e+11\n",
      "dtype: float64\n",
      "price    1.001173e+11\n",
      "dtype: float64\n",
      "price    1.056362e+11\n",
      "dtype: float64\n",
      "price    9.268395e+10\n",
      "dtype: float64\n",
      "price    1.011462e+11\n",
      "dtype: float64\n",
      "price    7.927276e+10\n",
      "dtype: float64\n",
      "price    8.609437e+10\n",
      "dtype: float64\n",
      "price    7.128083e+10\n",
      "dtype: float64\n",
      "price    7.789340e+10\n",
      "dtype: float64\n",
      "price    5.012719e+10\n",
      "dtype: float64\n",
      "price    4.246571e+29\n",
      "dtype: float64\n",
      "price    4.850401e+10\n",
      "dtype: float64\n",
      "price    1.664759e+31\n",
      "dtype: float64\n",
      "price    4.788360e+10\n",
      "dtype: float64\n",
      "price    5.964676e+31\n",
      "dtype: float64\n",
      "price    4.725823e+10\n",
      "dtype: float64\n",
      "price    1.365219e+29\n",
      "dtype: float64\n",
      "price    4.667615e+10\n",
      "dtype: float64\n",
      "price    1.544398e+27\n",
      "dtype: float64\n",
      "price    4.552546e+10\n",
      "dtype: float64\n",
      "price    1.570474e+30\n",
      "dtype: float64\n",
      "price    4.462813e+10\n",
      "dtype: float64\n",
      "price    1.827359e+29\n",
      "dtype: float64\n",
      "price    4.375870e+10\n",
      "dtype: float64\n",
      "price    4.049968e+29\n",
      "dtype: float64\n",
      "price    4.309968e+10\n",
      "dtype: float64\n",
      "price    1.053112e+30\n",
      "dtype: float64\n",
      "price    4.291903e+10\n",
      "dtype: float64\n",
      "price    8.262001e+27\n",
      "dtype: float64\n",
      "price    4.281585e+10\n",
      "dtype: float64\n",
      "price    2.237256e+30\n",
      "dtype: float64\n",
      "price    4.278456e+10\n",
      "dtype: float64\n",
      "price    4.170725e+31\n",
      "dtype: float64\n",
      "price    4.275732e+10\n",
      "dtype: float64\n",
      "price    1.303720e+30\n",
      "dtype: float64\n",
      "price    4.275196e+10\n",
      "dtype: float64\n",
      "price    9.193597e+30\n",
      "dtype: float64\n"
     ]
    }
   ],
   "source": [
    "from sklearn.model_selection import train_test_split\n",
    "X_train, X_test, y_train, y_test = train_test_split(X, y, test_size = 0.2, random_state=4)\n",
    "\n",
    "MSE_test = []\n",
    "MSE_train = []\n",
    "list_n = list(range(5,190,10))\n",
    "for n in list_n: \n",
    "    select_n = RFE(linreg, n_features_to_select = n)\n",
    "    select_n = select_n.fit(X_train, np.ravel(y_train))\n",
    "    selected_columns = X.columns[select_n.support_ ]\n",
    "    linreg.fit(X_train[selected_columns],y_train)\n",
    "    yhat_train = linreg.predict(X_train[selected_columns])\n",
    "    yhat_test = linreg.predict(X_test[selected_columns])\n",
    "    mse_train = np.sum((y_train-yhat_train)**2)/len(y_train)\n",
    "    mse_test =np.sum((y_test-yhat_test)**2)/len(y_test)\n",
    "    print(mse_train)\n",
    "    print(mse_test)\n",
    "    MSE_test.append(mse_test)\n",
    "    MSE_train.append(mse_train)"
   ]
  },
  {
   "cell_type": "markdown",
   "metadata": {},
   "source": [
    "Feature ranking with recursive feature elimination with a train-test-split. But this time we are looking at Mean Squared Error(MSE) instead of R-squared and adjusted R-squared. "
   ]
  },
  {
   "cell_type": "code",
   "execution_count": 85,
   "metadata": {},
   "outputs": [
    {
     "data": {
      "image/png": "[encoded data removed]",
      "text/plain": [
       "<Figure size 864x720 with 1 Axes>"
      ]
     },
     "metadata": {},
     "output_type": "display_data"
    }
   ],
   "source": [
    "fig = plt.figure(figsize=(12,10))\n",
    "plt.scatter(list(range(5, 190, 10)), MSE_test, label=\"MSE Test\")\n",
    "plt.scatter(list(range(5, 190, 10)), MSE_train, label=\"MSE Train\")\n",
    "plt.xlabel('Features')\n",
    "plt.ylabel('MSE')\n",
    "plt.title(\"Features vs. MSE\")\n",
    "plt.legend()\n",
    "plt.show()"
   ]
  },
  {
   "cell_type": "markdown",
   "metadata": {},
   "source": [
    "As we can see, the train Mean Square Error(MSE) significantly starts to deviate from the test MSE at around 50 features added. Thus showing we should be a lot more selective when picking features for our model. "
   ]
  },
  {
   "cell_type": "code",
   "execution_count": 83,
   "metadata": {},
   "outputs": [
    {
     "data": {
      "text/plain": [
       "array([-4.93596835e+10, -9.38955099e+32, -4.10737047e+10, -3.12987392e+31,\n",
       "       -3.72554349e+32, -5.02590610e+10, -4.58978879e+10, -9.20427718e+31,\n",
       "       -4.48212394e+10, -8.14453646e+29])"
      ]
     },
     "execution_count": 83,
     "metadata": {},
     "output_type": "execute_result"
    }
   ],
   "source": [
    "from sklearn.metrics import mean_squared_error\n",
    "from sklearn.model_selection import cross_val_score\n",
    "\n",
    "# select 30 best predictors\n",
    "\n",
    "select_30 = RFE(linreg, n_features_to_select = 30)\n",
    "select_30 = select_n.fit(X, np.ravel(y))\n",
    "selected_columns = X.columns[select_n.support_]\n",
    "\n",
    "cv_10_results = cross_val_score(linreg, X[selected_columns], y, cv=10, scoring=\"neg_mean_squared_error\")\n",
    "\n",
    "cv_10_results"
   ]
  },
  {
   "cell_type": "markdown",
   "metadata": {},
   "source": [
    "10-fold cross validation with the final model"
   ]
  },
  {
   "cell_type": "code",
   "execution_count": 84,
   "metadata": {},
   "outputs": [
    {
     "data": {
      "text/plain": [
       "Index(['bedrooms_1', 'bedrooms_10', 'bedrooms_11', 'bedrooms_2', 'bedrooms_3',\n",
       "       'bedrooms_33', 'bedrooms_4', 'bedrooms_5', 'bedrooms_6', 'bedrooms_7',\n",
       "       ...\n",
       "       'yr_built_2006', 'yr_built_2007', 'yr_built_2008', 'yr_built_2009',\n",
       "       'yr_built_2010', 'yr_built_2011', 'yr_built_2012', 'yr_built_2013',\n",
       "       'yr_built_2014', 'yr_built_2015'],\n",
       "      dtype='object', length=185)"
      ]
     },
     "execution_count": 84,
     "metadata": {},
     "output_type": "execute_result"
    }
   ],
   "source": [
    "selected_columns"
   ]
  },
  {
   "cell_type": "markdown",
   "metadata": {},
   "source": [
    "After using Recursive Feature Elimination (RFE) to select the 30 best predictors, we see that the bedroom and year built features were the best features for our model. "
   ]
  },
  {
   "cell_type": "code",
   "execution_count": null,
   "metadata": {},
   "outputs": [],
   "source": []
  }
 ],
 "metadata": {
  "kernelspec": {
   "display_name": "Python 3",
   "language": "python",
   "name": "python3"
  },
  "language_info": {
   "codemirror_mode": {
    "name": "ipython",
    "version": 3
   },
   "file_extension": ".py",
   "mimetype": "text/x-python",
   "name": "python",
   "nbconvert_exporter": "python",
   "pygments_lexer": "ipython3",
   "version": "3.6.6"
  }
 },
 "nbformat": 4,
 "nbformat_minor": 2
}
