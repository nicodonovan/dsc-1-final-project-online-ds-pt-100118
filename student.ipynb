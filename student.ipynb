{
 "cells": [
  {
   "cell_type": "markdown",
   "metadata": {},
   "source": [
    "## Final Project Submission\n",
    "\n",
    "Please fill out:\n",
    "* Student name: **Nicholas Donovan**\n",
    "* Student pace: self paced / **part time** / full time\n",
    "* Scheduled project review date/time: \n",
    "* Instructor name: \n",
    "* Blog post URL:\n"
   ]
  },
  {
   "cell_type": "code",
   "execution_count": null,
   "metadata": {},
   "outputs": [],
   "source": [
    "# Your code here - remember to use markdown cells for comments as well!"
   ]
  },
  {
   "cell_type": "markdown",
   "metadata": {},
   "source": [
    "# OSEMN Model\n",
    "\n",
    "For our current project, our team decided on using the OSEMN model as the backbone for our analysis. We felt that it was the most straightforward approach, giving us a lot of flexibility and versatility to apply our findings to a wide-ranging audience. "
   ]
  },
  {
   "cell_type": "markdown",
   "metadata": {},
   "source": [
    "# O: Obtain\n",
    "We will be using the King County House Sales dataset to predict the sale price of houses as accurately as possible."
   ]
  },
  {
   "cell_type": "code",
   "execution_count": 1,
   "metadata": {
    "scrolled": true
   },
   "outputs": [
    {
     "data": {
      "text/html": [
       "<div>\n",
       "<style scoped>\n",
       "    .dataframe tbody tr th:only-of-type {\n",
       "        vertical-align: middle;\n",
       "    }\n",
       "\n",
       "    .dataframe tbody tr th {\n",
       "        vertical-align: top;\n",
       "    }\n",
       "\n",
       "    .dataframe thead th {\n",
       "        text-align: right;\n",
       "    }\n",
       "</style>\n",
       "<table border=\"1\" class=\"dataframe\">\n",
       "  <thead>\n",
       "    <tr style=\"text-align: right;\">\n",
       "      <th></th>\n",
       "      <th>id</th>\n",
       "      <th>date</th>\n",
       "      <th>price</th>\n",
       "      <th>bedrooms</th>\n",
       "      <th>bathrooms</th>\n",
       "      <th>sqft_living</th>\n",
       "      <th>sqft_lot</th>\n",
       "      <th>floors</th>\n",
       "      <th>waterfront</th>\n",
       "      <th>view</th>\n",
       "      <th>...</th>\n",
       "      <th>grade</th>\n",
       "      <th>sqft_above</th>\n",
       "      <th>sqft_basement</th>\n",
       "      <th>yr_built</th>\n",
       "      <th>yr_renovated</th>\n",
       "      <th>zipcode</th>\n",
       "      <th>lat</th>\n",
       "      <th>long</th>\n",
       "      <th>sqft_living15</th>\n",
       "      <th>sqft_lot15</th>\n",
       "    </tr>\n",
       "  </thead>\n",
       "  <tbody>\n",
       "    <tr>\n",
       "      <th>0</th>\n",
       "      <td>7129300520</td>\n",
       "      <td>10/13/2014</td>\n",
       "      <td>221900.0</td>\n",
       "      <td>3</td>\n",
       "      <td>1.00</td>\n",
       "      <td>1180</td>\n",
       "      <td>5650</td>\n",
       "      <td>1.0</td>\n",
       "      <td>NaN</td>\n",
       "      <td>0.0</td>\n",
       "      <td>...</td>\n",
       "      <td>7</td>\n",
       "      <td>1180</td>\n",
       "      <td>0.0</td>\n",
       "      <td>1955</td>\n",
       "      <td>0.0</td>\n",
       "      <td>98178</td>\n",
       "      <td>47.5112</td>\n",
       "      <td>-122.257</td>\n",
       "      <td>1340</td>\n",
       "      <td>5650</td>\n",
       "    </tr>\n",
       "    <tr>\n",
       "      <th>1</th>\n",
       "      <td>6414100192</td>\n",
       "      <td>12/9/2014</td>\n",
       "      <td>538000.0</td>\n",
       "      <td>3</td>\n",
       "      <td>2.25</td>\n",
       "      <td>2570</td>\n",
       "      <td>7242</td>\n",
       "      <td>2.0</td>\n",
       "      <td>0.0</td>\n",
       "      <td>0.0</td>\n",
       "      <td>...</td>\n",
       "      <td>7</td>\n",
       "      <td>2170</td>\n",
       "      <td>400.0</td>\n",
       "      <td>1951</td>\n",
       "      <td>1991.0</td>\n",
       "      <td>98125</td>\n",
       "      <td>47.7210</td>\n",
       "      <td>-122.319</td>\n",
       "      <td>1690</td>\n",
       "      <td>7639</td>\n",
       "    </tr>\n",
       "    <tr>\n",
       "      <th>2</th>\n",
       "      <td>5631500400</td>\n",
       "      <td>2/25/2015</td>\n",
       "      <td>180000.0</td>\n",
       "      <td>2</td>\n",
       "      <td>1.00</td>\n",
       "      <td>770</td>\n",
       "      <td>10000</td>\n",
       "      <td>1.0</td>\n",
       "      <td>0.0</td>\n",
       "      <td>0.0</td>\n",
       "      <td>...</td>\n",
       "      <td>6</td>\n",
       "      <td>770</td>\n",
       "      <td>0.0</td>\n",
       "      <td>1933</td>\n",
       "      <td>NaN</td>\n",
       "      <td>98028</td>\n",
       "      <td>47.7379</td>\n",
       "      <td>-122.233</td>\n",
       "      <td>2720</td>\n",
       "      <td>8062</td>\n",
       "    </tr>\n",
       "    <tr>\n",
       "      <th>3</th>\n",
       "      <td>2487200875</td>\n",
       "      <td>12/9/2014</td>\n",
       "      <td>604000.0</td>\n",
       "      <td>4</td>\n",
       "      <td>3.00</td>\n",
       "      <td>1960</td>\n",
       "      <td>5000</td>\n",
       "      <td>1.0</td>\n",
       "      <td>0.0</td>\n",
       "      <td>0.0</td>\n",
       "      <td>...</td>\n",
       "      <td>7</td>\n",
       "      <td>1050</td>\n",
       "      <td>910.0</td>\n",
       "      <td>1965</td>\n",
       "      <td>0.0</td>\n",
       "      <td>98136</td>\n",
       "      <td>47.5208</td>\n",
       "      <td>-122.393</td>\n",
       "      <td>1360</td>\n",
       "      <td>5000</td>\n",
       "    </tr>\n",
       "    <tr>\n",
       "      <th>4</th>\n",
       "      <td>1954400510</td>\n",
       "      <td>2/18/2015</td>\n",
       "      <td>510000.0</td>\n",
       "      <td>3</td>\n",
       "      <td>2.00</td>\n",
       "      <td>1680</td>\n",
       "      <td>8080</td>\n",
       "      <td>1.0</td>\n",
       "      <td>0.0</td>\n",
       "      <td>0.0</td>\n",
       "      <td>...</td>\n",
       "      <td>8</td>\n",
       "      <td>1680</td>\n",
       "      <td>0.0</td>\n",
       "      <td>1987</td>\n",
       "      <td>0.0</td>\n",
       "      <td>98074</td>\n",
       "      <td>47.6168</td>\n",
       "      <td>-122.045</td>\n",
       "      <td>1800</td>\n",
       "      <td>7503</td>\n",
       "    </tr>\n",
       "  </tbody>\n",
       "</table>\n",
       "<p>5 rows × 21 columns</p>\n",
       "</div>"
      ],
      "text/plain": [
       "           id        date     price  bedrooms  bathrooms  sqft_living  \\\n",
       "0  7129300520  10/13/2014  221900.0         3       1.00         1180   \n",
       "1  6414100192   12/9/2014  538000.0         3       2.25         2570   \n",
       "2  5631500400   2/25/2015  180000.0         2       1.00          770   \n",
       "3  2487200875   12/9/2014  604000.0         4       3.00         1960   \n",
       "4  1954400510   2/18/2015  510000.0         3       2.00         1680   \n",
       "\n",
       "   sqft_lot  floors  waterfront  view     ...      grade  sqft_above  \\\n",
       "0      5650     1.0         NaN   0.0     ...          7        1180   \n",
       "1      7242     2.0         0.0   0.0     ...          7        2170   \n",
       "2     10000     1.0         0.0   0.0     ...          6         770   \n",
       "3      5000     1.0         0.0   0.0     ...          7        1050   \n",
       "4      8080     1.0         0.0   0.0     ...          8        1680   \n",
       "\n",
       "   sqft_basement yr_built  yr_renovated  zipcode      lat     long  \\\n",
       "0            0.0     1955           0.0    98178  47.5112 -122.257   \n",
       "1          400.0     1951        1991.0    98125  47.7210 -122.319   \n",
       "2            0.0     1933           NaN    98028  47.7379 -122.233   \n",
       "3          910.0     1965           0.0    98136  47.5208 -122.393   \n",
       "4            0.0     1987           0.0    98074  47.6168 -122.045   \n",
       "\n",
       "   sqft_living15  sqft_lot15  \n",
       "0           1340        5650  \n",
       "1           1690        7639  \n",
       "2           2720        8062  \n",
       "3           1360        5000  \n",
       "4           1800        7503  \n",
       "\n",
       "[5 rows x 21 columns]"
      ]
     },
     "execution_count": 1,
     "metadata": {},
     "output_type": "execute_result"
    }
   ],
   "source": [
    "import pandas as pd\n",
    "import numpy as np\n",
    "import seaborn as sns\n",
    "import matplotlib.pyplot as plt\n",
    "import statsmodels.formula.api as smf\n",
    "%matplotlib inline\n",
    "# loading the data into a dataframe\n",
    "df = pd.read_csv('kc_house_data.csv')\n",
    "df.head()"
   ]
  },
  {
   "cell_type": "code",
   "execution_count": 2,
   "metadata": {
    "scrolled": true
   },
   "outputs": [
    {
     "data": {
      "text/plain": [
       "21597"
      ]
     },
     "execution_count": 2,
     "metadata": {},
     "output_type": "execute_result"
    }
   ],
   "source": [
    "len(df)"
   ]
  },
  {
   "cell_type": "markdown",
   "metadata": {},
   "source": [
    "21 total columns\n",
    "\n",
    "21,597 total entries"
   ]
  },
  {
   "cell_type": "markdown",
   "metadata": {},
   "source": [
    "# S: Scrub \n",
    "Here we will be further investigating our dataset. This includes identifying and removing null values, replacing values, distinguishing between continuous and categorical columns and converting formats. As well as any other issues that may come up during this exploratory process. "
   ]
  },
  {
   "cell_type": "code",
   "execution_count": 3,
   "metadata": {},
   "outputs": [
    {
     "name": "stdout",
     "output_type": "stream",
     "text": [
      "<class 'pandas.core.frame.DataFrame'>\n",
      "RangeIndex: 21597 entries, 0 to 21596\n",
      "Data columns (total 21 columns):\n",
      "id               21597 non-null int64\n",
      "date             21597 non-null object\n",
      "price            21597 non-null float64\n",
      "bedrooms         21597 non-null int64\n",
      "bathrooms        21597 non-null float64\n",
      "sqft_living      21597 non-null int64\n",
      "sqft_lot         21597 non-null int64\n",
      "floors           21597 non-null float64\n",
      "waterfront       19221 non-null float64\n",
      "view             21534 non-null float64\n",
      "condition        21597 non-null int64\n",
      "grade            21597 non-null int64\n",
      "sqft_above       21597 non-null int64\n",
      "sqft_basement    21597 non-null object\n",
      "yr_built         21597 non-null int64\n",
      "yr_renovated     17755 non-null float64\n",
      "zipcode          21597 non-null int64\n",
      "lat              21597 non-null float64\n",
      "long             21597 non-null float64\n",
      "sqft_living15    21597 non-null int64\n",
      "sqft_lot15       21597 non-null int64\n",
      "dtypes: float64(8), int64(11), object(2)\n",
      "memory usage: 3.5+ MB\n"
     ]
    }
   ],
   "source": [
    "df.info()"
   ]
  },
  {
   "cell_type": "markdown",
   "metadata": {},
   "source": [
    "Because modeling is an iterative process, to reduce runtimes as we continuously train our model, we need to subset our data. To do this, we took a random sample of our data using the sample function in pandas. Our subset (sdf) contains a random 30% of our data. "
   ]
  },
  {
   "cell_type": "code",
   "execution_count": 4,
   "metadata": {},
   "outputs": [],
   "source": [
    "sdf = df.sample(frac=0.3)"
   ]
  },
  {
   "cell_type": "code",
   "execution_count": 5,
   "metadata": {},
   "outputs": [
    {
     "name": "stdout",
     "output_type": "stream",
     "text": [
      "<class 'pandas.core.frame.DataFrame'>\n",
      "Int64Index: 6479 entries, 12727 to 11965\n",
      "Data columns (total 21 columns):\n",
      "id               6479 non-null int64\n",
      "date             6479 non-null object\n",
      "price            6479 non-null float64\n",
      "bedrooms         6479 non-null int64\n",
      "bathrooms        6479 non-null float64\n",
      "sqft_living      6479 non-null int64\n",
      "sqft_lot         6479 non-null int64\n",
      "floors           6479 non-null float64\n",
      "waterfront       5758 non-null float64\n",
      "view             6453 non-null float64\n",
      "condition        6479 non-null int64\n",
      "grade            6479 non-null int64\n",
      "sqft_above       6479 non-null int64\n",
      "sqft_basement    6479 non-null object\n",
      "yr_built         6479 non-null int64\n",
      "yr_renovated     5332 non-null float64\n",
      "zipcode          6479 non-null int64\n",
      "lat              6479 non-null float64\n",
      "long             6479 non-null float64\n",
      "sqft_living15    6479 non-null int64\n",
      "sqft_lot15       6479 non-null int64\n",
      "dtypes: float64(8), int64(11), object(2)\n",
      "memory usage: 1.1+ MB\n"
     ]
    }
   ],
   "source": [
    "sdf.info()"
   ]
  },
  {
   "cell_type": "code",
   "execution_count": 6,
   "metadata": {},
   "outputs": [],
   "source": [
    "to_drop = [\"id\", \"date\"]\n",
    "sdf.drop(to_drop, axis=1, inplace=True)"
   ]
  },
  {
   "cell_type": "markdown",
   "metadata": {},
   "source": [
    "The \"id\" and \"date\" columns were dropped as they will not be used for this analysis and model building. "
   ]
  },
  {
   "cell_type": "markdown",
   "metadata": {},
   "source": [
    "Based on our findings from the dataframe's metadata, I noticed that only two columns were cast at strings (object). \"Date\" seemed to be correctly cast as a string, but \"sqft_basement\" did not seem appropriate as a string, so it was further inspected. "
   ]
  },
  {
   "cell_type": "code",
   "execution_count": 7,
   "metadata": {
    "scrolled": true
   },
   "outputs": [
    {
     "data": {
      "text/plain": [
       "array(['0.0', '?', '850.0', '820.0', '760.0', '1070.0', '990.0', '1030.0',\n",
       "       '920.0', '860.0', '2060.0', '700.0', '1060.0', '1110.0', '910.0',\n",
       "       '940.0', '900.0', '1000.0', '1050.0', '870.0', '530.0', '1040.0',\n",
       "       '240.0', '1760.0', '810.0', '750.0', '1500.0', '1190.0', '590.0',\n",
       "       '300.0', '320.0', '830.0', '500.0', '620.0', '310.0', '1580.0',\n",
       "       '570.0', '150.0', '380.0', '540.0', '1320.0', '600.0', '1130.0',\n",
       "       '1180.0', '1090.0', '800.0', '1220.0', '430.0', '330.0', '840.0',\n",
       "       '1100.0', '220.0', '390.0', '980.0', '1230.0', '630.0', '950.0',\n",
       "       '670.0', '370.0', '80.0', '880.0', '420.0', '1010.0', '1300.0',\n",
       "       '1330.0', '560.0', '2200.0', '650.0', '1160.0', '1410.0', '890.0',\n",
       "       '1990.0', '290.0', '460.0', '690.0', '160.0', '90.0', '790.0',\n",
       "       '610.0', '266.0', '730.0', '65.0', '360.0', '270.0', '450.0',\n",
       "       '1480.0', '490.0', '1460.0', '250.0', '60.0', '140.0', '520.0',\n",
       "       '1140.0', '1240.0', '200.0', '1250.0', '1210.0', '660.0', '680.0',\n",
       "       '1150.0', '1680.0', '2030.0', '1200.0', '1450.0', '930.0', '770.0',\n",
       "       '210.0', '510.0', '120.0', '480.0', '970.0', '1350.0', '2170.0',\n",
       "       '720.0', '640.0', '1020.0', '190.0', '580.0', '1120.0', '170.0',\n",
       "       '768.0', '1600.0', '145.0', '2810.0', '960.0', '1960.0', '470.0',\n",
       "       '400.0', '340.0', '1280.0', '1430.0', '1940.0', '1420.0', '1290.0',\n",
       "       '280.0', '1370.0', '2570.0', '740.0', '1550.0', '440.0', '100.0',\n",
       "       '180.0', '1640.0', '1340.0', '1400.0', '780.0', '1170.0', '1670.0',\n",
       "       '1080.0', '1650.0', '1900.0', '350.0', '1380.0', '1750.0', '130.0',\n",
       "       '710.0', '1390.0', '550.0', '4820.0', '1310.0', '1620.0', '1870.0',\n",
       "       '1700.0', '1520.0', '435.0', '556.0', '1540.0', '50.0', '1850.0',\n",
       "       '110.0', '1710.0', '3260.0', '1490.0', '1720.0', '1800.0', '260.0',\n",
       "       '1530.0', '1270.0', '1852.0', '1820.0', '1570.0', '230.0',\n",
       "       '1260.0', '1690.0', '2390.0', '243.0', '410.0', '518.0', '1660.0',\n",
       "       '2580.0', '1360.0', '1590.0', '1730.0', '1560.0', '2490.0',\n",
       "       '283.0', '1610.0', '1780.0', '295.0', '2040.0', '2120.0', '1548.0',\n",
       "       '70.0', '2220.0', '1470.0', '2196.0', '1790.0', '235.0', '1770.0',\n",
       "       '1481.0', '2550.0', '792.0', '1510.0', '276.0', '1830.0', '265.0',\n",
       "       '415.0', '2010.0', '2160.0', '374.0', '176.0', '1440.0'],\n",
       "      dtype=object)"
      ]
     },
     "execution_count": 7,
     "metadata": {},
     "output_type": "execute_result"
    }
   ],
   "source": [
    "sdf.sqft_basement.unique()"
   ]
  },
  {
   "cell_type": "code",
   "execution_count": 10,
   "metadata": {
    "scrolled": true
   },
   "outputs": [
    {
     "data": {
      "text/plain": [
       "0.0       3780\n",
       "?          157\n",
       "700.0       82\n",
       "600.0       76\n",
       "800.0       60\n",
       "400.0       54\n",
       "500.0       52\n",
       "1000.0      50\n",
       "900.0       43\n",
       "530.0       38\n",
       "300.0       36\n",
       "200.0       34\n",
       "480.0       32\n",
       "840.0       31\n",
       "750.0       30\n",
       "450.0       28\n",
       "940.0       28\n",
       "720.0       27\n",
       "430.0       26\n",
       "420.0       26\n",
       "650.0       26\n",
       "860.0       26\n",
       "1100.0      26\n",
       "680.0       25\n",
       "850.0       25\n",
       "780.0       24\n",
       "620.0       24\n",
       "580.0       24\n",
       "960.0       24\n",
       "310.0       23\n",
       "          ... \n",
       "1790.0       1\n",
       "1930.0       1\n",
       "20.0         1\n",
       "2090.0       1\n",
       "2196.0       1\n",
       "1630.0       1\n",
       "225.0        1\n",
       "1890.0       1\n",
       "784.0        1\n",
       "1470.0       1\n",
       "266.0        1\n",
       "2220.0       1\n",
       "2850.0       1\n",
       "2610.0       1\n",
       "1281.0       1\n",
       "2130.0       1\n",
       "602.0        1\n",
       "1550.0       1\n",
       "516.0        1\n",
       "875.0        1\n",
       "1740.0       1\n",
       "145.0        1\n",
       "2120.0       1\n",
       "143.0        1\n",
       "475.0        1\n",
       "4130.0       1\n",
       "2170.0       1\n",
       "1730.0       1\n",
       "1008.0       1\n",
       "2080.0       1\n",
       "Name: sqft_basement, Length: 221, dtype: int64"
      ]
     },
     "execution_count": 10,
     "metadata": {},
     "output_type": "execute_result"
    }
   ],
   "source": [
    "sdf['sqft_basement'].value_counts()"
   ]
  },
  {
   "cell_type": "markdown",
   "metadata": {},
   "source": [
    "The column \"sqft_basement\" seems to be incorrectly cast as a string type despite containing numerical data. This was due to the fact that there are 136 entries that have \"?\" as their value, symbolizing unknown data for this column. I decided to drop these values as it only constitutes about a 2% reduction. "
   ]
  },
  {
   "cell_type": "code",
   "execution_count": 8,
   "metadata": {},
   "outputs": [],
   "source": [
    "to_drop = sdf[sdf['sqft_basement'] == '?']\n",
    "sdf.drop(to_drop.index, axis=0, inplace=True)\n",
    "sdf.sqft_basement = sdf.sqft_basement.astype('float')"
   ]
  },
  {
   "cell_type": "code",
   "execution_count": 9,
   "metadata": {
    "scrolled": true
   },
   "outputs": [
    {
     "name": "stdout",
     "output_type": "stream",
     "text": [
      "<class 'pandas.core.frame.DataFrame'>\n",
      "Int64Index: 6332 entries, 12727 to 11965\n",
      "Data columns (total 19 columns):\n",
      "price            6332 non-null float64\n",
      "bedrooms         6332 non-null int64\n",
      "bathrooms        6332 non-null float64\n",
      "sqft_living      6332 non-null int64\n",
      "sqft_lot         6332 non-null int64\n",
      "floors           6332 non-null float64\n",
      "waterfront       5622 non-null float64\n",
      "view             6307 non-null float64\n",
      "condition        6332 non-null int64\n",
      "grade            6332 non-null int64\n",
      "sqft_above       6332 non-null int64\n",
      "sqft_basement    6332 non-null float64\n",
      "yr_built         6332 non-null int64\n",
      "yr_renovated     5213 non-null float64\n",
      "zipcode          6332 non-null int64\n",
      "lat              6332 non-null float64\n",
      "long             6332 non-null float64\n",
      "sqft_living15    6332 non-null int64\n",
      "sqft_lot15       6332 non-null int64\n",
      "dtypes: float64(9), int64(10)\n",
      "memory usage: 989.4 KB\n"
     ]
    }
   ],
   "source": [
    "sdf.info()"
   ]
  },
  {
   "cell_type": "code",
   "execution_count": 10,
   "metadata": {},
   "outputs": [
    {
     "data": {
      "text/plain": [
       "price               0\n",
       "bedrooms            0\n",
       "bathrooms           0\n",
       "sqft_living         0\n",
       "sqft_lot            0\n",
       "floors              0\n",
       "waterfront        710\n",
       "view               25\n",
       "condition           0\n",
       "grade               0\n",
       "sqft_above          0\n",
       "sqft_basement       0\n",
       "yr_built            0\n",
       "yr_renovated     1119\n",
       "zipcode             0\n",
       "lat                 0\n",
       "long                0\n",
       "sqft_living15       0\n",
       "sqft_lot15          0\n",
       "dtype: int64"
      ]
     },
     "execution_count": 10,
     "metadata": {},
     "output_type": "execute_result"
    }
   ],
   "source": [
    "sdf.isna().sum()"
   ]
  },
  {
   "cell_type": "markdown",
   "metadata": {},
   "source": [
    "Now we are checking to see if the data contains any null values. And by the looks of our results, we can see that \"waterfront\", \"view\" and \"yr_renovated\" all contain null values. We will inspect each individually. "
   ]
  },
  {
   "cell_type": "code",
   "execution_count": 11,
   "metadata": {
    "scrolled": true
   },
   "outputs": [
    {
     "data": {
      "text/plain": [
       "0.0    5671\n",
       "2.0     274\n",
       "3.0     160\n",
       "4.0     107\n",
       "1.0      95\n",
       "Name: view, dtype: int64"
      ]
     },
     "execution_count": 11,
     "metadata": {},
     "output_type": "execute_result"
    }
   ],
   "source": [
    "sdf.view.value_counts()"
   ]
  },
  {
   "cell_type": "code",
   "execution_count": 12,
   "metadata": {},
   "outputs": [],
   "source": [
    "sdf['view'].fillna(0, inplace=True)"
   ]
  },
  {
   "cell_type": "code",
   "execution_count": 13,
   "metadata": {},
   "outputs": [
    {
     "data": {
      "text/plain": [
       "price               0\n",
       "bedrooms            0\n",
       "bathrooms           0\n",
       "sqft_living         0\n",
       "sqft_lot            0\n",
       "floors              0\n",
       "waterfront        710\n",
       "view                0\n",
       "condition           0\n",
       "grade               0\n",
       "sqft_above          0\n",
       "sqft_basement       0\n",
       "yr_built            0\n",
       "yr_renovated     1119\n",
       "zipcode             0\n",
       "lat                 0\n",
       "long                0\n",
       "sqft_living15       0\n",
       "sqft_lot15          0\n",
       "dtype: int64"
      ]
     },
     "execution_count": 13,
     "metadata": {},
     "output_type": "execute_result"
    }
   ],
   "source": [
    "sdf.isna().sum()"
   ]
  },
  {
   "cell_type": "markdown",
   "metadata": {},
   "source": [
    "For the \"views\" column, I decided to replace the null values with the most common value. For \"views\", the most common value was 0.0. Since there were only 15 total null values for this column and 0.0 had an order of magnitude more counts than the other values, I felt this would minimally skew the data, if at all. "
   ]
  },
  {
   "cell_type": "code",
   "execution_count": 14,
   "metadata": {},
   "outputs": [
    {
     "data": {
      "text/plain": [
       "array([ 0., nan,  1.])"
      ]
     },
     "execution_count": 14,
     "metadata": {},
     "output_type": "execute_result"
    }
   ],
   "source": [
    "sdf.waterfront.unique()"
   ]
  },
  {
   "cell_type": "code",
   "execution_count": 15,
   "metadata": {
    "scrolled": true
   },
   "outputs": [
    {
     "data": {
      "text/plain": [
       "0.0    5569\n",
       "1.0      53\n",
       "Name: waterfront, dtype: int64"
      ]
     },
     "execution_count": 15,
     "metadata": {},
     "output_type": "execute_result"
    }
   ],
   "source": [
    "sdf.waterfront.value_counts()"
   ]
  },
  {
   "cell_type": "code",
   "execution_count": 16,
   "metadata": {
    "scrolled": true
   },
   "outputs": [
    {
     "data": {
      "text/plain": [
       "12727    0.0\n",
       "6147     0.0\n",
       "21013    0.0\n",
       "10436    0.0\n",
       "517      0.0\n",
       "11751    0.0\n",
       "13929    0.0\n",
       "11632    0.0\n",
       "1275     0.0\n",
       "11649    0.0\n",
       "16070    0.0\n",
       "14277    0.0\n",
       "20558    nan\n",
       "1219     0.0\n",
       "9327     0.0\n",
       "17118    0.0\n",
       "12894    0.0\n",
       "15932    0.0\n",
       "2760     0.0\n",
       "6202     0.0\n",
       "20700    0.0\n",
       "6519     0.0\n",
       "1525     0.0\n",
       "20506    0.0\n",
       "3234     0.0\n",
       "9144     0.0\n",
       "19772    nan\n",
       "7745     0.0\n",
       "10319    0.0\n",
       "21297    0.0\n",
       "        ... \n",
       "3257     0.0\n",
       "8634     0.0\n",
       "3784     0.0\n",
       "17005    0.0\n",
       "19450    0.0\n",
       "16717    0.0\n",
       "10438    0.0\n",
       "21312    0.0\n",
       "7169     0.0\n",
       "8092     0.0\n",
       "4292     0.0\n",
       "20137    0.0\n",
       "18578    nan\n",
       "9135     0.0\n",
       "4773     0.0\n",
       "12249    0.0\n",
       "4460     0.0\n",
       "17998    0.0\n",
       "1336     0.0\n",
       "18822    0.0\n",
       "6800     0.0\n",
       "19642    0.0\n",
       "19977    0.0\n",
       "9401     0.0\n",
       "1040     nan\n",
       "14499    0.0\n",
       "8925     0.0\n",
       "5313     0.0\n",
       "10887    0.0\n",
       "11965    0.0\n",
       "Name: waterfront, Length: 6332, dtype: object"
      ]
     },
     "execution_count": 16,
     "metadata": {},
     "output_type": "execute_result"
    }
   ],
   "source": [
    "sdf.waterfront = sdf.waterfront.astype(\"str\")\n",
    "sdf['waterfront'].fillna('nan')"
   ]
  },
  {
   "cell_type": "code",
   "execution_count": 17,
   "metadata": {
    "scrolled": false
   },
   "outputs": [
    {
     "data": {
      "text/plain": [
       "price               0\n",
       "bedrooms            0\n",
       "bathrooms           0\n",
       "sqft_living         0\n",
       "sqft_lot            0\n",
       "floors              0\n",
       "waterfront          0\n",
       "view                0\n",
       "condition           0\n",
       "grade               0\n",
       "sqft_above          0\n",
       "sqft_basement       0\n",
       "yr_built            0\n",
       "yr_renovated     1119\n",
       "zipcode             0\n",
       "lat                 0\n",
       "long                0\n",
       "sqft_living15       0\n",
       "sqft_lot15          0\n",
       "dtype: int64"
      ]
     },
     "execution_count": 17,
     "metadata": {},
     "output_type": "execute_result"
    }
   ],
   "source": [
    "sdf.isna().sum()"
   ]
  },
  {
   "cell_type": "markdown",
   "metadata": {},
   "source": [
    "For the \"waterfront\" column, I noticed that it was incorrectly cast an numerical column despite being categorical data. So I changed its type from float to string. This allowed me to treat the null values as its own category.  "
   ]
  },
  {
   "cell_type": "code",
   "execution_count": 18,
   "metadata": {
    "scrolled": true
   },
   "outputs": [
    {
     "data": {
      "text/plain": [
       "array([   0.,   nan, 1987., 2003., 1968., 1955., 1985., 1959., 1986.,\n",
       "       1991., 2007., 2013., 2000., 2004., 2005., 1983., 1993., 1996.,\n",
       "       2002., 1994., 1992., 1978., 2008., 2014., 1995., 2009., 1973.,\n",
       "       1964., 1984., 1982., 1990., 2006., 1940., 1997., 2001., 1974.,\n",
       "       2010., 1967., 1972., 1999., 1988., 2015., 1965., 1980., 1948.,\n",
       "       1958., 1963., 1998., 1989., 1975., 1934., 2011., 1945., 1979.,\n",
       "       1944., 1957., 1981., 2012., 1977., 1971.])"
      ]
     },
     "execution_count": 18,
     "metadata": {},
     "output_type": "execute_result"
    }
   ],
   "source": [
    "sdf.yr_renovated.unique()"
   ]
  },
  {
   "cell_type": "code",
   "execution_count": 19,
   "metadata": {
    "scrolled": true
   },
   "outputs": [
    {
     "data": {
      "text/plain": [
       "0.0       4999\n",
       "2014.0      24\n",
       "2007.0      13\n",
       "2013.0      10\n",
       "2003.0       9\n",
       "1990.0       7\n",
       "2002.0       6\n",
       "2000.0       6\n",
       "2009.0       6\n",
       "1999.0       5\n",
       "1994.0       5\n",
       "2004.0       5\n",
       "1995.0       5\n",
       "1997.0       5\n",
       "1987.0       5\n",
       "1985.0       5\n",
       "2015.0       4\n",
       "1989.0       4\n",
       "1968.0       4\n",
       "2006.0       4\n",
       "2010.0       4\n",
       "2005.0       4\n",
       "2001.0       4\n",
       "1992.0       4\n",
       "1986.0       4\n",
       "2008.0       4\n",
       "1998.0       4\n",
       "1991.0       4\n",
       "1988.0       4\n",
       "1984.0       3\n",
       "1993.0       3\n",
       "1979.0       3\n",
       "1996.0       3\n",
       "1940.0       2\n",
       "1963.0       2\n",
       "2011.0       2\n",
       "1983.0       2\n",
       "1967.0       2\n",
       "1974.0       2\n",
       "1980.0       2\n",
       "1982.0       2\n",
       "1978.0       1\n",
       "1955.0       1\n",
       "1971.0       1\n",
       "1964.0       1\n",
       "1957.0       1\n",
       "1981.0       1\n",
       "1944.0       1\n",
       "1973.0       1\n",
       "1948.0       1\n",
       "1945.0       1\n",
       "1958.0       1\n",
       "1965.0       1\n",
       "1972.0       1\n",
       "1975.0       1\n",
       "1959.0       1\n",
       "2012.0       1\n",
       "1977.0       1\n",
       "1934.0       1\n",
       "Name: yr_renovated, dtype: int64"
      ]
     },
     "execution_count": 19,
     "metadata": {},
     "output_type": "execute_result"
    }
   ],
   "source": [
    "sdf.yr_renovated.value_counts()"
   ]
  },
  {
   "cell_type": "code",
   "execution_count": 24,
   "metadata": {
    "scrolled": true
   },
   "outputs": [
    {
     "data": {
      "text/plain": [
       "count    5146.000000\n",
       "mean       86.472211\n",
       "std       406.346593\n",
       "min         0.000000\n",
       "25%         0.000000\n",
       "50%         0.000000\n",
       "75%         0.000000\n",
       "max      2015.000000\n",
       "Name: yr_renovated, dtype: float64"
      ]
     },
     "execution_count": 24,
     "metadata": {},
     "output_type": "execute_result"
    }
   ],
   "source": [
    "sdf.yr_renovated.describe()"
   ]
  },
  {
   "cell_type": "code",
   "execution_count": 20,
   "metadata": {},
   "outputs": [
    {
     "data": {
      "text/plain": [
       "price            0\n",
       "bedrooms         0\n",
       "bathrooms        0\n",
       "sqft_living      0\n",
       "sqft_lot         0\n",
       "floors           0\n",
       "waterfront       0\n",
       "view             0\n",
       "condition        0\n",
       "grade            0\n",
       "sqft_above       0\n",
       "sqft_basement    0\n",
       "yr_built         0\n",
       "zipcode          0\n",
       "lat              0\n",
       "long             0\n",
       "sqft_living15    0\n",
       "sqft_lot15       0\n",
       "dtype: int64"
      ]
     },
     "execution_count": 20,
     "metadata": {},
     "output_type": "execute_result"
    }
   ],
   "source": [
    "to_drop = [\"yr_renovated\"]\n",
    "sdf.drop(to_drop, axis=1, inplace=True)\n",
    "sdf.isna().sum()"
   ]
  },
  {
   "cell_type": "markdown",
   "metadata": {},
   "source": [
    "I decided to drop the \"yr_renovated\" column. 5019/6343 in our data were not renovated. An additional 1121 contained null values, which I did not understand how to deal with correctly. This left us with only 203 rows with actual years in which they were renovated. This data did not seem like it would contribute meaningfully to our model. "
   ]
  },
  {
   "cell_type": "code",
   "execution_count": 21,
   "metadata": {
    "scrolled": false
   },
   "outputs": [
    {
     "name": "stdout",
     "output_type": "stream",
     "text": [
      "<class 'pandas.core.frame.DataFrame'>\n",
      "Int64Index: 6332 entries, 12727 to 11965\n",
      "Data columns (total 18 columns):\n",
      "price            6332 non-null float64\n",
      "bedrooms         6332 non-null int64\n",
      "bathrooms        6332 non-null float64\n",
      "sqft_living      6332 non-null int64\n",
      "sqft_lot         6332 non-null int64\n",
      "floors           6332 non-null float64\n",
      "waterfront       6332 non-null object\n",
      "view             6332 non-null float64\n",
      "condition        6332 non-null int64\n",
      "grade            6332 non-null int64\n",
      "sqft_above       6332 non-null int64\n",
      "sqft_basement    6332 non-null float64\n",
      "yr_built         6332 non-null int64\n",
      "zipcode          6332 non-null int64\n",
      "lat              6332 non-null float64\n",
      "long             6332 non-null float64\n",
      "sqft_living15    6332 non-null int64\n",
      "sqft_lot15       6332 non-null int64\n",
      "dtypes: float64(7), int64(10), object(1)\n",
      "memory usage: 939.9+ KB\n"
     ]
    }
   ],
   "source": [
    "sdf.info()"
   ]
  },
  {
   "cell_type": "markdown",
   "metadata": {},
   "source": [
    "Some categorical data was incorrectly encoded as integers/floats. These were converted to strings to better represent the categorical nature and be one-hot encoded later on in the process. "
   ]
  },
  {
   "cell_type": "code",
   "execution_count": 22,
   "metadata": {},
   "outputs": [],
   "source": [
    "sdf.bedrooms = sdf.bedrooms.astype(\"str\")\n",
    "sdf.bathrooms = sdf.bathrooms.astype(\"str\")\n",
    "sdf.floors = sdf.floors.astype(\"str\")\n",
    "sdf.view = sdf.view.astype(\"str\")\n",
    "sdf.condition = sdf.condition.astype(\"str\")\n",
    "sdf.grade = sdf.grade.astype(\"str\")\n",
    "sdf.yr_built = sdf.yr_built.astype(\"str\")\n",
    "sdf.zipcode = sdf.zipcode.astype(\"str\")\n",
    "sdf.lat = sdf.lat.astype(\"str\")\n",
    "sdf.long = sdf.long.astype(\"str\")"
   ]
  },
  {
   "cell_type": "code",
   "execution_count": 23,
   "metadata": {},
   "outputs": [
    {
     "name": "stdout",
     "output_type": "stream",
     "text": [
      "<class 'pandas.core.frame.DataFrame'>\n",
      "Int64Index: 6332 entries, 12727 to 11965\n",
      "Data columns (total 18 columns):\n",
      "price            6332 non-null float64\n",
      "bedrooms         6332 non-null object\n",
      "bathrooms        6332 non-null object\n",
      "sqft_living      6332 non-null int64\n",
      "sqft_lot         6332 non-null int64\n",
      "floors           6332 non-null object\n",
      "waterfront       6332 non-null object\n",
      "view             6332 non-null object\n",
      "condition        6332 non-null object\n",
      "grade            6332 non-null object\n",
      "sqft_above       6332 non-null int64\n",
      "sqft_basement    6332 non-null float64\n",
      "yr_built         6332 non-null object\n",
      "zipcode          6332 non-null object\n",
      "lat              6332 non-null object\n",
      "long             6332 non-null object\n",
      "sqft_living15    6332 non-null int64\n",
      "sqft_lot15       6332 non-null int64\n",
      "dtypes: float64(2), int64(5), object(11)\n",
      "memory usage: 939.9+ KB\n"
     ]
    }
   ],
   "source": [
    "sdf.info()"
   ]
  },
  {
   "cell_type": "code",
   "execution_count": 24,
   "metadata": {},
   "outputs": [
    {
     "data": {
      "text/plain": [
       "<matplotlib.axes._subplots.AxesSubplot at 0x108d3ec50>"
      ]
     },
     "execution_count": 24,
     "metadata": {},
     "output_type": "execute_result"
    },
    {
     "data": {
      "image/png": "[encoded data removed]",
      "text/plain": [
       "<Figure size 792x648 with 2 Axes>"
      ]
     },
     "metadata": {},
     "output_type": "display_data"
    }
   ],
   "source": [
    "# Set the style of the visualization\n",
    "sns.set(style=\"white\")\n",
    "\n",
    "# Create a covariance matrix\n",
    "corr = sdf.corr()\n",
    "\n",
    "# Generate a mask the size of our covariance matrix\n",
    "mask = np.zeros_like(corr, dtype=np.bool)\n",
    "mask[np.triu_indices_from(mask)] = True\n",
    "\n",
    "# Set up the matplotlib figure\n",
    "f, ax = plt.subplots(figsize=(11, 9))\n",
    "\n",
    "# Generate a custom diverging colormap\n",
    "cmap = sns.diverging_palette(220, 10, as_cmap=True)\n",
    "\n",
    "# Draw the heatmap with the mask and correct aspect ratio\n",
    "sns.heatmap(corr, mask=mask, cmap=cmap, vmax=.3, center=0,\n",
    "            square=True, linewidths=.5, cbar_kws={\"shrink\": .5})"
   ]
  },
  {
   "cell_type": "code",
   "execution_count": 25,
   "metadata": {
    "scrolled": false
   },
   "outputs": [
    {
     "data": {
      "text/html": [
       "<div>\n",
       "<style scoped>\n",
       "    .dataframe tbody tr th:only-of-type {\n",
       "        vertical-align: middle;\n",
       "    }\n",
       "\n",
       "    .dataframe tbody tr th {\n",
       "        vertical-align: top;\n",
       "    }\n",
       "\n",
       "    .dataframe thead th {\n",
       "        text-align: right;\n",
       "    }\n",
       "</style>\n",
       "<table border=\"1\" class=\"dataframe\">\n",
       "  <thead>\n",
       "    <tr style=\"text-align: right;\">\n",
       "      <th></th>\n",
       "      <th>price</th>\n",
       "      <th>sqft_living</th>\n",
       "      <th>sqft_lot</th>\n",
       "      <th>sqft_above</th>\n",
       "      <th>sqft_basement</th>\n",
       "      <th>sqft_living15</th>\n",
       "      <th>sqft_lot15</th>\n",
       "    </tr>\n",
       "  </thead>\n",
       "  <tbody>\n",
       "    <tr>\n",
       "      <th>price</th>\n",
       "      <td>True</td>\n",
       "      <td>False</td>\n",
       "      <td>False</td>\n",
       "      <td>False</td>\n",
       "      <td>False</td>\n",
       "      <td>False</td>\n",
       "      <td>False</td>\n",
       "    </tr>\n",
       "    <tr>\n",
       "      <th>sqft_living</th>\n",
       "      <td>False</td>\n",
       "      <td>True</td>\n",
       "      <td>False</td>\n",
       "      <td>True</td>\n",
       "      <td>False</td>\n",
       "      <td>True</td>\n",
       "      <td>False</td>\n",
       "    </tr>\n",
       "    <tr>\n",
       "      <th>sqft_lot</th>\n",
       "      <td>False</td>\n",
       "      <td>False</td>\n",
       "      <td>True</td>\n",
       "      <td>False</td>\n",
       "      <td>False</td>\n",
       "      <td>False</td>\n",
       "      <td>True</td>\n",
       "    </tr>\n",
       "    <tr>\n",
       "      <th>sqft_above</th>\n",
       "      <td>False</td>\n",
       "      <td>True</td>\n",
       "      <td>False</td>\n",
       "      <td>True</td>\n",
       "      <td>False</td>\n",
       "      <td>False</td>\n",
       "      <td>False</td>\n",
       "    </tr>\n",
       "    <tr>\n",
       "      <th>sqft_basement</th>\n",
       "      <td>False</td>\n",
       "      <td>False</td>\n",
       "      <td>False</td>\n",
       "      <td>False</td>\n",
       "      <td>True</td>\n",
       "      <td>False</td>\n",
       "      <td>False</td>\n",
       "    </tr>\n",
       "    <tr>\n",
       "      <th>sqft_living15</th>\n",
       "      <td>False</td>\n",
       "      <td>True</td>\n",
       "      <td>False</td>\n",
       "      <td>False</td>\n",
       "      <td>False</td>\n",
       "      <td>True</td>\n",
       "      <td>False</td>\n",
       "    </tr>\n",
       "    <tr>\n",
       "      <th>sqft_lot15</th>\n",
       "      <td>False</td>\n",
       "      <td>False</td>\n",
       "      <td>True</td>\n",
       "      <td>False</td>\n",
       "      <td>False</td>\n",
       "      <td>False</td>\n",
       "      <td>True</td>\n",
       "    </tr>\n",
       "  </tbody>\n",
       "</table>\n",
       "</div>"
      ],
      "text/plain": [
       "               price  sqft_living  sqft_lot  sqft_above  sqft_basement  \\\n",
       "price           True        False     False       False          False   \n",
       "sqft_living    False         True     False        True          False   \n",
       "sqft_lot       False        False      True       False          False   \n",
       "sqft_above     False         True     False        True          False   \n",
       "sqft_basement  False        False     False       False           True   \n",
       "sqft_living15  False         True     False       False          False   \n",
       "sqft_lot15     False        False      True       False          False   \n",
       "\n",
       "               sqft_living15  sqft_lot15  \n",
       "price                  False       False  \n",
       "sqft_living             True       False  \n",
       "sqft_lot               False        True  \n",
       "sqft_above             False       False  \n",
       "sqft_basement          False       False  \n",
       "sqft_living15           True       False  \n",
       "sqft_lot15             False        True  "
      ]
     },
     "execution_count": 25,
     "metadata": {},
     "output_type": "execute_result"
    }
   ],
   "source": [
    "abs(sdf.corr()) > 0.75"
   ]
  },
  {
   "cell_type": "markdown",
   "metadata": {},
   "source": [
    "Based on the heatmap and the correlation matrix (0.75 was used as a cutoff because generally, a correlation with an absolute value around 0.7-0.8 or higher is considered a high correlation), \"sqft_living\" is highly correlated with \"sqft_living15\" and \"sqft_above\". To solve this issue, the column was removed from our data. The rest of the data did not show any high correlation amongst each other."
   ]
  },
  {
   "cell_type": "code",
   "execution_count": 26,
   "metadata": {},
   "outputs": [],
   "source": [
    "to_drop = [\"sqft_living\"]\n",
    "sdf.drop(to_drop, axis=1, inplace=True)"
   ]
  },
  {
   "cell_type": "code",
   "execution_count": 27,
   "metadata": {},
   "outputs": [
    {
     "name": "stdout",
     "output_type": "stream",
     "text": [
      "<class 'pandas.core.frame.DataFrame'>\n",
      "Int64Index: 6332 entries, 12727 to 11965\n",
      "Data columns (total 17 columns):\n",
      "price            6332 non-null float64\n",
      "bedrooms         6332 non-null object\n",
      "bathrooms        6332 non-null object\n",
      "sqft_lot         6332 non-null int64\n",
      "floors           6332 non-null object\n",
      "waterfront       6332 non-null object\n",
      "view             6332 non-null object\n",
      "condition        6332 non-null object\n",
      "grade            6332 non-null object\n",
      "sqft_above       6332 non-null int64\n",
      "sqft_basement    6332 non-null float64\n",
      "yr_built         6332 non-null object\n",
      "zipcode          6332 non-null object\n",
      "lat              6332 non-null object\n",
      "long             6332 non-null object\n",
      "sqft_living15    6332 non-null int64\n",
      "sqft_lot15       6332 non-null int64\n",
      "dtypes: float64(2), int64(4), object(11)\n",
      "memory usage: 890.4+ KB\n"
     ]
    }
   ],
   "source": [
    "sdf.info()"
   ]
  },
  {
   "cell_type": "code",
   "execution_count": 28,
   "metadata": {},
   "outputs": [],
   "source": [
    "# z-score normalization\n",
    "sdf.sqft_lot = (sdf.sqft_lot - sdf.sqft_lot.mean()) / sdf.sqft_lot.std()\n",
    "sdf.sqft_above = (sdf.sqft_above - sdf.sqft_above.mean()) / sdf.sqft_above.std()\n",
    "sdf.sqft_basement = (sdf.sqft_basement - sdf.sqft_basement.mean()) / sdf.sqft_basement.std()\n",
    "sdf.sqft_living15 = (sdf.sqft_living15 - sdf.sqft_living15.mean()) / sdf.sqft_living15.std()\n",
    "sdf.sqft_lot15 = (sdf.sqft_lot15 - sdf.sqft_lot15.mean()) / sdf.sqft_lot15.std()"
   ]
  },
  {
   "cell_type": "markdown",
   "metadata": {},
   "source": [
    "Here we are normalizing our data, which converts it to the same scale. We used z-score normalization, which is the most widely used method for normalization. "
   ]
  },
  {
   "cell_type": "markdown",
   "metadata": {},
   "source": [
    "# E: Explore\n",
    "Exploratory Data Analysis (EDA): We need to better understand the distribution of data before we can begin building models. "
   ]
  },
  {
   "cell_type": "code",
   "execution_count": 29,
   "metadata": {},
   "outputs": [
    {
     "data": {
      "text/html": [
       "<div>\n",
       "<style scoped>\n",
       "    .dataframe tbody tr th:only-of-type {\n",
       "        vertical-align: middle;\n",
       "    }\n",
       "\n",
       "    .dataframe tbody tr th {\n",
       "        vertical-align: top;\n",
       "    }\n",
       "\n",
       "    .dataframe thead th {\n",
       "        text-align: right;\n",
       "    }\n",
       "</style>\n",
       "<table border=\"1\" class=\"dataframe\">\n",
       "  <thead>\n",
       "    <tr style=\"text-align: right;\">\n",
       "      <th></th>\n",
       "      <th>price</th>\n",
       "      <th>sqft_lot</th>\n",
       "      <th>sqft_above</th>\n",
       "      <th>sqft_basement</th>\n",
       "      <th>sqft_living15</th>\n",
       "      <th>sqft_lot15</th>\n",
       "    </tr>\n",
       "  </thead>\n",
       "  <tbody>\n",
       "    <tr>\n",
       "      <th>count</th>\n",
       "      <td>6.332000e+03</td>\n",
       "      <td>6.332000e+03</td>\n",
       "      <td>6.332000e+03</td>\n",
       "      <td>6.332000e+03</td>\n",
       "      <td>6.332000e+03</td>\n",
       "      <td>6.332000e+03</td>\n",
       "    </tr>\n",
       "    <tr>\n",
       "      <th>mean</th>\n",
       "      <td>5.399124e+05</td>\n",
       "      <td>2.608989e-17</td>\n",
       "      <td>-8.752737e-17</td>\n",
       "      <td>3.787242e-17</td>\n",
       "      <td>7.855021e-17</td>\n",
       "      <td>-1.066039e-17</td>\n",
       "    </tr>\n",
       "    <tr>\n",
       "      <th>std</th>\n",
       "      <td>3.573898e+05</td>\n",
       "      <td>1.000000e+00</td>\n",
       "      <td>1.000000e+00</td>\n",
       "      <td>1.000000e+00</td>\n",
       "      <td>1.000000e+00</td>\n",
       "      <td>1.000000e+00</td>\n",
       "    </tr>\n",
       "    <tr>\n",
       "      <th>min</th>\n",
       "      <td>7.800000e+04</td>\n",
       "      <td>-4.026035e-01</td>\n",
       "      <td>-1.726076e+00</td>\n",
       "      <td>-6.580549e-01</td>\n",
       "      <td>-1.879972e+00</td>\n",
       "      <td>-4.892388e-01</td>\n",
       "    </tr>\n",
       "    <tr>\n",
       "      <th>25%</th>\n",
       "      <td>3.220000e+05</td>\n",
       "      <td>-2.726783e-01</td>\n",
       "      <td>-7.198740e-01</td>\n",
       "      <td>-6.580549e-01</td>\n",
       "      <td>-7.251497e-01</td>\n",
       "      <td>-3.054017e-01</td>\n",
       "    </tr>\n",
       "    <tr>\n",
       "      <th>50%</th>\n",
       "      <td>4.520000e+05</td>\n",
       "      <td>-1.984948e-01</td>\n",
       "      <td>-2.713261e-01</td>\n",
       "      <td>-6.580549e-01</td>\n",
       "      <td>-2.199152e-01</td>\n",
       "      <td>-2.013607e-01</td>\n",
       "    </tr>\n",
       "    <tr>\n",
       "      <th>75%</th>\n",
       "      <td>6.520250e+05</td>\n",
       "      <td>-1.088811e-01</td>\n",
       "      <td>5.166635e-01</td>\n",
       "      <td>5.938188e-01</td>\n",
       "      <td>5.307190e-01</td>\n",
       "      <td>-9.842595e-02</td>\n",
       "    </tr>\n",
       "    <tr>\n",
       "      <th>max</th>\n",
       "      <td>5.300000e+06</td>\n",
       "      <td>1.801556e+01</td>\n",
       "      <td>6.820580e+00</td>\n",
       "      <td>1.011700e+01</td>\n",
       "      <td>5.482018e+00</td>\n",
       "      <td>1.548045e+01</td>\n",
       "    </tr>\n",
       "  </tbody>\n",
       "</table>\n",
       "</div>"
      ],
      "text/plain": [
       "              price      sqft_lot    sqft_above  sqft_basement  sqft_living15  \\\n",
       "count  6.332000e+03  6.332000e+03  6.332000e+03   6.332000e+03   6.332000e+03   \n",
       "mean   5.399124e+05  2.608989e-17 -8.752737e-17   3.787242e-17   7.855021e-17   \n",
       "std    3.573898e+05  1.000000e+00  1.000000e+00   1.000000e+00   1.000000e+00   \n",
       "min    7.800000e+04 -4.026035e-01 -1.726076e+00  -6.580549e-01  -1.879972e+00   \n",
       "25%    3.220000e+05 -2.726783e-01 -7.198740e-01  -6.580549e-01  -7.251497e-01   \n",
       "50%    4.520000e+05 -1.984948e-01 -2.713261e-01  -6.580549e-01  -2.199152e-01   \n",
       "75%    6.520250e+05 -1.088811e-01  5.166635e-01   5.938188e-01   5.307190e-01   \n",
       "max    5.300000e+06  1.801556e+01  6.820580e+00   1.011700e+01   5.482018e+00   \n",
       "\n",
       "         sqft_lot15  \n",
       "count  6.332000e+03  \n",
       "mean  -1.066039e-17  \n",
       "std    1.000000e+00  \n",
       "min   -4.892388e-01  \n",
       "25%   -3.054017e-01  \n",
       "50%   -2.013607e-01  \n",
       "75%   -9.842595e-02  \n",
       "max    1.548045e+01  "
      ]
     },
     "execution_count": 29,
     "metadata": {},
     "output_type": "execute_result"
    }
   ],
   "source": [
    "sdf.describe()"
   ]
  },
  {
   "cell_type": "code",
   "execution_count": 30,
   "metadata": {
    "scrolled": true
   },
   "outputs": [
    {
     "data": {
      "image/png": "[encoded data removed]",
      "text/plain": [
       "<Figure size 432x288 with 1 Axes>"
      ]
     },
     "metadata": {},
     "output_type": "display_data"
    },
    {
     "data": {
      "image/png": "[encoded data removed]",
      "text/plain": [
       "<Figure size 432x288 with 1 Axes>"
      ]
     },
     "metadata": {},
     "output_type": "display_data"
    },
    {
     "data": {
      "image/png": "[encoded data removed]",
      "text/plain": [
       "<Figure size 432x288 with 1 Axes>"
      ]
     },
     "metadata": {},
     "output_type": "display_data"
    },
    {
     "data": {
      "image/png": "[encoded data removed]",
      "text/plain": [
       "<Figure size 432x288 with 1 Axes>"
      ]
     },
     "metadata": {},
     "output_type": "display_data"
    },
    {
     "data": {
      "image/png": "[encoded data removed]",
      "text/plain": [
       "<Figure size 432x288 with 1 Axes>"
      ]
     },
     "metadata": {},
     "output_type": "display_data"
    },
    {
     "data": {
      "image/png": "[encoded data removed]",
      "text/plain": [
       "<Figure size 432x288 with 1 Axes>"
      ]
     },
     "metadata": {},
     "output_type": "display_data"
    }
   ],
   "source": [
    "for column in ['sqft_lot', 'sqft_above', 'sqft_basement', 'sqft_living15', 'sqft_lot15', 'price']:\n",
    "    sdf[column].plot.hist(density=True )\n",
    "    sdf[column].plot.kde(label=column )\n",
    "    plt.legend()\n",
    "    plt.show()\n",
    "    \n",
    "# use only continuous variables "
   ]
  },
  {
   "cell_type": "markdown",
   "metadata": {},
   "source": [
    "Scrubbing our data seemed to worked, except for \"sqft_basement\" which displays some multimodality. "
   ]
  },
  {
   "cell_type": "code",
   "execution_count": 31,
   "metadata": {
    "scrolled": true
   },
   "outputs": [
    {
     "name": "stderr",
     "output_type": "stream",
     "text": [
      "/anaconda3/envs/learn-env/lib/python3.6/site-packages/scipy/stats/stats.py:1713: FutureWarning: Using a non-tuple sequence for multidimensional indexing is deprecated; use `arr[tuple(seq)]` instead of `arr[seq]`. In the future this will be interpreted as an array index, `arr[np.array(seq)]`, which will result either in an error or a different result.\n",
      "  return np.add.reduce(sorted[indexer] * weights, axis=axis) / sumval\n"
     ]
    },
    {
     "data": {
      "image/png": "[encoded data removed]",
      "text/plain": [
       "<Figure size 432x432 with 3 Axes>"
      ]
     },
     "metadata": {},
     "output_type": "display_data"
    },
    {
     "data": {
      "image/png": "[encoded data removed]",
      "text/plain": [
       "<Figure size 432x432 with 3 Axes>"
      ]
     },
     "metadata": {},
     "output_type": "display_data"
    },
    {
     "data": {
      "image/png": "[encoded data removed]",
      "text/plain": [
       "<Figure size 432x432 with 3 Axes>"
      ]
     },
     "metadata": {},
     "output_type": "display_data"
    },
    {
     "data": {
      "image/png": "[encoded data removed]",
      "text/plain": [
       "<Figure size 432x432 with 3 Axes>"
      ]
     },
     "metadata": {},
     "output_type": "display_data"
    },
    {
     "data": {
      "image/png": "[encoded data removed]",
      "text/plain": [
       "<Figure size 432x432 with 3 Axes>"
      ]
     },
     "metadata": {},
     "output_type": "display_data"
    }
   ],
   "source": [
    "for column in ['sqft_lot', 'sqft_above', 'sqft_basement', 'sqft_living15', 'sqft_lot15']:\n",
    "    sns.jointplot(x=column, y='price',\n",
    "                  data=sdf, \n",
    "                  kind='reg', \n",
    "                  label=column,\n",
    "                  joint_kws={'line_kws':{'color':'green'}})\n",
    "    plt.legend()\n",
    "    plt.show()"
   ]
  },
  {
   "cell_type": "markdown",
   "metadata": {},
   "source": [
    "The joint plot allows us to visualize a scatterplot, the distributions of two different columns, a kde plot, and a simple regression line all on the same visualization. Based on the results, all five indicators seem to have a positive relationship with price. "
   ]
  },
  {
   "cell_type": "code",
   "execution_count": 32,
   "metadata": {},
   "outputs": [
    {
     "data": {
      "text/html": [
       "<div>\n",
       "<style scoped>\n",
       "    .dataframe tbody tr th:only-of-type {\n",
       "        vertical-align: middle;\n",
       "    }\n",
       "\n",
       "    .dataframe tbody tr th {\n",
       "        vertical-align: top;\n",
       "    }\n",
       "\n",
       "    .dataframe thead th {\n",
       "        text-align: right;\n",
       "    }\n",
       "</style>\n",
       "<table border=\"1\" class=\"dataframe\">\n",
       "  <thead>\n",
       "    <tr style=\"text-align: right;\">\n",
       "      <th></th>\n",
       "      <th>price</th>\n",
       "      <th>sqft_lot</th>\n",
       "      <th>sqft_above</th>\n",
       "      <th>sqft_basement</th>\n",
       "      <th>sqft_living15</th>\n",
       "      <th>sqft_lot15</th>\n",
       "      <th>bedrooms_1</th>\n",
       "      <th>bedrooms_10</th>\n",
       "      <th>bedrooms_2</th>\n",
       "      <th>bedrooms_3</th>\n",
       "      <th>...</th>\n",
       "      <th>long_-122.47200000000001</th>\n",
       "      <th>long_-122.47399999999999</th>\n",
       "      <th>long_-122.49</th>\n",
       "      <th>long_-122.50200000000001</th>\n",
       "      <th>long_-122.50399999999999</th>\n",
       "      <th>long_-122.509</th>\n",
       "      <th>long_-122.51100000000001</th>\n",
       "      <th>long_-122.512</th>\n",
       "      <th>long_-122.514</th>\n",
       "      <th>long_-122.515</th>\n",
       "    </tr>\n",
       "  </thead>\n",
       "  <tbody>\n",
       "    <tr>\n",
       "      <th>12727</th>\n",
       "      <td>425000.0</td>\n",
       "      <td>-0.291062</td>\n",
       "      <td>0.577278</td>\n",
       "      <td>-0.658055</td>\n",
       "      <td>0.140967</td>\n",
       "      <td>-0.334527</td>\n",
       "      <td>0</td>\n",
       "      <td>0</td>\n",
       "      <td>0</td>\n",
       "      <td>0</td>\n",
       "      <td>...</td>\n",
       "      <td>0</td>\n",
       "      <td>0</td>\n",
       "      <td>0</td>\n",
       "      <td>0</td>\n",
       "      <td>0</td>\n",
       "      <td>0</td>\n",
       "      <td>0</td>\n",
       "      <td>0</td>\n",
       "      <td>0</td>\n",
       "      <td>0</td>\n",
       "    </tr>\n",
       "    <tr>\n",
       "      <th>6147</th>\n",
       "      <td>1060000.0</td>\n",
       "      <td>0.157402</td>\n",
       "      <td>0.407557</td>\n",
       "      <td>1.242111</td>\n",
       "      <td>1.064824</td>\n",
       "      <td>0.310625</td>\n",
       "      <td>0</td>\n",
       "      <td>0</td>\n",
       "      <td>0</td>\n",
       "      <td>0</td>\n",
       "      <td>...</td>\n",
       "      <td>0</td>\n",
       "      <td>0</td>\n",
       "      <td>0</td>\n",
       "      <td>0</td>\n",
       "      <td>0</td>\n",
       "      <td>0</td>\n",
       "      <td>0</td>\n",
       "      <td>0</td>\n",
       "      <td>0</td>\n",
       "      <td>0</td>\n",
       "    </tr>\n",
       "    <tr>\n",
       "      <th>21013</th>\n",
       "      <td>260000.0</td>\n",
       "      <td>-0.310582</td>\n",
       "      <td>0.431803</td>\n",
       "      <td>-0.658055</td>\n",
       "      <td>0.227578</td>\n",
       "      <td>-0.362607</td>\n",
       "      <td>0</td>\n",
       "      <td>0</td>\n",
       "      <td>0</td>\n",
       "      <td>0</td>\n",
       "      <td>...</td>\n",
       "      <td>0</td>\n",
       "      <td>0</td>\n",
       "      <td>0</td>\n",
       "      <td>0</td>\n",
       "      <td>0</td>\n",
       "      <td>0</td>\n",
       "      <td>0</td>\n",
       "      <td>0</td>\n",
       "      <td>0</td>\n",
       "      <td>0</td>\n",
       "    </tr>\n",
       "    <tr>\n",
       "      <th>10436</th>\n",
       "      <td>695000.0</td>\n",
       "      <td>-0.300262</td>\n",
       "      <td>-0.137974</td>\n",
       "      <td>1.175046</td>\n",
       "      <td>-0.638538</td>\n",
       "      <td>-0.389943</td>\n",
       "      <td>0</td>\n",
       "      <td>0</td>\n",
       "      <td>0</td>\n",
       "      <td>1</td>\n",
       "      <td>...</td>\n",
       "      <td>0</td>\n",
       "      <td>0</td>\n",
       "      <td>0</td>\n",
       "      <td>0</td>\n",
       "      <td>0</td>\n",
       "      <td>0</td>\n",
       "      <td>0</td>\n",
       "      <td>0</td>\n",
       "      <td>0</td>\n",
       "      <td>0</td>\n",
       "    </tr>\n",
       "    <tr>\n",
       "      <th>517</th>\n",
       "      <td>750000.0</td>\n",
       "      <td>-0.194901</td>\n",
       "      <td>0.734876</td>\n",
       "      <td>-0.658055</td>\n",
       "      <td>0.126531</td>\n",
       "      <td>-0.160212</td>\n",
       "      <td>0</td>\n",
       "      <td>0</td>\n",
       "      <td>0</td>\n",
       "      <td>1</td>\n",
       "      <td>...</td>\n",
       "      <td>0</td>\n",
       "      <td>0</td>\n",
       "      <td>0</td>\n",
       "      <td>0</td>\n",
       "      <td>0</td>\n",
       "      <td>0</td>\n",
       "      <td>0</td>\n",
       "      <td>0</td>\n",
       "      <td>0</td>\n",
       "      <td>0</td>\n",
       "    </tr>\n",
       "  </tbody>\n",
       "</table>\n",
       "<p>5 rows × 4344 columns</p>\n",
       "</div>"
      ],
      "text/plain": [
       "           price  sqft_lot  sqft_above  sqft_basement  sqft_living15  \\\n",
       "12727   425000.0 -0.291062    0.577278      -0.658055       0.140967   \n",
       "6147   1060000.0  0.157402    0.407557       1.242111       1.064824   \n",
       "21013   260000.0 -0.310582    0.431803      -0.658055       0.227578   \n",
       "10436   695000.0 -0.300262   -0.137974       1.175046      -0.638538   \n",
       "517     750000.0 -0.194901    0.734876      -0.658055       0.126531   \n",
       "\n",
       "       sqft_lot15  bedrooms_1  bedrooms_10  bedrooms_2  bedrooms_3  \\\n",
       "12727   -0.334527           0            0           0           0   \n",
       "6147     0.310625           0            0           0           0   \n",
       "21013   -0.362607           0            0           0           0   \n",
       "10436   -0.389943           0            0           0           1   \n",
       "517     -0.160212           0            0           0           1   \n",
       "\n",
       "           ...        long_-122.47200000000001  long_-122.47399999999999  \\\n",
       "12727      ...                               0                         0   \n",
       "6147       ...                               0                         0   \n",
       "21013      ...                               0                         0   \n",
       "10436      ...                               0                         0   \n",
       "517        ...                               0                         0   \n",
       "\n",
       "       long_-122.49  long_-122.50200000000001  long_-122.50399999999999  \\\n",
       "12727             0                         0                         0   \n",
       "6147              0                         0                         0   \n",
       "21013             0                         0                         0   \n",
       "10436             0                         0                         0   \n",
       "517               0                         0                         0   \n",
       "\n",
       "       long_-122.509  long_-122.51100000000001  long_-122.512  long_-122.514  \\\n",
       "12727              0                         0              0              0   \n",
       "6147               0                         0              0              0   \n",
       "21013              0                         0              0              0   \n",
       "10436              0                         0              0              0   \n",
       "517                0                         0              0              0   \n",
       "\n",
       "       long_-122.515  \n",
       "12727              0  \n",
       "6147               0  \n",
       "21013              0  \n",
       "10436              0  \n",
       "517                0  \n",
       "\n",
       "[5 rows x 4344 columns]"
      ]
     },
     "execution_count": 32,
     "metadata": {},
     "output_type": "execute_result"
    }
   ],
   "source": [
    "sdf = pd.get_dummies(sdf)\n",
    "sdf.head()"
   ]
  },
  {
   "cell_type": "markdown",
   "metadata": {},
   "source": [
    "# M: Model\n",
    "An iterative process where we begin to build our regression model. "
   ]
  },
  {
   "cell_type": "code",
   "execution_count": 36,
   "metadata": {},
   "outputs": [
    {
     "name": "stdout",
     "output_type": "stream",
     "text": [
      "<class 'pandas.core.frame.DataFrame'>\n",
      "Int64Index: 6332 entries, 12727 to 11965\n",
      "Data columns (total 15 columns):\n",
      "price            6332 non-null float64\n",
      "sqft_lot         6332 non-null float64\n",
      "sqft_above       6332 non-null float64\n",
      "sqft_basement    6332 non-null float64\n",
      "sqft_living15    6332 non-null float64\n",
      "sqft_lot15       6332 non-null float64\n",
      "bedrooms_1       6332 non-null uint8\n",
      "bedrooms_10      6332 non-null uint8\n",
      "bedrooms_2       6332 non-null uint8\n",
      "bedrooms_3       6332 non-null uint8\n",
      "bedrooms_4       6332 non-null uint8\n",
      "bedrooms_5       6332 non-null uint8\n",
      "bedrooms_6       6332 non-null uint8\n",
      "bedrooms_7       6332 non-null uint8\n",
      "bedrooms_8       6332 non-null uint8\n",
      "dtypes: float64(6), uint8(9)\n",
      "memory usage: 401.9 KB\n"
     ]
    }
   ],
   "source": [
    "sdf.iloc[:,0:15].info()"
   ]
  },
  {
   "cell_type": "code",
   "execution_count": 37,
   "metadata": {},
   "outputs": [],
   "source": [
    "for cat_names in sdf.iloc[:,6:].columns:\n",
    "         sdf[cat_names] = sdf[cat_names].astype('category')"
   ]
  },
  {
   "cell_type": "code",
   "execution_count": 38,
   "metadata": {
    "scrolled": true
   },
   "outputs": [
    {
     "name": "stdout",
     "output_type": "stream",
     "text": [
      "<class 'pandas.core.frame.DataFrame'>\n",
      "Int64Index: 6332 entries, 12727 to 11965\n",
      "Data columns (total 15 columns):\n",
      "price            6332 non-null float64\n",
      "sqft_lot         6332 non-null float64\n",
      "sqft_above       6332 non-null float64\n",
      "sqft_basement    6332 non-null float64\n",
      "sqft_living15    6332 non-null float64\n",
      "sqft_lot15       6332 non-null float64\n",
      "bedrooms_1       6332 non-null category\n",
      "bedrooms_10      6332 non-null category\n",
      "bedrooms_2       6332 non-null category\n",
      "bedrooms_3       6332 non-null category\n",
      "bedrooms_4       6332 non-null category\n",
      "bedrooms_5       6332 non-null category\n",
      "bedrooms_6       6332 non-null category\n",
      "bedrooms_7       6332 non-null category\n",
      "bedrooms_8       6332 non-null category\n",
      "dtypes: category(9), float64(6)\n",
      "memory usage: 402.8 KB\n"
     ]
    }
   ],
   "source": [
    "sdf.iloc[:,0:15].info()"
   ]
  },
  {
   "cell_type": "markdown",
   "metadata": {},
   "source": [
    "After one-hot encoding our categorical variables, I did a quick check to see their datatypes. After inspection, those categories were changed to the categorical datatype. "
   ]
  },
  {
   "cell_type": "code",
   "execution_count": 39,
   "metadata": {},
   "outputs": [
    {
     "data": {
      "text/html": [
       "<div>\n",
       "<style scoped>\n",
       "    .dataframe tbody tr th:only-of-type {\n",
       "        vertical-align: middle;\n",
       "    }\n",
       "\n",
       "    .dataframe tbody tr th {\n",
       "        vertical-align: top;\n",
       "    }\n",
       "\n",
       "    .dataframe thead th {\n",
       "        text-align: right;\n",
       "    }\n",
       "</style>\n",
       "<table border=\"1\" class=\"dataframe\">\n",
       "  <thead>\n",
       "    <tr style=\"text-align: right;\">\n",
       "      <th></th>\n",
       "      <th>price</th>\n",
       "      <th>sqft_lot</th>\n",
       "      <th>sqft_above</th>\n",
       "      <th>sqft_basement</th>\n",
       "      <th>sqft_living15</th>\n",
       "      <th>sqft_lot15</th>\n",
       "    </tr>\n",
       "  </thead>\n",
       "  <tbody>\n",
       "    <tr>\n",
       "      <th>count</th>\n",
       "      <td>6.332000e+03</td>\n",
       "      <td>6.332000e+03</td>\n",
       "      <td>6.332000e+03</td>\n",
       "      <td>6.332000e+03</td>\n",
       "      <td>6.332000e+03</td>\n",
       "      <td>6.332000e+03</td>\n",
       "    </tr>\n",
       "    <tr>\n",
       "      <th>mean</th>\n",
       "      <td>5.399124e+05</td>\n",
       "      <td>2.608989e-17</td>\n",
       "      <td>-8.752737e-17</td>\n",
       "      <td>3.787242e-17</td>\n",
       "      <td>7.855021e-17</td>\n",
       "      <td>-1.066039e-17</td>\n",
       "    </tr>\n",
       "    <tr>\n",
       "      <th>std</th>\n",
       "      <td>3.573898e+05</td>\n",
       "      <td>1.000000e+00</td>\n",
       "      <td>1.000000e+00</td>\n",
       "      <td>1.000000e+00</td>\n",
       "      <td>1.000000e+00</td>\n",
       "      <td>1.000000e+00</td>\n",
       "    </tr>\n",
       "    <tr>\n",
       "      <th>min</th>\n",
       "      <td>7.800000e+04</td>\n",
       "      <td>-4.026035e-01</td>\n",
       "      <td>-1.726076e+00</td>\n",
       "      <td>-6.580549e-01</td>\n",
       "      <td>-1.879972e+00</td>\n",
       "      <td>-4.892388e-01</td>\n",
       "    </tr>\n",
       "    <tr>\n",
       "      <th>25%</th>\n",
       "      <td>3.220000e+05</td>\n",
       "      <td>-2.726783e-01</td>\n",
       "      <td>-7.198740e-01</td>\n",
       "      <td>-6.580549e-01</td>\n",
       "      <td>-7.251497e-01</td>\n",
       "      <td>-3.054017e-01</td>\n",
       "    </tr>\n",
       "    <tr>\n",
       "      <th>50%</th>\n",
       "      <td>4.520000e+05</td>\n",
       "      <td>-1.984948e-01</td>\n",
       "      <td>-2.713261e-01</td>\n",
       "      <td>-6.580549e-01</td>\n",
       "      <td>-2.199152e-01</td>\n",
       "      <td>-2.013607e-01</td>\n",
       "    </tr>\n",
       "    <tr>\n",
       "      <th>75%</th>\n",
       "      <td>6.520250e+05</td>\n",
       "      <td>-1.088811e-01</td>\n",
       "      <td>5.166635e-01</td>\n",
       "      <td>5.938188e-01</td>\n",
       "      <td>5.307190e-01</td>\n",
       "      <td>-9.842595e-02</td>\n",
       "    </tr>\n",
       "    <tr>\n",
       "      <th>max</th>\n",
       "      <td>5.300000e+06</td>\n",
       "      <td>1.801556e+01</td>\n",
       "      <td>6.820580e+00</td>\n",
       "      <td>1.011700e+01</td>\n",
       "      <td>5.482018e+00</td>\n",
       "      <td>1.548045e+01</td>\n",
       "    </tr>\n",
       "  </tbody>\n",
       "</table>\n",
       "</div>"
      ],
      "text/plain": [
       "              price      sqft_lot    sqft_above  sqft_basement  sqft_living15  \\\n",
       "count  6.332000e+03  6.332000e+03  6.332000e+03   6.332000e+03   6.332000e+03   \n",
       "mean   5.399124e+05  2.608989e-17 -8.752737e-17   3.787242e-17   7.855021e-17   \n",
       "std    3.573898e+05  1.000000e+00  1.000000e+00   1.000000e+00   1.000000e+00   \n",
       "min    7.800000e+04 -4.026035e-01 -1.726076e+00  -6.580549e-01  -1.879972e+00   \n",
       "25%    3.220000e+05 -2.726783e-01 -7.198740e-01  -6.580549e-01  -7.251497e-01   \n",
       "50%    4.520000e+05 -1.984948e-01 -2.713261e-01  -6.580549e-01  -2.199152e-01   \n",
       "75%    6.520250e+05 -1.088811e-01  5.166635e-01   5.938188e-01   5.307190e-01   \n",
       "max    5.300000e+06  1.801556e+01  6.820580e+00   1.011700e+01   5.482018e+00   \n",
       "\n",
       "         sqft_lot15  \n",
       "count  6.332000e+03  \n",
       "mean  -1.066039e-17  \n",
       "std    1.000000e+00  \n",
       "min   -4.892388e-01  \n",
       "25%   -3.054017e-01  \n",
       "50%   -2.013607e-01  \n",
       "75%   -9.842595e-02  \n",
       "max    1.548045e+01  "
      ]
     },
     "execution_count": 39,
     "metadata": {},
     "output_type": "execute_result"
    }
   ],
   "source": [
    "sdf.describe()"
   ]
  },
  {
   "cell_type": "code",
   "execution_count": 40,
   "metadata": {},
   "outputs": [
    {
     "name": "stdout",
     "output_type": "stream",
     "text": [
      "King County Houses: Price~sqft_lot\n",
      "------------------------------\n",
      "['sqft_lot', 0.006553296569968503, 539912.3913455456, 28931.57487694273, 1.1110309523052232e-10]\n",
      "King County Houses: Price~sqft_above\n",
      "------------------------------\n",
      "['sqft_above', 0.3595728711602142, 539912.3913455456, 214306.63771687465, 0.0]\n",
      "King County Houses: Price~sqft_basement\n",
      "------------------------------\n",
      "['sqft_basement', 0.10110939628475901, 539912.3913455456, 113641.75246121515, 9.558030761814809e-149]\n",
      "King County Houses: Price~sqft_living15\n",
      "------------------------------\n",
      "['sqft_living15', 0.35214053483285346, 539912.3913455456, 212080.22400939238, 0.0]\n",
      "King County Houses: Price~sqft_lot15\n",
      "------------------------------\n",
      "['sqft_lot15', 0.006236092160852413, 539912.3913455456, 28222.691341790647, 3.1249278056933244e-10]\n"
     ]
    }
   ],
   "source": [
    "col_names = sdf.describe().columns.drop(['price'])\n",
    "results = [['ind_var', 'r_squared', 'intercept', 'slope', 'p-value' ]]\n",
    "for idx, val in enumerate(col_names):\n",
    "    print (\"King County Houses: Price~\" + val)\n",
    "    print (\"------------------------------\")\n",
    "\n",
    "    f = 'price~' + val\n",
    "    model = smf.ols(formula=f, data=sdf).fit()\n",
    "    X_new = pd.DataFrame({val: [sdf[val].min(), sdf[val].max()]});\n",
    "    preds = model.predict(X_new)\n",
    "    results.append([val, model.rsquared, model.params[0], model.params[1], model.pvalues[1] ])\n",
    "    print(results[idx+1])"
   ]
  },
  {
   "cell_type": "code",
   "execution_count": 41,
   "metadata": {},
   "outputs": [
    {
     "data": {
      "text/html": [
       "<div>\n",
       "<style scoped>\n",
       "    .dataframe tbody tr th:only-of-type {\n",
       "        vertical-align: middle;\n",
       "    }\n",
       "\n",
       "    .dataframe tbody tr th {\n",
       "        vertical-align: top;\n",
       "    }\n",
       "\n",
       "    .dataframe thead th {\n",
       "        text-align: right;\n",
       "    }\n",
       "</style>\n",
       "<table border=\"1\" class=\"dataframe\">\n",
       "  <thead>\n",
       "    <tr style=\"text-align: right;\">\n",
       "      <th></th>\n",
       "      <th>0</th>\n",
       "      <th>1</th>\n",
       "      <th>2</th>\n",
       "      <th>3</th>\n",
       "      <th>4</th>\n",
       "    </tr>\n",
       "  </thead>\n",
       "  <tbody>\n",
       "    <tr>\n",
       "      <th>0</th>\n",
       "      <td>ind_var</td>\n",
       "      <td>r_squared</td>\n",
       "      <td>intercept</td>\n",
       "      <td>slope</td>\n",
       "      <td>p-value</td>\n",
       "    </tr>\n",
       "    <tr>\n",
       "      <th>1</th>\n",
       "      <td>sqft_lot</td>\n",
       "      <td>0.0065533</td>\n",
       "      <td>539912</td>\n",
       "      <td>28931.6</td>\n",
       "      <td>1.11103e-10</td>\n",
       "    </tr>\n",
       "    <tr>\n",
       "      <th>2</th>\n",
       "      <td>sqft_above</td>\n",
       "      <td>0.359573</td>\n",
       "      <td>539912</td>\n",
       "      <td>214307</td>\n",
       "      <td>0</td>\n",
       "    </tr>\n",
       "    <tr>\n",
       "      <th>3</th>\n",
       "      <td>sqft_basement</td>\n",
       "      <td>0.101109</td>\n",
       "      <td>539912</td>\n",
       "      <td>113642</td>\n",
       "      <td>9.55803e-149</td>\n",
       "    </tr>\n",
       "    <tr>\n",
       "      <th>4</th>\n",
       "      <td>sqft_living15</td>\n",
       "      <td>0.352141</td>\n",
       "      <td>539912</td>\n",
       "      <td>212080</td>\n",
       "      <td>0</td>\n",
       "    </tr>\n",
       "    <tr>\n",
       "      <th>5</th>\n",
       "      <td>sqft_lot15</td>\n",
       "      <td>0.00623609</td>\n",
       "      <td>539912</td>\n",
       "      <td>28222.7</td>\n",
       "      <td>3.12493e-10</td>\n",
       "    </tr>\n",
       "  </tbody>\n",
       "</table>\n",
       "</div>"
      ],
      "text/plain": [
       "               0           1          2        3             4\n",
       "0        ind_var   r_squared  intercept    slope       p-value\n",
       "1       sqft_lot   0.0065533     539912  28931.6   1.11103e-10\n",
       "2     sqft_above    0.359573     539912   214307             0\n",
       "3  sqft_basement    0.101109     539912   113642  9.55803e-149\n",
       "4  sqft_living15    0.352141     539912   212080             0\n",
       "5     sqft_lot15  0.00623609     539912  28222.7   3.12493e-10"
      ]
     },
     "execution_count": 41,
     "metadata": {},
     "output_type": "execute_result"
    }
   ],
   "source": [
    "pd.DataFrame(results)"
   ]
  },
  {
   "cell_type": "code",
   "execution_count": null,
   "metadata": {},
   "outputs": [],
   "source": []
  },
  {
   "cell_type": "code",
   "execution_count": null,
   "metadata": {},
   "outputs": [],
   "source": []
  },
  {
   "cell_type": "code",
   "execution_count": null,
   "metadata": {},
   "outputs": [],
   "source": []
  },
  {
   "cell_type": "code",
   "execution_count": null,
   "metadata": {},
   "outputs": [],
   "source": []
  }
 ],
 "metadata": {
  "kernelspec": {
   "display_name": "Python 3",
   "language": "python",
   "name": "python3"
  },
  "language_info": {
   "codemirror_mode": {
    "name": "ipython",
    "version": 3
   },
   "file_extension": ".py",
   "mimetype": "text/x-python",
   "name": "python",
   "nbconvert_exporter": "python",
   "pygments_lexer": "ipython3",
   "version": "3.6.6"
  }
 },
 "nbformat": 4,
 "nbformat_minor": 2
}
