{
 "cells": [
  {
   "cell_type": "markdown",
   "metadata": {},
   "source": [
    "## Final Project Submission\n",
    "\n",
    "Please fill out:\n",
    "* Student name: **Nicholas Donovan**\n",
    "* Student pace: self paced / **part time** / full time\n",
    "* Scheduled project review date/time: **2/7/19 @ 2:15pm**\n",
    "* Instructor name: **Jeff Herman**\n",
    "* Blog post URL: https://medium.com/@nicodonovan/fighting-fraud-flatiron-data-science-project-1-280b63249253\n"
   ]
  },
  {
   "cell_type": "code",
   "execution_count": null,
   "metadata": {},
   "outputs": [],
   "source": [
    "# Your code here - remember to use markdown cells for comments as well!"
   ]
  },
  {
   "cell_type": "markdown",
   "metadata": {},
   "source": [
    "# OSEMN Model\n",
    "\n",
    "For our current project, our team decided on using the OSEMN model as the backbone for our analysis. We felt that it was the most straightforward approach, giving us a lot of flexibility and versatility to apply our findings to a wide-ranging audience. "
   ]
  },
  {
   "cell_type": "markdown",
   "metadata": {},
   "source": [
    "# O: Obtain\n",
    "We will be using the King County House Sales dataset to predict the sale price of houses as accurately as possible."
   ]
  },
  {
   "cell_type": "code",
   "execution_count": 1,
   "metadata": {
    "scrolled": true
   },
   "outputs": [
    {
     "data": {
      "text/html": [
       "<div>\n",
       "<style scoped>\n",
       "    .dataframe tbody tr th:only-of-type {\n",
       "        vertical-align: middle;\n",
       "    }\n",
       "\n",
       "    .dataframe tbody tr th {\n",
       "        vertical-align: top;\n",
       "    }\n",
       "\n",
       "    .dataframe thead th {\n",
       "        text-align: right;\n",
       "    }\n",
       "</style>\n",
       "<table border=\"1\" class=\"dataframe\">\n",
       "  <thead>\n",
       "    <tr style=\"text-align: right;\">\n",
       "      <th></th>\n",
       "      <th>id</th>\n",
       "      <th>date</th>\n",
       "      <th>price</th>\n",
       "      <th>bedrooms</th>\n",
       "      <th>bathrooms</th>\n",
       "      <th>sqft_living</th>\n",
       "      <th>sqft_lot</th>\n",
       "      <th>floors</th>\n",
       "      <th>waterfront</th>\n",
       "      <th>view</th>\n",
       "      <th>...</th>\n",
       "      <th>grade</th>\n",
       "      <th>sqft_above</th>\n",
       "      <th>sqft_basement</th>\n",
       "      <th>yr_built</th>\n",
       "      <th>yr_renovated</th>\n",
       "      <th>zipcode</th>\n",
       "      <th>lat</th>\n",
       "      <th>long</th>\n",
       "      <th>sqft_living15</th>\n",
       "      <th>sqft_lot15</th>\n",
       "    </tr>\n",
       "  </thead>\n",
       "  <tbody>\n",
       "    <tr>\n",
       "      <th>0</th>\n",
       "      <td>7129300520</td>\n",
       "      <td>10/13/2014</td>\n",
       "      <td>221900.0</td>\n",
       "      <td>3</td>\n",
       "      <td>1.00</td>\n",
       "      <td>1180</td>\n",
       "      <td>5650</td>\n",
       "      <td>1.0</td>\n",
       "      <td>NaN</td>\n",
       "      <td>0.0</td>\n",
       "      <td>...</td>\n",
       "      <td>7</td>\n",
       "      <td>1180</td>\n",
       "      <td>0.0</td>\n",
       "      <td>1955</td>\n",
       "      <td>0.0</td>\n",
       "      <td>98178</td>\n",
       "      <td>47.5112</td>\n",
       "      <td>-122.257</td>\n",
       "      <td>1340</td>\n",
       "      <td>5650</td>\n",
       "    </tr>\n",
       "    <tr>\n",
       "      <th>1</th>\n",
       "      <td>6414100192</td>\n",
       "      <td>12/9/2014</td>\n",
       "      <td>538000.0</td>\n",
       "      <td>3</td>\n",
       "      <td>2.25</td>\n",
       "      <td>2570</td>\n",
       "      <td>7242</td>\n",
       "      <td>2.0</td>\n",
       "      <td>0.0</td>\n",
       "      <td>0.0</td>\n",
       "      <td>...</td>\n",
       "      <td>7</td>\n",
       "      <td>2170</td>\n",
       "      <td>400.0</td>\n",
       "      <td>1951</td>\n",
       "      <td>1991.0</td>\n",
       "      <td>98125</td>\n",
       "      <td>47.7210</td>\n",
       "      <td>-122.319</td>\n",
       "      <td>1690</td>\n",
       "      <td>7639</td>\n",
       "    </tr>\n",
       "    <tr>\n",
       "      <th>2</th>\n",
       "      <td>5631500400</td>\n",
       "      <td>2/25/2015</td>\n",
       "      <td>180000.0</td>\n",
       "      <td>2</td>\n",
       "      <td>1.00</td>\n",
       "      <td>770</td>\n",
       "      <td>10000</td>\n",
       "      <td>1.0</td>\n",
       "      <td>0.0</td>\n",
       "      <td>0.0</td>\n",
       "      <td>...</td>\n",
       "      <td>6</td>\n",
       "      <td>770</td>\n",
       "      <td>0.0</td>\n",
       "      <td>1933</td>\n",
       "      <td>NaN</td>\n",
       "      <td>98028</td>\n",
       "      <td>47.7379</td>\n",
       "      <td>-122.233</td>\n",
       "      <td>2720</td>\n",
       "      <td>8062</td>\n",
       "    </tr>\n",
       "    <tr>\n",
       "      <th>3</th>\n",
       "      <td>2487200875</td>\n",
       "      <td>12/9/2014</td>\n",
       "      <td>604000.0</td>\n",
       "      <td>4</td>\n",
       "      <td>3.00</td>\n",
       "      <td>1960</td>\n",
       "      <td>5000</td>\n",
       "      <td>1.0</td>\n",
       "      <td>0.0</td>\n",
       "      <td>0.0</td>\n",
       "      <td>...</td>\n",
       "      <td>7</td>\n",
       "      <td>1050</td>\n",
       "      <td>910.0</td>\n",
       "      <td>1965</td>\n",
       "      <td>0.0</td>\n",
       "      <td>98136</td>\n",
       "      <td>47.5208</td>\n",
       "      <td>-122.393</td>\n",
       "      <td>1360</td>\n",
       "      <td>5000</td>\n",
       "    </tr>\n",
       "    <tr>\n",
       "      <th>4</th>\n",
       "      <td>1954400510</td>\n",
       "      <td>2/18/2015</td>\n",
       "      <td>510000.0</td>\n",
       "      <td>3</td>\n",
       "      <td>2.00</td>\n",
       "      <td>1680</td>\n",
       "      <td>8080</td>\n",
       "      <td>1.0</td>\n",
       "      <td>0.0</td>\n",
       "      <td>0.0</td>\n",
       "      <td>...</td>\n",
       "      <td>8</td>\n",
       "      <td>1680</td>\n",
       "      <td>0.0</td>\n",
       "      <td>1987</td>\n",
       "      <td>0.0</td>\n",
       "      <td>98074</td>\n",
       "      <td>47.6168</td>\n",
       "      <td>-122.045</td>\n",
       "      <td>1800</td>\n",
       "      <td>7503</td>\n",
       "    </tr>\n",
       "  </tbody>\n",
       "</table>\n",
       "<p>5 rows × 21 columns</p>\n",
       "</div>"
      ],
      "text/plain": [
       "           id        date     price  bedrooms  bathrooms  sqft_living  \\\n",
       "0  7129300520  10/13/2014  221900.0         3       1.00         1180   \n",
       "1  6414100192   12/9/2014  538000.0         3       2.25         2570   \n",
       "2  5631500400   2/25/2015  180000.0         2       1.00          770   \n",
       "3  2487200875   12/9/2014  604000.0         4       3.00         1960   \n",
       "4  1954400510   2/18/2015  510000.0         3       2.00         1680   \n",
       "\n",
       "   sqft_lot  floors  waterfront  view     ...      grade  sqft_above  \\\n",
       "0      5650     1.0         NaN   0.0     ...          7        1180   \n",
       "1      7242     2.0         0.0   0.0     ...          7        2170   \n",
       "2     10000     1.0         0.0   0.0     ...          6         770   \n",
       "3      5000     1.0         0.0   0.0     ...          7        1050   \n",
       "4      8080     1.0         0.0   0.0     ...          8        1680   \n",
       "\n",
       "   sqft_basement yr_built  yr_renovated  zipcode      lat     long  \\\n",
       "0            0.0     1955           0.0    98178  47.5112 -122.257   \n",
       "1          400.0     1951        1991.0    98125  47.7210 -122.319   \n",
       "2            0.0     1933           NaN    98028  47.7379 -122.233   \n",
       "3          910.0     1965           0.0    98136  47.5208 -122.393   \n",
       "4            0.0     1987           0.0    98074  47.6168 -122.045   \n",
       "\n",
       "   sqft_living15  sqft_lot15  \n",
       "0           1340        5650  \n",
       "1           1690        7639  \n",
       "2           2720        8062  \n",
       "3           1360        5000  \n",
       "4           1800        7503  \n",
       "\n",
       "[5 rows x 21 columns]"
      ]
     },
     "execution_count": 1,
     "metadata": {},
     "output_type": "execute_result"
    }
   ],
   "source": [
    "import pandas as pd\n",
    "import numpy as np\n",
    "import seaborn as sns\n",
    "import matplotlib.pyplot as plt\n",
    "import statsmodels.formula.api as smf\n",
    "%matplotlib inline\n",
    "# loading the data into a dataframe\n",
    "df = pd.read_csv('kc_house_data.csv')\n",
    "df.head()"
   ]
  },
  {
   "cell_type": "code",
   "execution_count": 2,
   "metadata": {
    "scrolled": true
   },
   "outputs": [
    {
     "data": {
      "text/plain": [
       "21597"
      ]
     },
     "execution_count": 2,
     "metadata": {},
     "output_type": "execute_result"
    }
   ],
   "source": [
    "len(df)"
   ]
  },
  {
   "cell_type": "markdown",
   "metadata": {},
   "source": [
    "21 total columns\n",
    "\n",
    "21,597 total entries"
   ]
  },
  {
   "cell_type": "markdown",
   "metadata": {},
   "source": [
    "# S: Scrub \n",
    "Here we will be further investigating our dataset. This includes identifying and removing null values, replacing values, distinguishing between continuous and categorical columns and converting formats. As well as any other issues that may come up during this exploratory process. "
   ]
  },
  {
   "cell_type": "code",
   "execution_count": 3,
   "metadata": {},
   "outputs": [
    {
     "name": "stdout",
     "output_type": "stream",
     "text": [
      "<class 'pandas.core.frame.DataFrame'>\n",
      "RangeIndex: 21597 entries, 0 to 21596\n",
      "Data columns (total 21 columns):\n",
      "id               21597 non-null int64\n",
      "date             21597 non-null object\n",
      "price            21597 non-null float64\n",
      "bedrooms         21597 non-null int64\n",
      "bathrooms        21597 non-null float64\n",
      "sqft_living      21597 non-null int64\n",
      "sqft_lot         21597 non-null int64\n",
      "floors           21597 non-null float64\n",
      "waterfront       19221 non-null float64\n",
      "view             21534 non-null float64\n",
      "condition        21597 non-null int64\n",
      "grade            21597 non-null int64\n",
      "sqft_above       21597 non-null int64\n",
      "sqft_basement    21597 non-null object\n",
      "yr_built         21597 non-null int64\n",
      "yr_renovated     17755 non-null float64\n",
      "zipcode          21597 non-null int64\n",
      "lat              21597 non-null float64\n",
      "long             21597 non-null float64\n",
      "sqft_living15    21597 non-null int64\n",
      "sqft_lot15       21597 non-null int64\n",
      "dtypes: float64(8), int64(11), object(2)\n",
      "memory usage: 3.5+ MB\n"
     ]
    }
   ],
   "source": [
    "df.info()"
   ]
  },
  {
   "cell_type": "markdown",
   "metadata": {},
   "source": [
    "Because modeling is an iterative process, to reduce runtimes as we continuously train our model, we need to subset our data. To do this, we took a random sample of our data using the sample function in pandas. Our subset (sdf) contains a random 30% of our data. "
   ]
  },
  {
   "cell_type": "code",
   "execution_count": 4,
   "metadata": {},
   "outputs": [],
   "source": [
    "sdf = df.sample(frac=0.3)"
   ]
  },
  {
   "cell_type": "code",
   "execution_count": 5,
   "metadata": {},
   "outputs": [
    {
     "name": "stdout",
     "output_type": "stream",
     "text": [
      "<class 'pandas.core.frame.DataFrame'>\n",
      "Int64Index: 6479 entries, 20668 to 661\n",
      "Data columns (total 21 columns):\n",
      "id               6479 non-null int64\n",
      "date             6479 non-null object\n",
      "price            6479 non-null float64\n",
      "bedrooms         6479 non-null int64\n",
      "bathrooms        6479 non-null float64\n",
      "sqft_living      6479 non-null int64\n",
      "sqft_lot         6479 non-null int64\n",
      "floors           6479 non-null float64\n",
      "waterfront       5784 non-null float64\n",
      "view             6459 non-null float64\n",
      "condition        6479 non-null int64\n",
      "grade            6479 non-null int64\n",
      "sqft_above       6479 non-null int64\n",
      "sqft_basement    6479 non-null object\n",
      "yr_built         6479 non-null int64\n",
      "yr_renovated     5383 non-null float64\n",
      "zipcode          6479 non-null int64\n",
      "lat              6479 non-null float64\n",
      "long             6479 non-null float64\n",
      "sqft_living15    6479 non-null int64\n",
      "sqft_lot15       6479 non-null int64\n",
      "dtypes: float64(8), int64(11), object(2)\n",
      "memory usage: 1.1+ MB\n"
     ]
    }
   ],
   "source": [
    "sdf.info()"
   ]
  },
  {
   "cell_type": "code",
   "execution_count": 6,
   "metadata": {},
   "outputs": [],
   "source": [
    "to_drop = [\"id\", \"date\", \"zipcode\", \"lat\", \"long\"]\n",
    "sdf.drop(to_drop, axis=1, inplace=True)"
   ]
  },
  {
   "cell_type": "markdown",
   "metadata": {},
   "source": [
    "The \"id\" and \"date\" columns were dropped as they will not be used for this analysis and model building. Additionally, after multiple attempts to include the \"zipcode\", \"lat\" and \"long\" columns, I decided that they provided too large of a technical challenge without any meaningful improvment to the model. In short, they created too many dummy categories during the one-hot encoding stage to process efficently.  "
   ]
  },
  {
   "cell_type": "markdown",
   "metadata": {},
   "source": [
    "Based on our findings from the dataframe's metadata, I noticed that only two columns were cast at strings (object). \"Date\" seemed to be correctly cast as a string, but \"sqft_basement\" did not seem appropriate as a string, so it was further inspected. "
   ]
  },
  {
   "cell_type": "code",
   "execution_count": 7,
   "metadata": {
    "scrolled": true
   },
   "outputs": [
    {
     "data": {
      "text/plain": [
       "array(['900.0', '0.0', '600.0', '980.0', '430.0', '240.0', '390.0',\n",
       "       '260.0', '760.0', '770.0', '990.0', '590.0', '500.0', '700.0',\n",
       "       '290.0', '800.0', '?', '180.0', '1000.0', '440.0', '810.0',\n",
       "       '550.0', '690.0', '970.0', '820.0', '790.0', '200.0', '1480.0',\n",
       "       '1790.0', '950.0', '1100.0', '890.0', '1300.0', '460.0', '750.0',\n",
       "       '1200.0', '940.0', '740.0', '620.0', '1360.0', '450.0', '1430.0',\n",
       "       '870.0', '170.0', '400.0', '580.0', '570.0', '1720.0', '1460.0',\n",
       "       '330.0', '840.0', '670.0', '530.0', '510.0', '1150.0', '560.0',\n",
       "       '730.0', '1110.0', '520.0', '140.0', '630.0', '1130.0', '490.0',\n",
       "       '910.0', '1060.0', '680.0', '250.0', '1940.0', '370.0', '160.0',\n",
       "       '540.0', '780.0', '720.0', '1950.0', '360.0', '480.0', '830.0',\n",
       "       '1010.0', '110.0', '1230.0', '1600.0', '850.0', '860.0', '660.0',\n",
       "       '120.0', '1020.0', '1420.0', '1400.0', '1830.0', '300.0', '470.0',\n",
       "       '710.0', '340.0', '1450.0', '420.0', '210.0', '861.0', '1050.0',\n",
       "       '1090.0', '1590.0', '310.0', '960.0', '930.0', '920.0', '270.0',\n",
       "       '1240.0', '1070.0', '1380.0', '1250.0', '1040.0', '610.0',\n",
       "       '1190.0', '350.0', '880.0', '1870.0', '1910.0', '1350.0', '248.0',\n",
       "       '130.0', '1210.0', '1510.0', '768.0', '265.0', '320.0', '1310.0',\n",
       "       '410.0', '50.0', '1290.0', '1270.0', '190.0', '1500.0', '1120.0',\n",
       "       '650.0', '1220.0', '380.0', '640.0', '280.0', '60.0', '1580.0',\n",
       "       '1030.0', '220.0', '100.0', '1710.0', '1490.0', '1410.0', '1170.0',\n",
       "       '1670.0', '80.0', '1320.0', '2180.0', '1630.0', '2080.0', '1860.0',\n",
       "       '1340.0', '1280.0', '1470.0', '1370.0', '1660.0', '1180.0',\n",
       "       '1800.0', '1540.0', '1080.0', '230.0', '2010.0', '666.0', '1140.0',\n",
       "       '1610.0', '1530.0', '414.0', '90.0', '1690.0', '1760.0', '1520.0',\n",
       "       '1850.0', '150.0', '1160.0', '1930.0', '2040.0', '1260.0',\n",
       "       '1780.0', '915.0', '2490.0', '2110.0', '906.0', '1640.0', '2150.0',\n",
       "       '40.0', '2390.0', '1275.0', '1680.0', '235.0', '4130.0', '2070.0',\n",
       "       '274.0', '2030.0', '2200.0', '2190.0', '1440.0', '3260.0',\n",
       "       '1700.0', '1330.0', '2050.0', '508.0', '2170.0', '1730.0',\n",
       "       '1008.0', '1750.0', '2810.0', '176.0', '1650.0', '1816.0', '70.0',\n",
       "       '3480.0', '2570.0', '2160.0', '1840.0', '20.0', '1810.0', '1390.0',\n",
       "       '518.0', '2580.0', '3500.0', '2020.0', '1913.0', '2360.0',\n",
       "       '2500.0', '515.0'], dtype=object)"
      ]
     },
     "execution_count": 7,
     "metadata": {},
     "output_type": "execute_result"
    }
   ],
   "source": [
    "sdf.sqft_basement.unique()"
   ]
  },
  {
   "cell_type": "code",
   "execution_count": 8,
   "metadata": {
    "scrolled": true
   },
   "outputs": [
    {
     "data": {
      "text/plain": [
       "0.0       3874\n",
       "?          150\n",
       "500.0       62\n",
       "800.0       56\n",
       "600.0       56\n",
       "900.0       54\n",
       "700.0       54\n",
       "1000.0      46\n",
       "300.0       46\n",
       "400.0       39\n",
       "750.0       32\n",
       "530.0       32\n",
       "450.0       31\n",
       "480.0       31\n",
       "780.0       31\n",
       "720.0       30\n",
       "860.0       29\n",
       "1100.0      29\n",
       "550.0       27\n",
       "290.0       27\n",
       "850.0       25\n",
       "670.0       25\n",
       "200.0       24\n",
       "920.0       24\n",
       "520.0       24\n",
       "950.0       23\n",
       "1010.0      23\n",
       "1040.0      22\n",
       "360.0       22\n",
       "730.0       22\n",
       "          ... \n",
       "2020.0       1\n",
       "666.0        1\n",
       "1930.0       1\n",
       "768.0        1\n",
       "1760.0       1\n",
       "1008.0       1\n",
       "1910.0       1\n",
       "235.0        1\n",
       "265.0        1\n",
       "2200.0       1\n",
       "3500.0       1\n",
       "3260.0       1\n",
       "1275.0       1\n",
       "1860.0       1\n",
       "2070.0       1\n",
       "518.0        1\n",
       "248.0        1\n",
       "2030.0       1\n",
       "2110.0       1\n",
       "274.0        1\n",
       "2160.0       1\n",
       "2150.0       1\n",
       "1390.0       1\n",
       "2390.0       1\n",
       "1940.0       1\n",
       "1810.0       1\n",
       "2490.0       1\n",
       "3480.0       1\n",
       "1730.0       1\n",
       "1610.0       1\n",
       "Name: sqft_basement, Length: 227, dtype: int64"
      ]
     },
     "execution_count": 8,
     "metadata": {},
     "output_type": "execute_result"
    }
   ],
   "source": [
    "sdf['sqft_basement'].value_counts()"
   ]
  },
  {
   "cell_type": "markdown",
   "metadata": {},
   "source": [
    "The column \"sqft_basement\" seems to be incorrectly cast as a string type despite containing numerical data. This was due to the fact that there are 136 entries that have \"?\" as their value, symbolizing unknown data for this column. I decided to drop these values as it only constitutes about a 2% reduction. "
   ]
  },
  {
   "cell_type": "code",
   "execution_count": 9,
   "metadata": {},
   "outputs": [],
   "source": [
    "to_drop = sdf[sdf['sqft_basement'] == '?']\n",
    "sdf.drop(to_drop.index, axis=0, inplace=True)\n",
    "sdf.sqft_basement = sdf.sqft_basement.astype('float')"
   ]
  },
  {
   "cell_type": "code",
   "execution_count": 10,
   "metadata": {
    "scrolled": false
   },
   "outputs": [
    {
     "name": "stdout",
     "output_type": "stream",
     "text": [
      "<class 'pandas.core.frame.DataFrame'>\n",
      "Int64Index: 6329 entries, 20668 to 661\n",
      "Data columns (total 16 columns):\n",
      "price            6329 non-null float64\n",
      "bedrooms         6329 non-null int64\n",
      "bathrooms        6329 non-null float64\n",
      "sqft_living      6329 non-null int64\n",
      "sqft_lot         6329 non-null int64\n",
      "floors           6329 non-null float64\n",
      "waterfront       5643 non-null float64\n",
      "view             6310 non-null float64\n",
      "condition        6329 non-null int64\n",
      "grade            6329 non-null int64\n",
      "sqft_above       6329 non-null int64\n",
      "sqft_basement    6329 non-null float64\n",
      "yr_built         6329 non-null int64\n",
      "yr_renovated     5270 non-null float64\n",
      "sqft_living15    6329 non-null int64\n",
      "sqft_lot15       6329 non-null int64\n",
      "dtypes: float64(7), int64(9)\n",
      "memory usage: 840.6 KB\n"
     ]
    }
   ],
   "source": [
    "sdf.info()"
   ]
  },
  {
   "cell_type": "code",
   "execution_count": 11,
   "metadata": {},
   "outputs": [
    {
     "data": {
      "text/plain": [
       "price               0\n",
       "bedrooms            0\n",
       "bathrooms           0\n",
       "sqft_living         0\n",
       "sqft_lot            0\n",
       "floors              0\n",
       "waterfront        686\n",
       "view               19\n",
       "condition           0\n",
       "grade               0\n",
       "sqft_above          0\n",
       "sqft_basement       0\n",
       "yr_built            0\n",
       "yr_renovated     1059\n",
       "sqft_living15       0\n",
       "sqft_lot15          0\n",
       "dtype: int64"
      ]
     },
     "execution_count": 11,
     "metadata": {},
     "output_type": "execute_result"
    }
   ],
   "source": [
    "sdf.isna().sum()"
   ]
  },
  {
   "cell_type": "markdown",
   "metadata": {},
   "source": [
    "Now we are checking to see if the data contains any null values. And by the looks of our results, we can see that \"waterfront\", \"view\" and \"yr_renovated\" all contain null values. We will inspect each individually. "
   ]
  },
  {
   "cell_type": "code",
   "execution_count": 12,
   "metadata": {
    "scrolled": true
   },
   "outputs": [
    {
     "data": {
      "text/plain": [
       "0.0    5662\n",
       "2.0     275\n",
       "3.0     160\n",
       "1.0     111\n",
       "4.0     102\n",
       "Name: view, dtype: int64"
      ]
     },
     "execution_count": 12,
     "metadata": {},
     "output_type": "execute_result"
    }
   ],
   "source": [
    "sdf.view.value_counts()"
   ]
  },
  {
   "cell_type": "code",
   "execution_count": 13,
   "metadata": {},
   "outputs": [],
   "source": [
    "sdf['view'].fillna(0, inplace=True)"
   ]
  },
  {
   "cell_type": "code",
   "execution_count": 14,
   "metadata": {},
   "outputs": [
    {
     "data": {
      "text/plain": [
       "price               0\n",
       "bedrooms            0\n",
       "bathrooms           0\n",
       "sqft_living         0\n",
       "sqft_lot            0\n",
       "floors              0\n",
       "waterfront        686\n",
       "view                0\n",
       "condition           0\n",
       "grade               0\n",
       "sqft_above          0\n",
       "sqft_basement       0\n",
       "yr_built            0\n",
       "yr_renovated     1059\n",
       "sqft_living15       0\n",
       "sqft_lot15          0\n",
       "dtype: int64"
      ]
     },
     "execution_count": 14,
     "metadata": {},
     "output_type": "execute_result"
    }
   ],
   "source": [
    "sdf.isna().sum()"
   ]
  },
  {
   "cell_type": "markdown",
   "metadata": {},
   "source": [
    "For the \"views\" column, I decided to replace the null values with the most common value. For \"views\", the most common value was 0.0. Since there were only 15 total null values for this column and 0.0 had an order of magnitude more counts than the other values, I felt this would minimally skew the data, if at all. "
   ]
  },
  {
   "cell_type": "code",
   "execution_count": 15,
   "metadata": {},
   "outputs": [
    {
     "data": {
      "text/plain": [
       "array([ 0.,  1., nan])"
      ]
     },
     "execution_count": 15,
     "metadata": {},
     "output_type": "execute_result"
    }
   ],
   "source": [
    "sdf.waterfront.unique()"
   ]
  },
  {
   "cell_type": "code",
   "execution_count": 16,
   "metadata": {
    "scrolled": true
   },
   "outputs": [
    {
     "data": {
      "text/plain": [
       "0.0    5600\n",
       "1.0      43\n",
       "Name: waterfront, dtype: int64"
      ]
     },
     "execution_count": 16,
     "metadata": {},
     "output_type": "execute_result"
    }
   ],
   "source": [
    "sdf.waterfront.value_counts()"
   ]
  },
  {
   "cell_type": "code",
   "execution_count": 17,
   "metadata": {
    "scrolled": true
   },
   "outputs": [
    {
     "data": {
      "text/plain": [
       "20668    0.0\n",
       "10575    0.0\n",
       "1851     0.0\n",
       "20309    1.0\n",
       "14111    0.0\n",
       "11842    0.0\n",
       "1980     0.0\n",
       "2178     0.0\n",
       "7393     0.0\n",
       "8424     0.0\n",
       "2916     0.0\n",
       "16346    0.0\n",
       "17333    nan\n",
       "208      0.0\n",
       "14546    nan\n",
       "18169    0.0\n",
       "5377     0.0\n",
       "11903    0.0\n",
       "10631    0.0\n",
       "7704     0.0\n",
       "3899     0.0\n",
       "12168    0.0\n",
       "16402    0.0\n",
       "12391    0.0\n",
       "3255     0.0\n",
       "19182    0.0\n",
       "13722    0.0\n",
       "2804     0.0\n",
       "5949     0.0\n",
       "18400    nan\n",
       "        ... \n",
       "486      0.0\n",
       "19638    0.0\n",
       "21049    0.0\n",
       "5820     0.0\n",
       "5350     0.0\n",
       "16126    nan\n",
       "12359    nan\n",
       "3565     nan\n",
       "19419    nan\n",
       "1761     0.0\n",
       "14710    0.0\n",
       "16483    0.0\n",
       "19571    0.0\n",
       "1419     0.0\n",
       "12868    0.0\n",
       "8626     0.0\n",
       "21494    0.0\n",
       "2458     0.0\n",
       "18323    0.0\n",
       "941      nan\n",
       "6493     nan\n",
       "20949    0.0\n",
       "11478    nan\n",
       "5132     0.0\n",
       "6420     0.0\n",
       "392      0.0\n",
       "4300     0.0\n",
       "8431     0.0\n",
       "14273    nan\n",
       "661      0.0\n",
       "Name: waterfront, Length: 6329, dtype: object"
      ]
     },
     "execution_count": 17,
     "metadata": {},
     "output_type": "execute_result"
    }
   ],
   "source": [
    "sdf.waterfront = sdf.waterfront.astype(\"str\")\n",
    "sdf['waterfront'].fillna('nan')"
   ]
  },
  {
   "cell_type": "code",
   "execution_count": 18,
   "metadata": {
    "scrolled": false
   },
   "outputs": [
    {
     "data": {
      "text/plain": [
       "price               0\n",
       "bedrooms            0\n",
       "bathrooms           0\n",
       "sqft_living         0\n",
       "sqft_lot            0\n",
       "floors              0\n",
       "waterfront          0\n",
       "view                0\n",
       "condition           0\n",
       "grade               0\n",
       "sqft_above          0\n",
       "sqft_basement       0\n",
       "yr_built            0\n",
       "yr_renovated     1059\n",
       "sqft_living15       0\n",
       "sqft_lot15          0\n",
       "dtype: int64"
      ]
     },
     "execution_count": 18,
     "metadata": {},
     "output_type": "execute_result"
    }
   ],
   "source": [
    "sdf.isna().sum()"
   ]
  },
  {
   "cell_type": "markdown",
   "metadata": {},
   "source": [
    "For the \"waterfront\" column, I noticed that it was incorrectly cast an numerical column despite being categorical data. So I changed its type from float to string. This allowed me to treat the null values as its own category.  "
   ]
  },
  {
   "cell_type": "code",
   "execution_count": 19,
   "metadata": {
    "scrolled": true
   },
   "outputs": [
    {
     "data": {
      "text/plain": [
       "array([  nan,    0., 2004., 1983., 2000., 1948., 2007., 2005., 1988.,\n",
       "       2003., 2013., 1997., 1992., 1963., 1999., 2014., 1986., 1955.,\n",
       "       1990., 1982., 1994., 2006., 2001., 2002., 1970., 2010., 1984.,\n",
       "       1998., 1993., 1995., 2009., 1977., 2008., 1960., 1985., 2015.,\n",
       "       1991., 1964., 1958., 2011., 1957., 1945., 2012., 1996., 1987.,\n",
       "       1953., 1979., 1965., 1956., 1975., 1972., 1973., 1981., 1940.,\n",
       "       1944., 1989., 1980.])"
      ]
     },
     "execution_count": 19,
     "metadata": {},
     "output_type": "execute_result"
    }
   ],
   "source": [
    "sdf.yr_renovated.unique()"
   ]
  },
  {
   "cell_type": "code",
   "execution_count": 20,
   "metadata": {
    "scrolled": true
   },
   "outputs": [
    {
     "data": {
      "text/plain": [
       "0.0       5049\n",
       "2014.0      29\n",
       "2007.0      13\n",
       "2005.0      11\n",
       "2000.0      11\n",
       "2008.0      10\n",
       "2003.0       9\n",
       "2004.0       9\n",
       "2010.0       6\n",
       "1994.0       6\n",
       "2002.0       6\n",
       "1998.0       6\n",
       "2009.0       5\n",
       "1986.0       5\n",
       "1990.0       5\n",
       "1993.0       4\n",
       "1983.0       4\n",
       "2015.0       4\n",
       "1995.0       4\n",
       "2006.0       4\n",
       "2011.0       4\n",
       "1997.0       4\n",
       "1982.0       4\n",
       "1964.0       3\n",
       "1987.0       3\n",
       "1985.0       3\n",
       "1988.0       3\n",
       "2001.0       3\n",
       "1977.0       3\n",
       "2013.0       3\n",
       "1999.0       3\n",
       "1980.0       2\n",
       "1996.0       2\n",
       "1991.0       2\n",
       "2012.0       2\n",
       "1992.0       2\n",
       "1984.0       2\n",
       "1960.0       2\n",
       "1970.0       2\n",
       "1963.0       2\n",
       "1975.0       1\n",
       "1958.0       1\n",
       "1953.0       1\n",
       "1981.0       1\n",
       "1948.0       1\n",
       "1944.0       1\n",
       "1957.0       1\n",
       "1972.0       1\n",
       "1965.0       1\n",
       "1940.0       1\n",
       "1979.0       1\n",
       "1956.0       1\n",
       "1973.0       1\n",
       "1945.0       1\n",
       "1989.0       1\n",
       "1955.0       1\n",
       "Name: yr_renovated, dtype: int64"
      ]
     },
     "execution_count": 20,
     "metadata": {},
     "output_type": "execute_result"
    }
   ],
   "source": [
    "sdf.yr_renovated.value_counts()"
   ]
  },
  {
   "cell_type": "code",
   "execution_count": 21,
   "metadata": {
    "scrolled": true
   },
   "outputs": [
    {
     "data": {
      "text/plain": [
       "count    5270.000000\n",
       "mean       83.757116\n",
       "std       400.390758\n",
       "min         0.000000\n",
       "25%         0.000000\n",
       "50%         0.000000\n",
       "75%         0.000000\n",
       "max      2015.000000\n",
       "Name: yr_renovated, dtype: float64"
      ]
     },
     "execution_count": 21,
     "metadata": {},
     "output_type": "execute_result"
    }
   ],
   "source": [
    "sdf.yr_renovated.describe()"
   ]
  },
  {
   "cell_type": "code",
   "execution_count": 22,
   "metadata": {},
   "outputs": [
    {
     "data": {
      "text/plain": [
       "price            0\n",
       "bedrooms         0\n",
       "bathrooms        0\n",
       "sqft_living      0\n",
       "sqft_lot         0\n",
       "floors           0\n",
       "waterfront       0\n",
       "view             0\n",
       "condition        0\n",
       "grade            0\n",
       "sqft_above       0\n",
       "sqft_basement    0\n",
       "yr_built         0\n",
       "sqft_living15    0\n",
       "sqft_lot15       0\n",
       "dtype: int64"
      ]
     },
     "execution_count": 22,
     "metadata": {},
     "output_type": "execute_result"
    }
   ],
   "source": [
    "to_drop = [\"yr_renovated\"]\n",
    "sdf.drop(to_drop, axis=1, inplace=True)\n",
    "sdf.isna().sum()"
   ]
  },
  {
   "cell_type": "markdown",
   "metadata": {},
   "source": [
    "I decided to drop the \"yr_renovated\" column. 5019/6343 in our data were not renovated. An additional 1121 contained null values, which I did not understand how to deal with correctly. This left us with only 203 rows with actual years in which they were renovated. This data did not seem like it would contribute meaningfully to our model. "
   ]
  },
  {
   "cell_type": "code",
   "execution_count": 23,
   "metadata": {
    "scrolled": false
   },
   "outputs": [
    {
     "name": "stdout",
     "output_type": "stream",
     "text": [
      "<class 'pandas.core.frame.DataFrame'>\n",
      "Int64Index: 6329 entries, 20668 to 661\n",
      "Data columns (total 15 columns):\n",
      "price            6329 non-null float64\n",
      "bedrooms         6329 non-null int64\n",
      "bathrooms        6329 non-null float64\n",
      "sqft_living      6329 non-null int64\n",
      "sqft_lot         6329 non-null int64\n",
      "floors           6329 non-null float64\n",
      "waterfront       6329 non-null object\n",
      "view             6329 non-null float64\n",
      "condition        6329 non-null int64\n",
      "grade            6329 non-null int64\n",
      "sqft_above       6329 non-null int64\n",
      "sqft_basement    6329 non-null float64\n",
      "yr_built         6329 non-null int64\n",
      "sqft_living15    6329 non-null int64\n",
      "sqft_lot15       6329 non-null int64\n",
      "dtypes: float64(5), int64(9), object(1)\n",
      "memory usage: 791.1+ KB\n"
     ]
    }
   ],
   "source": [
    "sdf.info()"
   ]
  },
  {
   "cell_type": "markdown",
   "metadata": {},
   "source": [
    "Some categorical data was incorrectly encoded as integers/floats. These were converted to strings to better represent the categorical nature and be one-hot encoded later on in the process. "
   ]
  },
  {
   "cell_type": "code",
   "execution_count": 24,
   "metadata": {},
   "outputs": [],
   "source": [
    "sdf.bedrooms = sdf.bedrooms.astype(\"str\")\n",
    "sdf.bathrooms = sdf.bathrooms.astype(\"str\")\n",
    "sdf.floors = sdf.floors.astype(\"str\")\n",
    "sdf.view = sdf.view.astype(\"str\")\n",
    "sdf.condition = sdf.condition.astype(\"str\")\n",
    "sdf.grade = sdf.grade.astype(\"str\")\n",
    "sdf.yr_built = sdf.yr_built.astype(\"str\")\n",
    "#sdf.zipcode = sdf.zipcode.astype(\"str\")\n",
    "#sdf.lat = sdf.lat.astype(\"str\")\n",
    "#sdf.long = sdf.long.astype(\"str\")"
   ]
  },
  {
   "cell_type": "code",
   "execution_count": 25,
   "metadata": {},
   "outputs": [
    {
     "name": "stdout",
     "output_type": "stream",
     "text": [
      "<class 'pandas.core.frame.DataFrame'>\n",
      "Int64Index: 6329 entries, 20668 to 661\n",
      "Data columns (total 15 columns):\n",
      "price            6329 non-null float64\n",
      "bedrooms         6329 non-null object\n",
      "bathrooms        6329 non-null object\n",
      "sqft_living      6329 non-null int64\n",
      "sqft_lot         6329 non-null int64\n",
      "floors           6329 non-null object\n",
      "waterfront       6329 non-null object\n",
      "view             6329 non-null object\n",
      "condition        6329 non-null object\n",
      "grade            6329 non-null object\n",
      "sqft_above       6329 non-null int64\n",
      "sqft_basement    6329 non-null float64\n",
      "yr_built         6329 non-null object\n",
      "sqft_living15    6329 non-null int64\n",
      "sqft_lot15       6329 non-null int64\n",
      "dtypes: float64(2), int64(5), object(8)\n",
      "memory usage: 791.1+ KB\n"
     ]
    }
   ],
   "source": [
    "sdf.info()"
   ]
  },
  {
   "cell_type": "code",
   "execution_count": 26,
   "metadata": {},
   "outputs": [
    {
     "data": {
      "text/plain": [
       "<matplotlib.axes._subplots.AxesSubplot at 0x1a18b76828>"
      ]
     },
     "execution_count": 26,
     "metadata": {},
     "output_type": "execute_result"
    },
    {
     "data": {
      "image/png": "[encoded data removed]",
      "text/plain": [
       "<Figure size 792x648 with 2 Axes>"
      ]
     },
     "metadata": {},
     "output_type": "display_data"
    }
   ],
   "source": [
    "# Set the style of the visualization\n",
    "sns.set(style=\"white\")\n",
    "\n",
    "# Create a covariance matrix\n",
    "corr = sdf.corr()\n",
    "\n",
    "# Generate a mask the size of our covariance matrix\n",
    "mask = np.zeros_like(corr, dtype=np.bool)\n",
    "mask[np.triu_indices_from(mask)] = True\n",
    "\n",
    "# Set up the matplotlib figure\n",
    "f, ax = plt.subplots(figsize=(11, 9))\n",
    "\n",
    "# Generate a custom diverging colormap\n",
    "cmap = sns.diverging_palette(220, 10, as_cmap=True)\n",
    "\n",
    "# Draw the heatmap with the mask and correct aspect ratio\n",
    "sns.heatmap(corr, mask=mask, cmap=cmap, vmax=.3, center=0,\n",
    "            square=True, linewidths=.5, cbar_kws={\"shrink\": .5})"
   ]
  },
  {
   "cell_type": "code",
   "execution_count": 27,
   "metadata": {
    "scrolled": false
   },
   "outputs": [
    {
     "data": {
      "text/html": [
       "<div>\n",
       "<style scoped>\n",
       "    .dataframe tbody tr th:only-of-type {\n",
       "        vertical-align: middle;\n",
       "    }\n",
       "\n",
       "    .dataframe tbody tr th {\n",
       "        vertical-align: top;\n",
       "    }\n",
       "\n",
       "    .dataframe thead th {\n",
       "        text-align: right;\n",
       "    }\n",
       "</style>\n",
       "<table border=\"1\" class=\"dataframe\">\n",
       "  <thead>\n",
       "    <tr style=\"text-align: right;\">\n",
       "      <th></th>\n",
       "      <th>price</th>\n",
       "      <th>sqft_living</th>\n",
       "      <th>sqft_lot</th>\n",
       "      <th>sqft_above</th>\n",
       "      <th>sqft_basement</th>\n",
       "      <th>sqft_living15</th>\n",
       "      <th>sqft_lot15</th>\n",
       "    </tr>\n",
       "  </thead>\n",
       "  <tbody>\n",
       "    <tr>\n",
       "      <th>price</th>\n",
       "      <td>True</td>\n",
       "      <td>False</td>\n",
       "      <td>False</td>\n",
       "      <td>False</td>\n",
       "      <td>False</td>\n",
       "      <td>False</td>\n",
       "      <td>False</td>\n",
       "    </tr>\n",
       "    <tr>\n",
       "      <th>sqft_living</th>\n",
       "      <td>False</td>\n",
       "      <td>True</td>\n",
       "      <td>False</td>\n",
       "      <td>True</td>\n",
       "      <td>False</td>\n",
       "      <td>True</td>\n",
       "      <td>False</td>\n",
       "    </tr>\n",
       "    <tr>\n",
       "      <th>sqft_lot</th>\n",
       "      <td>False</td>\n",
       "      <td>False</td>\n",
       "      <td>True</td>\n",
       "      <td>False</td>\n",
       "      <td>False</td>\n",
       "      <td>False</td>\n",
       "      <td>False</td>\n",
       "    </tr>\n",
       "    <tr>\n",
       "      <th>sqft_above</th>\n",
       "      <td>False</td>\n",
       "      <td>True</td>\n",
       "      <td>False</td>\n",
       "      <td>True</td>\n",
       "      <td>False</td>\n",
       "      <td>False</td>\n",
       "      <td>False</td>\n",
       "    </tr>\n",
       "    <tr>\n",
       "      <th>sqft_basement</th>\n",
       "      <td>False</td>\n",
       "      <td>False</td>\n",
       "      <td>False</td>\n",
       "      <td>False</td>\n",
       "      <td>True</td>\n",
       "      <td>False</td>\n",
       "      <td>False</td>\n",
       "    </tr>\n",
       "    <tr>\n",
       "      <th>sqft_living15</th>\n",
       "      <td>False</td>\n",
       "      <td>True</td>\n",
       "      <td>False</td>\n",
       "      <td>False</td>\n",
       "      <td>False</td>\n",
       "      <td>True</td>\n",
       "      <td>False</td>\n",
       "    </tr>\n",
       "    <tr>\n",
       "      <th>sqft_lot15</th>\n",
       "      <td>False</td>\n",
       "      <td>False</td>\n",
       "      <td>False</td>\n",
       "      <td>False</td>\n",
       "      <td>False</td>\n",
       "      <td>False</td>\n",
       "      <td>True</td>\n",
       "    </tr>\n",
       "  </tbody>\n",
       "</table>\n",
       "</div>"
      ],
      "text/plain": [
       "               price  sqft_living  sqft_lot  sqft_above  sqft_basement  \\\n",
       "price           True        False     False       False          False   \n",
       "sqft_living    False         True     False        True          False   \n",
       "sqft_lot       False        False      True       False          False   \n",
       "sqft_above     False         True     False        True          False   \n",
       "sqft_basement  False        False     False       False           True   \n",
       "sqft_living15  False         True     False       False          False   \n",
       "sqft_lot15     False        False     False       False          False   \n",
       "\n",
       "               sqft_living15  sqft_lot15  \n",
       "price                  False       False  \n",
       "sqft_living             True       False  \n",
       "sqft_lot               False       False  \n",
       "sqft_above             False       False  \n",
       "sqft_basement          False       False  \n",
       "sqft_living15           True       False  \n",
       "sqft_lot15             False        True  "
      ]
     },
     "execution_count": 27,
     "metadata": {},
     "output_type": "execute_result"
    }
   ],
   "source": [
    "abs(sdf.corr()) > 0.75"
   ]
  },
  {
   "cell_type": "markdown",
   "metadata": {},
   "source": [
    "Based on the heatmap and the correlation matrix (0.75 was used as a cutoff because generally, a correlation with an absolute value around 0.7-0.8 or higher is considered a high correlation), \"sqft_living\" is highly correlated with \"sqft_living15\" and \"sqft_above\". To solve this issue, the column was removed from our data. The rest of the data did not show any high correlation amongst each other."
   ]
  },
  {
   "cell_type": "code",
   "execution_count": 29,
   "metadata": {},
   "outputs": [],
   "source": [
    "to_drop = [\"sqft_living\"]\n",
    "sdf.drop(to_drop, axis=1, inplace=True)"
   ]
  },
  {
   "cell_type": "code",
   "execution_count": 30,
   "metadata": {},
   "outputs": [
    {
     "name": "stdout",
     "output_type": "stream",
     "text": [
      "<class 'pandas.core.frame.DataFrame'>\n",
      "Int64Index: 6329 entries, 20668 to 661\n",
      "Data columns (total 14 columns):\n",
      "price            6329 non-null float64\n",
      "bedrooms         6329 non-null object\n",
      "bathrooms        6329 non-null object\n",
      "sqft_lot         6329 non-null int64\n",
      "floors           6329 non-null object\n",
      "waterfront       6329 non-null object\n",
      "view             6329 non-null object\n",
      "condition        6329 non-null object\n",
      "grade            6329 non-null object\n",
      "sqft_above       6329 non-null int64\n",
      "sqft_basement    6329 non-null float64\n",
      "yr_built         6329 non-null object\n",
      "sqft_living15    6329 non-null int64\n",
      "sqft_lot15       6329 non-null int64\n",
      "dtypes: float64(2), int64(4), object(8)\n",
      "memory usage: 741.7+ KB\n"
     ]
    }
   ],
   "source": [
    "sdf.info()"
   ]
  },
  {
   "cell_type": "code",
   "execution_count": 31,
   "metadata": {},
   "outputs": [],
   "source": [
    "# z-score normalization\n",
    "sdf.sqft_lot = (sdf.sqft_lot - sdf.sqft_lot.mean()) / sdf.sqft_lot.std()\n",
    "sdf.sqft_above = (sdf.sqft_above - sdf.sqft_above.mean()) / sdf.sqft_above.std()\n",
    "sdf.sqft_basement = (sdf.sqft_basement - sdf.sqft_basement.mean()) / sdf.sqft_basement.std()\n",
    "sdf.sqft_living15 = (sdf.sqft_living15 - sdf.sqft_living15.mean()) / sdf.sqft_living15.std()\n",
    "sdf.sqft_lot15 = (sdf.sqft_lot15 - sdf.sqft_lot15.mean()) / sdf.sqft_lot15.std()"
   ]
  },
  {
   "cell_type": "markdown",
   "metadata": {},
   "source": [
    "Here we are normalizing our data, which converts it to the same scale. We used z-score normalization, which is the most widely used method for normalization. "
   ]
  },
  {
   "cell_type": "markdown",
   "metadata": {},
   "source": [
    "# E: Explore\n",
    "Exploratory Data Analysis (EDA): We need to better understand the distribution of data before we can begin building models. "
   ]
  },
  {
   "cell_type": "code",
   "execution_count": 32,
   "metadata": {},
   "outputs": [
    {
     "data": {
      "text/html": [
       "<div>\n",
       "<style scoped>\n",
       "    .dataframe tbody tr th:only-of-type {\n",
       "        vertical-align: middle;\n",
       "    }\n",
       "\n",
       "    .dataframe tbody tr th {\n",
       "        vertical-align: top;\n",
       "    }\n",
       "\n",
       "    .dataframe thead th {\n",
       "        text-align: right;\n",
       "    }\n",
       "</style>\n",
       "<table border=\"1\" class=\"dataframe\">\n",
       "  <thead>\n",
       "    <tr style=\"text-align: right;\">\n",
       "      <th></th>\n",
       "      <th>price</th>\n",
       "      <th>sqft_lot</th>\n",
       "      <th>sqft_above</th>\n",
       "      <th>sqft_basement</th>\n",
       "      <th>sqft_living15</th>\n",
       "      <th>sqft_lot15</th>\n",
       "    </tr>\n",
       "  </thead>\n",
       "  <tbody>\n",
       "    <tr>\n",
       "      <th>count</th>\n",
       "      <td>6.329000e+03</td>\n",
       "      <td>6.329000e+03</td>\n",
       "      <td>6.329000e+03</td>\n",
       "      <td>6.329000e+03</td>\n",
       "      <td>6.329000e+03</td>\n",
       "      <td>6.329000e+03</td>\n",
       "    </tr>\n",
       "    <tr>\n",
       "      <th>mean</th>\n",
       "      <td>5.476298e+05</td>\n",
       "      <td>1.684017e-17</td>\n",
       "      <td>1.010410e-16</td>\n",
       "      <td>-8.532351e-17</td>\n",
       "      <td>1.077771e-16</td>\n",
       "      <td>-2.245355e-17</td>\n",
       "    </tr>\n",
       "    <tr>\n",
       "      <th>std</th>\n",
       "      <td>3.818182e+05</td>\n",
       "      <td>1.000000e+00</td>\n",
       "      <td>1.000000e+00</td>\n",
       "      <td>1.000000e+00</td>\n",
       "      <td>1.000000e+00</td>\n",
       "      <td>1.000000e+00</td>\n",
       "    </tr>\n",
       "    <tr>\n",
       "      <th>min</th>\n",
       "      <td>8.400000e+04</td>\n",
       "      <td>-3.708696e-01</td>\n",
       "      <td>-1.710652e+00</td>\n",
       "      <td>-6.499619e-01</td>\n",
       "      <td>-2.308916e+00</td>\n",
       "      <td>-4.418638e-01</td>\n",
       "    </tr>\n",
       "    <tr>\n",
       "      <th>25%</th>\n",
       "      <td>3.249500e+05</td>\n",
       "      <td>-2.533633e-01</td>\n",
       "      <td>-7.208244e-01</td>\n",
       "      <td>-6.499619e-01</td>\n",
       "      <td>-7.336850e-01</td>\n",
       "      <td>-2.805169e-01</td>\n",
       "    </tr>\n",
       "    <tr>\n",
       "      <th>50%</th>\n",
       "      <td>4.550000e+05</td>\n",
       "      <td>-1.860333e-01</td>\n",
       "      <td>-2.676504e-01</td>\n",
       "      <td>-6.499619e-01</td>\n",
       "      <td>-2.139021e-01</td>\n",
       "      <td>-1.889416e-01</td>\n",
       "    </tr>\n",
       "    <tr>\n",
       "      <th>75%</th>\n",
       "      <td>6.549500e+05</td>\n",
       "      <td>-1.032543e-01</td>\n",
       "      <td>5.313669e-01</td>\n",
       "      <td>5.825156e-01</td>\n",
       "      <td>5.513339e-01</td>\n",
       "      <td>-9.914692e-02</td>\n",
       "    </tr>\n",
       "    <tr>\n",
       "      <th>max</th>\n",
       "      <td>7.700000e+06</td>\n",
       "      <td>2.779125e+01</td>\n",
       "      <td>9.070119e+00</td>\n",
       "      <td>8.604823e+00</td>\n",
       "      <td>5.474834e+00</td>\n",
       "      <td>1.990664e+01</td>\n",
       "    </tr>\n",
       "  </tbody>\n",
       "</table>\n",
       "</div>"
      ],
      "text/plain": [
       "              price      sqft_lot    sqft_above  sqft_basement  sqft_living15  \\\n",
       "count  6.329000e+03  6.329000e+03  6.329000e+03   6.329000e+03   6.329000e+03   \n",
       "mean   5.476298e+05  1.684017e-17  1.010410e-16  -8.532351e-17   1.077771e-16   \n",
       "std    3.818182e+05  1.000000e+00  1.000000e+00   1.000000e+00   1.000000e+00   \n",
       "min    8.400000e+04 -3.708696e-01 -1.710652e+00  -6.499619e-01  -2.308916e+00   \n",
       "25%    3.249500e+05 -2.533633e-01 -7.208244e-01  -6.499619e-01  -7.336850e-01   \n",
       "50%    4.550000e+05 -1.860333e-01 -2.676504e-01  -6.499619e-01  -2.139021e-01   \n",
       "75%    6.549500e+05 -1.032543e-01  5.313669e-01   5.825156e-01   5.513339e-01   \n",
       "max    7.700000e+06  2.779125e+01  9.070119e+00   8.604823e+00   5.474834e+00   \n",
       "\n",
       "         sqft_lot15  \n",
       "count  6.329000e+03  \n",
       "mean  -2.245355e-17  \n",
       "std    1.000000e+00  \n",
       "min   -4.418638e-01  \n",
       "25%   -2.805169e-01  \n",
       "50%   -1.889416e-01  \n",
       "75%   -9.914692e-02  \n",
       "max    1.990664e+01  "
      ]
     },
     "execution_count": 32,
     "metadata": {},
     "output_type": "execute_result"
    }
   ],
   "source": [
    "sdf.describe()"
   ]
  },
  {
   "cell_type": "code",
   "execution_count": 33,
   "metadata": {
    "scrolled": true
   },
   "outputs": [
    {
     "data": {
      "image/png": "[encoded data removed]",
      "text/plain": [
       "<Figure size 432x288 with 1 Axes>"
      ]
     },
     "metadata": {},
     "output_type": "display_data"
    },
    {
     "data": {
      "image/png": "[encoded data removed]",
      "text/plain": [
       "<Figure size 432x288 with 1 Axes>"
      ]
     },
     "metadata": {},
     "output_type": "display_data"
    },
    {
     "data": {
      "image/png": "[encoded data removed]",
      "text/plain": [
       "<Figure size 432x288 with 1 Axes>"
      ]
     },
     "metadata": {},
     "output_type": "display_data"
    },
    {
     "data": {
      "image/png": "[encoded data removed]",
      "text/plain": [
       "<Figure size 432x288 with 1 Axes>"
      ]
     },
     "metadata": {},
     "output_type": "display_data"
    },
    {
     "data": {
      "image/png": "[encoded data removed]",
      "text/plain": [
       "<Figure size 432x288 with 1 Axes>"
      ]
     },
     "metadata": {},
     "output_type": "display_data"
    },
    {
     "data": {
      "image/png": "[encoded data removed]",
      "text/plain": [
       "<Figure size 432x288 with 1 Axes>"
      ]
     },
     "metadata": {},
     "output_type": "display_data"
    }
   ],
   "source": [
    "for column in ['sqft_lot', 'sqft_above', 'sqft_basement', 'sqft_living15', 'sqft_lot15', 'price']:\n",
    "    sdf[column].plot.hist(density=True )\n",
    "    sdf[column].plot.kde(label=column )\n",
    "    plt.legend()\n",
    "    plt.show()\n",
    "    \n",
    "# use only continuous variables "
   ]
  },
  {
   "cell_type": "markdown",
   "metadata": {},
   "source": [
    "Scrubbing our data seemed to worked, except for \"sqft_basement\" which displays some multimodality. "
   ]
  },
  {
   "cell_type": "code",
   "execution_count": 34,
   "metadata": {
    "scrolled": true
   },
   "outputs": [
    {
     "name": "stderr",
     "output_type": "stream",
     "text": [
      "/anaconda3/envs/learn-env/lib/python3.6/site-packages/scipy/stats/stats.py:1713: FutureWarning: Using a non-tuple sequence for multidimensional indexing is deprecated; use `arr[tuple(seq)]` instead of `arr[seq]`. In the future this will be interpreted as an array index, `arr[np.array(seq)]`, which will result either in an error or a different result.\n",
      "  return np.add.reduce(sorted[indexer] * weights, axis=axis) / sumval\n"
     ]
    },
    {
     "data": {
      "image/png": "[encoded data removed]",
      "text/plain": [
       "<Figure size 432x432 with 3 Axes>"
      ]
     },
     "metadata": {},
     "output_type": "display_data"
    },
    {
     "data": {
      "image/png": "[encoded data removed]",
      "text/plain": [
       "<Figure size 432x432 with 3 Axes>"
      ]
     },
     "metadata": {},
     "output_type": "display_data"
    },
    {
     "data": {
      "image/png": "[encoded data removed]",
      "text/plain": [
       "<Figure size 432x432 with 3 Axes>"
      ]
     },
     "metadata": {},
     "output_type": "display_data"
    },
    {
     "data": {
      "image/png": "[encoded data removed]",
      "text/plain": [
       "<Figure size 432x432 with 3 Axes>"
      ]
     },
     "metadata": {},
     "output_type": "display_data"
    },
    {
     "data": {
      "image/png": "[encoded data removed]",
      "text/plain": [
       "<Figure size 432x432 with 3 Axes>"
      ]
     },
     "metadata": {},
     "output_type": "display_data"
    }
   ],
   "source": [
    "for column in ['sqft_lot', 'sqft_above', 'sqft_basement', 'sqft_living15', 'sqft_lot15']:\n",
    "    sns.jointplot(x=column, y='price',\n",
    "                  data=sdf, \n",
    "                  kind='reg', \n",
    "                  label=column,\n",
    "                  joint_kws={'line_kws':{'color':'green'}})\n",
    "    plt.legend()\n",
    "    plt.show()"
   ]
  },
  {
   "cell_type": "markdown",
   "metadata": {},
   "source": [
    "The joint plot allows us to visualize a scatterplot, the distributions of two different columns, a kde plot, and a simple regression line all on the same visualization. Based on the results, all five indicators seem to have a positive relationship with price. "
   ]
  },
  {
   "cell_type": "code",
   "execution_count": 35,
   "metadata": {},
   "outputs": [
    {
     "data": {
      "text/html": [
       "<div>\n",
       "<style scoped>\n",
       "    .dataframe tbody tr th:only-of-type {\n",
       "        vertical-align: middle;\n",
       "    }\n",
       "\n",
       "    .dataframe tbody tr th {\n",
       "        vertical-align: top;\n",
       "    }\n",
       "\n",
       "    .dataframe thead th {\n",
       "        text-align: right;\n",
       "    }\n",
       "</style>\n",
       "<table border=\"1\" class=\"dataframe\">\n",
       "  <thead>\n",
       "    <tr style=\"text-align: right;\">\n",
       "      <th></th>\n",
       "      <th>price</th>\n",
       "      <th>sqft_lot</th>\n",
       "      <th>sqft_above</th>\n",
       "      <th>sqft_basement</th>\n",
       "      <th>sqft_living15</th>\n",
       "      <th>sqft_lot15</th>\n",
       "      <th>bedrooms_1</th>\n",
       "      <th>bedrooms_2</th>\n",
       "      <th>bedrooms_3</th>\n",
       "      <th>bedrooms_33</th>\n",
       "      <th>...</th>\n",
       "      <th>yr_built_2006</th>\n",
       "      <th>yr_built_2007</th>\n",
       "      <th>yr_built_2008</th>\n",
       "      <th>yr_built_2009</th>\n",
       "      <th>yr_built_2010</th>\n",
       "      <th>yr_built_2011</th>\n",
       "      <th>yr_built_2012</th>\n",
       "      <th>yr_built_2013</th>\n",
       "      <th>yr_built_2014</th>\n",
       "      <th>yr_built_2015</th>\n",
       "    </tr>\n",
       "  </thead>\n",
       "  <tbody>\n",
       "    <tr>\n",
       "      <th>20668</th>\n",
       "      <td>630000.0</td>\n",
       "      <td>-0.059006</td>\n",
       "      <td>0.936838</td>\n",
       "      <td>1.366819</td>\n",
       "      <td>-0.372725</td>\n",
       "      <td>0.059184</td>\n",
       "      <td>0</td>\n",
       "      <td>0</td>\n",
       "      <td>1</td>\n",
       "      <td>0</td>\n",
       "      <td>...</td>\n",
       "      <td>0</td>\n",
       "      <td>0</td>\n",
       "      <td>0</td>\n",
       "      <td>1</td>\n",
       "      <td>0</td>\n",
       "      <td>0</td>\n",
       "      <td>0</td>\n",
       "      <td>0</td>\n",
       "      <td>0</td>\n",
       "      <td>0</td>\n",
       "    </tr>\n",
       "    <tr>\n",
       "      <th>10575</th>\n",
       "      <td>650000.0</td>\n",
       "      <td>-0.129274</td>\n",
       "      <td>0.901061</td>\n",
       "      <td>-0.649962</td>\n",
       "      <td>-0.199464</td>\n",
       "      <td>-0.112229</td>\n",
       "      <td>0</td>\n",
       "      <td>0</td>\n",
       "      <td>0</td>\n",
       "      <td>0</td>\n",
       "      <td>...</td>\n",
       "      <td>0</td>\n",
       "      <td>0</td>\n",
       "      <td>0</td>\n",
       "      <td>0</td>\n",
       "      <td>0</td>\n",
       "      <td>0</td>\n",
       "      <td>0</td>\n",
       "      <td>0</td>\n",
       "      <td>0</td>\n",
       "      <td>0</td>\n",
       "    </tr>\n",
       "    <tr>\n",
       "      <th>1851</th>\n",
       "      <td>210000.0</td>\n",
       "      <td>-0.259921</td>\n",
       "      <td>-1.138222</td>\n",
       "      <td>0.694559</td>\n",
       "      <td>-1.166837</td>\n",
       "      <td>-0.284151</td>\n",
       "      <td>0</td>\n",
       "      <td>1</td>\n",
       "      <td>0</td>\n",
       "      <td>0</td>\n",
       "      <td>...</td>\n",
       "      <td>0</td>\n",
       "      <td>0</td>\n",
       "      <td>0</td>\n",
       "      <td>0</td>\n",
       "      <td>0</td>\n",
       "      <td>0</td>\n",
       "      <td>0</td>\n",
       "      <td>0</td>\n",
       "      <td>0</td>\n",
       "      <td>0</td>\n",
       "    </tr>\n",
       "    <tr>\n",
       "      <th>20309</th>\n",
       "      <td>3000000.0</td>\n",
       "      <td>-0.102389</td>\n",
       "      <td>1.938591</td>\n",
       "      <td>1.546089</td>\n",
       "      <td>2.240629</td>\n",
       "      <td>-0.261112</td>\n",
       "      <td>0</td>\n",
       "      <td>0</td>\n",
       "      <td>1</td>\n",
       "      <td>0</td>\n",
       "      <td>...</td>\n",
       "      <td>0</td>\n",
       "      <td>0</td>\n",
       "      <td>0</td>\n",
       "      <td>0</td>\n",
       "      <td>0</td>\n",
       "      <td>0</td>\n",
       "      <td>0</td>\n",
       "      <td>0</td>\n",
       "      <td>1</td>\n",
       "      <td>0</td>\n",
       "    </tr>\n",
       "    <tr>\n",
       "      <th>14111</th>\n",
       "      <td>325000.0</td>\n",
       "      <td>-0.258609</td>\n",
       "      <td>-0.899709</td>\n",
       "      <td>-0.649962</td>\n",
       "      <td>-1.109084</td>\n",
       "      <td>-0.291419</td>\n",
       "      <td>0</td>\n",
       "      <td>1</td>\n",
       "      <td>0</td>\n",
       "      <td>0</td>\n",
       "      <td>...</td>\n",
       "      <td>0</td>\n",
       "      <td>0</td>\n",
       "      <td>0</td>\n",
       "      <td>0</td>\n",
       "      <td>0</td>\n",
       "      <td>0</td>\n",
       "      <td>0</td>\n",
       "      <td>0</td>\n",
       "      <td>0</td>\n",
       "      <td>0</td>\n",
       "    </tr>\n",
       "  </tbody>\n",
       "</table>\n",
       "<p>5 rows × 187 columns</p>\n",
       "</div>"
      ],
      "text/plain": [
       "           price  sqft_lot  sqft_above  sqft_basement  sqft_living15  \\\n",
       "20668   630000.0 -0.059006    0.936838       1.366819      -0.372725   \n",
       "10575   650000.0 -0.129274    0.901061      -0.649962      -0.199464   \n",
       "1851    210000.0 -0.259921   -1.138222       0.694559      -1.166837   \n",
       "20309  3000000.0 -0.102389    1.938591       1.546089       2.240629   \n",
       "14111   325000.0 -0.258609   -0.899709      -0.649962      -1.109084   \n",
       "\n",
       "       sqft_lot15  bedrooms_1  bedrooms_2  bedrooms_3  bedrooms_33  \\\n",
       "20668    0.059184           0           0           1            0   \n",
       "10575   -0.112229           0           0           0            0   \n",
       "1851    -0.284151           0           1           0            0   \n",
       "20309   -0.261112           0           0           1            0   \n",
       "14111   -0.291419           0           1           0            0   \n",
       "\n",
       "           ...        yr_built_2006  yr_built_2007  yr_built_2008  \\\n",
       "20668      ...                    0              0              0   \n",
       "10575      ...                    0              0              0   \n",
       "1851       ...                    0              0              0   \n",
       "20309      ...                    0              0              0   \n",
       "14111      ...                    0              0              0   \n",
       "\n",
       "       yr_built_2009  yr_built_2010  yr_built_2011  yr_built_2012  \\\n",
       "20668              1              0              0              0   \n",
       "10575              0              0              0              0   \n",
       "1851               0              0              0              0   \n",
       "20309              0              0              0              0   \n",
       "14111              0              0              0              0   \n",
       "\n",
       "       yr_built_2013  yr_built_2014  yr_built_2015  \n",
       "20668              0              0              0  \n",
       "10575              0              0              0  \n",
       "1851               0              0              0  \n",
       "20309              0              1              0  \n",
       "14111              0              0              0  \n",
       "\n",
       "[5 rows x 187 columns]"
      ]
     },
     "execution_count": 35,
     "metadata": {},
     "output_type": "execute_result"
    }
   ],
   "source": [
    "sdf = pd.get_dummies(sdf)\n",
    "sdf.head()"
   ]
  },
  {
   "cell_type": "markdown",
   "metadata": {},
   "source": [
    "# M: Model\n",
    "An iterative process where we begin to build our regression model. "
   ]
  },
  {
   "cell_type": "code",
   "execution_count": 51,
   "metadata": {},
   "outputs": [
    {
     "name": "stdout",
     "output_type": "stream",
     "text": [
      "<class 'pandas.core.frame.DataFrame'>\n",
      "Int64Index: 6329 entries, 20668 to 661\n",
      "Data columns (total 20 columns):\n",
      "price             6329 non-null float64\n",
      "sqft_lot          6329 non-null float64\n",
      "sqft_above        6329 non-null float64\n",
      "sqft_basement     6329 non-null float64\n",
      "sqft_living15     6329 non-null float64\n",
      "sqft_lot15        6329 non-null float64\n",
      "bedrooms_1        6329 non-null uint8\n",
      "bedrooms_2        6329 non-null uint8\n",
      "bedrooms_3        6329 non-null uint8\n",
      "bedrooms_33       6329 non-null uint8\n",
      "bedrooms_4        6329 non-null uint8\n",
      "bedrooms_5        6329 non-null uint8\n",
      "bedrooms_6        6329 non-null uint8\n",
      "bedrooms_7        6329 non-null uint8\n",
      "bedrooms_8        6329 non-null uint8\n",
      "bedrooms_9        6329 non-null uint8\n",
      "bathrooms_0.5     6329 non-null uint8\n",
      "bathrooms_0.75    6329 non-null uint8\n",
      "bathrooms_1.0     6329 non-null uint8\n",
      "bathrooms_1.25    6329 non-null uint8\n",
      "dtypes: float64(6), uint8(14)\n",
      "memory usage: 432.6 KB\n"
     ]
    }
   ],
   "source": [
    "sdf.iloc[:,0:20].info()"
   ]
  },
  {
   "cell_type": "code",
   "execution_count": 56,
   "metadata": {},
   "outputs": [],
   "source": [
    "for cat_names in sdf.iloc[:,6:].columns:\n",
    "         sdf[cat_names] = sdf[cat_names].astype('category')"
   ]
  },
  {
   "cell_type": "code",
   "execution_count": 57,
   "metadata": {
    "scrolled": true
   },
   "outputs": [
    {
     "name": "stdout",
     "output_type": "stream",
     "text": [
      "<class 'pandas.core.frame.DataFrame'>\n",
      "Int64Index: 6329 entries, 20668 to 661\n",
      "Data columns (total 20 columns):\n",
      "price             6329 non-null float64\n",
      "sqft_lot          6329 non-null float64\n",
      "sqft_above        6329 non-null float64\n",
      "sqft_basement     6329 non-null float64\n",
      "sqft_living15     6329 non-null float64\n",
      "sqft_lot15        6329 non-null float64\n",
      "bedrooms_1        6329 non-null category\n",
      "bedrooms_2        6329 non-null category\n",
      "bedrooms_3        6329 non-null category\n",
      "bedrooms_33       6329 non-null category\n",
      "bedrooms_4        6329 non-null category\n",
      "bedrooms_5        6329 non-null category\n",
      "bedrooms_6        6329 non-null category\n",
      "bedrooms_7        6329 non-null category\n",
      "bedrooms_8        6329 non-null category\n",
      "bedrooms_9        6329 non-null category\n",
      "bathrooms_0.5     6329 non-null category\n",
      "bathrooms_0.75    6329 non-null category\n",
      "bathrooms_1.0     6329 non-null category\n",
      "bathrooms_1.25    6329 non-null category\n",
      "dtypes: category(14), float64(6)\n",
      "memory usage: 434.0 KB\n"
     ]
    }
   ],
   "source": [
    "sdf.iloc[:,0:20].info()"
   ]
  },
  {
   "cell_type": "markdown",
   "metadata": {},
   "source": [
    "After one-hot encoding our categorical variables, I did a quick check to see their datatypes. After inspection, those categories were changed to the categorical datatype, so they could be properly integrated into our model. "
   ]
  },
  {
   "cell_type": "code",
   "execution_count": 58,
   "metadata": {},
   "outputs": [
    {
     "data": {
      "text/html": [
       "<div>\n",
       "<style scoped>\n",
       "    .dataframe tbody tr th:only-of-type {\n",
       "        vertical-align: middle;\n",
       "    }\n",
       "\n",
       "    .dataframe tbody tr th {\n",
       "        vertical-align: top;\n",
       "    }\n",
       "\n",
       "    .dataframe thead th {\n",
       "        text-align: right;\n",
       "    }\n",
       "</style>\n",
       "<table border=\"1\" class=\"dataframe\">\n",
       "  <thead>\n",
       "    <tr style=\"text-align: right;\">\n",
       "      <th></th>\n",
       "      <th>price</th>\n",
       "      <th>sqft_lot</th>\n",
       "      <th>sqft_above</th>\n",
       "      <th>sqft_basement</th>\n",
       "      <th>sqft_living15</th>\n",
       "      <th>sqft_lot15</th>\n",
       "    </tr>\n",
       "  </thead>\n",
       "  <tbody>\n",
       "    <tr>\n",
       "      <th>count</th>\n",
       "      <td>6.329000e+03</td>\n",
       "      <td>6.329000e+03</td>\n",
       "      <td>6.329000e+03</td>\n",
       "      <td>6.329000e+03</td>\n",
       "      <td>6.329000e+03</td>\n",
       "      <td>6.329000e+03</td>\n",
       "    </tr>\n",
       "    <tr>\n",
       "      <th>mean</th>\n",
       "      <td>5.476298e+05</td>\n",
       "      <td>1.684017e-17</td>\n",
       "      <td>1.010410e-16</td>\n",
       "      <td>-8.532351e-17</td>\n",
       "      <td>1.077771e-16</td>\n",
       "      <td>-2.245355e-17</td>\n",
       "    </tr>\n",
       "    <tr>\n",
       "      <th>std</th>\n",
       "      <td>3.818182e+05</td>\n",
       "      <td>1.000000e+00</td>\n",
       "      <td>1.000000e+00</td>\n",
       "      <td>1.000000e+00</td>\n",
       "      <td>1.000000e+00</td>\n",
       "      <td>1.000000e+00</td>\n",
       "    </tr>\n",
       "    <tr>\n",
       "      <th>min</th>\n",
       "      <td>8.400000e+04</td>\n",
       "      <td>-3.708696e-01</td>\n",
       "      <td>-1.710652e+00</td>\n",
       "      <td>-6.499619e-01</td>\n",
       "      <td>-2.308916e+00</td>\n",
       "      <td>-4.418638e-01</td>\n",
       "    </tr>\n",
       "    <tr>\n",
       "      <th>25%</th>\n",
       "      <td>3.249500e+05</td>\n",
       "      <td>-2.533633e-01</td>\n",
       "      <td>-7.208244e-01</td>\n",
       "      <td>-6.499619e-01</td>\n",
       "      <td>-7.336850e-01</td>\n",
       "      <td>-2.805169e-01</td>\n",
       "    </tr>\n",
       "    <tr>\n",
       "      <th>50%</th>\n",
       "      <td>4.550000e+05</td>\n",
       "      <td>-1.860333e-01</td>\n",
       "      <td>-2.676504e-01</td>\n",
       "      <td>-6.499619e-01</td>\n",
       "      <td>-2.139021e-01</td>\n",
       "      <td>-1.889416e-01</td>\n",
       "    </tr>\n",
       "    <tr>\n",
       "      <th>75%</th>\n",
       "      <td>6.549500e+05</td>\n",
       "      <td>-1.032543e-01</td>\n",
       "      <td>5.313669e-01</td>\n",
       "      <td>5.825156e-01</td>\n",
       "      <td>5.513339e-01</td>\n",
       "      <td>-9.914692e-02</td>\n",
       "    </tr>\n",
       "    <tr>\n",
       "      <th>max</th>\n",
       "      <td>7.700000e+06</td>\n",
       "      <td>2.779125e+01</td>\n",
       "      <td>9.070119e+00</td>\n",
       "      <td>8.604823e+00</td>\n",
       "      <td>5.474834e+00</td>\n",
       "      <td>1.990664e+01</td>\n",
       "    </tr>\n",
       "  </tbody>\n",
       "</table>\n",
       "</div>"
      ],
      "text/plain": [
       "              price      sqft_lot    sqft_above  sqft_basement  sqft_living15  \\\n",
       "count  6.329000e+03  6.329000e+03  6.329000e+03   6.329000e+03   6.329000e+03   \n",
       "mean   5.476298e+05  1.684017e-17  1.010410e-16  -8.532351e-17   1.077771e-16   \n",
       "std    3.818182e+05  1.000000e+00  1.000000e+00   1.000000e+00   1.000000e+00   \n",
       "min    8.400000e+04 -3.708696e-01 -1.710652e+00  -6.499619e-01  -2.308916e+00   \n",
       "25%    3.249500e+05 -2.533633e-01 -7.208244e-01  -6.499619e-01  -7.336850e-01   \n",
       "50%    4.550000e+05 -1.860333e-01 -2.676504e-01  -6.499619e-01  -2.139021e-01   \n",
       "75%    6.549500e+05 -1.032543e-01  5.313669e-01   5.825156e-01   5.513339e-01   \n",
       "max    7.700000e+06  2.779125e+01  9.070119e+00   8.604823e+00   5.474834e+00   \n",
       "\n",
       "         sqft_lot15  \n",
       "count  6.329000e+03  \n",
       "mean  -2.245355e-17  \n",
       "std    1.000000e+00  \n",
       "min   -4.418638e-01  \n",
       "25%   -2.805169e-01  \n",
       "50%   -1.889416e-01  \n",
       "75%   -9.914692e-02  \n",
       "max    1.990664e+01  "
      ]
     },
     "execution_count": 58,
     "metadata": {},
     "output_type": "execute_result"
    }
   ],
   "source": [
    "sdf.describe()"
   ]
  },
  {
   "cell_type": "code",
   "execution_count": 59,
   "metadata": {},
   "outputs": [
    {
     "name": "stdout",
     "output_type": "stream",
     "text": [
      "King County Houses: Price~sqft_lot\n",
      "------------------------------\n",
      "['sqft_lot', 0.009524702294383514, 547629.7859061472, 37263.386023347644, 7.184839955960445e-15]\n",
      "King County Houses: Price~sqft_above\n",
      "------------------------------\n",
      "['sqft_above', 0.3652664862699524, 547629.7859061472, 230760.52793893253, 0.0]\n",
      "King County Houses: Price~sqft_basement\n",
      "------------------------------\n",
      "['sqft_basement', 0.12850613285544044, 547629.7859061472, 136873.2368165506, 2.969084102090551e-191]\n",
      "King County Houses: Price~sqft_living15\n",
      "------------------------------\n",
      "['sqft_living15', 0.3269926829315394, 547629.7859061472, 218336.13983238628, 0.0]\n",
      "King County Houses: Price~sqft_lot15\n",
      "------------------------------\n",
      "['sqft_lot15', 0.006487630117791854, 547629.7859061472, 30753.861279211345, 1.3899853749745005e-10]\n"
     ]
    }
   ],
   "source": [
    "col_names = sdf.describe().columns.drop(['price'])\n",
    "results = [['ind_var', 'r_squared', 'intercept', 'slope', 'p-value' ]]\n",
    "for idx, val in enumerate(col_names):\n",
    "    print (\"King County Houses: Price~\" + val)\n",
    "    print (\"------------------------------\")\n",
    "\n",
    "    f = 'price~' + val\n",
    "    model = smf.ols(formula=f, data=sdf).fit()\n",
    "    X_new = pd.DataFrame({val: [sdf[val].min(), sdf[val].max()]});\n",
    "    preds = model.predict(X_new)\n",
    "    results.append([val, model.rsquared, model.params[0], model.params[1], model.pvalues[1] ])\n",
    "    print(results[idx+1])"
   ]
  },
  {
   "cell_type": "code",
   "execution_count": 60,
   "metadata": {
    "scrolled": false
   },
   "outputs": [
    {
     "data": {
      "text/html": [
       "<div>\n",
       "<style scoped>\n",
       "    .dataframe tbody tr th:only-of-type {\n",
       "        vertical-align: middle;\n",
       "    }\n",
       "\n",
       "    .dataframe tbody tr th {\n",
       "        vertical-align: top;\n",
       "    }\n",
       "\n",
       "    .dataframe thead th {\n",
       "        text-align: right;\n",
       "    }\n",
       "</style>\n",
       "<table border=\"1\" class=\"dataframe\">\n",
       "  <thead>\n",
       "    <tr style=\"text-align: right;\">\n",
       "      <th></th>\n",
       "      <th>0</th>\n",
       "      <th>1</th>\n",
       "      <th>2</th>\n",
       "      <th>3</th>\n",
       "      <th>4</th>\n",
       "    </tr>\n",
       "  </thead>\n",
       "  <tbody>\n",
       "    <tr>\n",
       "      <th>0</th>\n",
       "      <td>ind_var</td>\n",
       "      <td>r_squared</td>\n",
       "      <td>intercept</td>\n",
       "      <td>slope</td>\n",
       "      <td>p-value</td>\n",
       "    </tr>\n",
       "    <tr>\n",
       "      <th>1</th>\n",
       "      <td>sqft_lot</td>\n",
       "      <td>0.0095247</td>\n",
       "      <td>547630</td>\n",
       "      <td>37263.4</td>\n",
       "      <td>7.18484e-15</td>\n",
       "    </tr>\n",
       "    <tr>\n",
       "      <th>2</th>\n",
       "      <td>sqft_above</td>\n",
       "      <td>0.365266</td>\n",
       "      <td>547630</td>\n",
       "      <td>230761</td>\n",
       "      <td>0</td>\n",
       "    </tr>\n",
       "    <tr>\n",
       "      <th>3</th>\n",
       "      <td>sqft_basement</td>\n",
       "      <td>0.128506</td>\n",
       "      <td>547630</td>\n",
       "      <td>136873</td>\n",
       "      <td>2.96908e-191</td>\n",
       "    </tr>\n",
       "    <tr>\n",
       "      <th>4</th>\n",
       "      <td>sqft_living15</td>\n",
       "      <td>0.326993</td>\n",
       "      <td>547630</td>\n",
       "      <td>218336</td>\n",
       "      <td>0</td>\n",
       "    </tr>\n",
       "    <tr>\n",
       "      <th>5</th>\n",
       "      <td>sqft_lot15</td>\n",
       "      <td>0.00648763</td>\n",
       "      <td>547630</td>\n",
       "      <td>30753.9</td>\n",
       "      <td>1.38999e-10</td>\n",
       "    </tr>\n",
       "  </tbody>\n",
       "</table>\n",
       "</div>"
      ],
      "text/plain": [
       "               0           1          2        3             4\n",
       "0        ind_var   r_squared  intercept    slope       p-value\n",
       "1       sqft_lot   0.0095247     547630  37263.4   7.18484e-15\n",
       "2     sqft_above    0.365266     547630   230761             0\n",
       "3  sqft_basement    0.128506     547630   136873  2.96908e-191\n",
       "4  sqft_living15    0.326993     547630   218336             0\n",
       "5     sqft_lot15  0.00648763     547630  30753.9   1.38999e-10"
      ]
     },
     "execution_count": 60,
     "metadata": {},
     "output_type": "execute_result"
    }
   ],
   "source": [
    "pd.DataFrame(results)"
   ]
  },
  {
   "cell_type": "code",
   "execution_count": 67,
   "metadata": {},
   "outputs": [
    {
     "name": "stdout",
     "output_type": "stream",
     "text": [
      "                            OLS Regression Results                            \n",
      "==============================================================================\n",
      "Dep. Variable:                  price   R-squared:                       0.106\n",
      "Model:                            OLS   Adj. R-squared:                  0.105\n",
      "Method:                 Least Squares   F-statistic:                     83.43\n",
      "Date:                Thu, 07 Feb 2019   Prob (F-statistic):          5.06e-147\n",
      "Time:                        01:07:37   Log-Likelihood:                -89969.\n",
      "No. Observations:                6329   AIC:                         1.800e+05\n",
      "Df Residuals:                    6319   BIC:                         1.800e+05\n",
      "Df Model:                           9                                         \n",
      "Covariance Type:            nonrobust                                         \n",
      "====================================================================================\n",
      "                       coef    std err          t      P>|t|      [0.025      0.975]\n",
      "------------------------------------------------------------------------------------\n",
      "Intercept         7.875e+05   1.81e+05      4.360      0.000    4.33e+05    1.14e+06\n",
      "bedrooms_1[T.1]  -4.578e+05   1.87e+05     -2.447      0.014   -8.25e+05   -9.11e+04\n",
      "bedrooms_2[T.1]  -3.772e+05   1.81e+05     -2.083      0.037   -7.32e+05   -2.23e+04\n",
      "bedrooms_3[T.1]  -3.164e+05   1.81e+05     -1.750      0.080   -6.71e+05    3.79e+04\n",
      "bedrooms_33[T.1] -1.475e+05   4.04e+05     -0.365      0.715   -9.39e+05    6.44e+05\n",
      "bedrooms_4[T.1]  -1.463e+05   1.81e+05     -0.809      0.418   -5.01e+05    2.08e+05\n",
      "bedrooms_5[T.1]   3.072e+04   1.81e+05      0.169      0.866   -3.25e+05    3.86e+05\n",
      "bedrooms_6[T.1]   9.063e+04   1.85e+05      0.491      0.624   -2.71e+05    4.53e+05\n",
      "bedrooms_7[T.1]   1.207e+05   2.07e+05      0.584      0.559   -2.84e+05    5.26e+05\n",
      "bedrooms_8[T.1]   2.545e+05   2.55e+05      0.996      0.319   -2.46e+05    7.55e+05\n",
      "==============================================================================\n",
      "Omnibus:                     6375.697   Durbin-Watson:                   2.044\n",
      "Prob(Omnibus):                  0.000   Jarque-Bera (JB):           735771.179\n",
      "Skew:                           4.692   Prob(JB):                         0.00\n",
      "Kurtosis:                      54.981   Cond. No.                         151.\n",
      "==============================================================================\n",
      "\n",
      "Warnings:\n",
      "[1] Standard Errors assume that the covariance matrix of the errors is correctly specified.\n"
     ]
    },
    {
     "ename": "SyntaxError",
     "evalue": "invalid syntax (<unknown>, line 1)",
     "output_type": "error",
     "traceback": [
      "Traceback \u001b[0;36m(most recent call last)\u001b[0m:\n",
      "  File \u001b[1;32m\"/anaconda3/envs/learn-env/lib/python3.6/site-packages/IPython/core/interactiveshell.py\"\u001b[0m, line \u001b[1;32m2961\u001b[0m, in \u001b[1;35mrun_code\u001b[0m\n    exec(code_obj, self.user_global_ns, self.user_ns)\n",
      "  File \u001b[1;32m\"<ipython-input-67-c3c7c83787fa>\"\u001b[0m, line \u001b[1;32m14\u001b[0m, in \u001b[1;35m<module>\u001b[0m\n    model = smf.ols(formula= form, data= sdf).fit()\n",
      "  File \u001b[1;32m\"/anaconda3/envs/learn-env/lib/python3.6/site-packages/statsmodels/base/model.py\"\u001b[0m, line \u001b[1;32m155\u001b[0m, in \u001b[1;35mfrom_formula\u001b[0m\n    missing=missing)\n",
      "  File \u001b[1;32m\"/anaconda3/envs/learn-env/lib/python3.6/site-packages/statsmodels/formula/formulatools.py\"\u001b[0m, line \u001b[1;32m65\u001b[0m, in \u001b[1;35mhandle_formula_data\u001b[0m\n    NA_action=na_action)\n",
      "  File \u001b[1;32m\"/anaconda3/envs/learn-env/lib/python3.6/site-packages/patsy/highlevel.py\"\u001b[0m, line \u001b[1;32m310\u001b[0m, in \u001b[1;35mdmatrices\u001b[0m\n    NA_action, return_type)\n",
      "  File \u001b[1;32m\"/anaconda3/envs/learn-env/lib/python3.6/site-packages/patsy/highlevel.py\"\u001b[0m, line \u001b[1;32m165\u001b[0m, in \u001b[1;35m_do_highlevel_design\u001b[0m\n    NA_action)\n",
      "  File \u001b[1;32m\"/anaconda3/envs/learn-env/lib/python3.6/site-packages/patsy/highlevel.py\"\u001b[0m, line \u001b[1;32m70\u001b[0m, in \u001b[1;35m_try_incr_builders\u001b[0m\n    NA_action)\n",
      "  File \u001b[1;32m\"/anaconda3/envs/learn-env/lib/python3.6/site-packages/patsy/build.py\"\u001b[0m, line \u001b[1;32m689\u001b[0m, in \u001b[1;35mdesign_matrix_builders\u001b[0m\n    factor_states = _factors_memorize(all_factors, data_iter_maker, eval_env)\n",
      "  File \u001b[1;32m\"/anaconda3/envs/learn-env/lib/python3.6/site-packages/patsy/build.py\"\u001b[0m, line \u001b[1;32m354\u001b[0m, in \u001b[1;35m_factors_memorize\u001b[0m\n    which_pass = factor.memorize_passes_needed(state, eval_env)\n",
      "  File \u001b[1;32m\"/anaconda3/envs/learn-env/lib/python3.6/site-packages/patsy/eval.py\"\u001b[0m, line \u001b[1;32m474\u001b[0m, in \u001b[1;35mmemorize_passes_needed\u001b[0m\n    subset_names = [name for name in ast_names(self.code)\n",
      "  File \u001b[1;32m\"/anaconda3/envs/learn-env/lib/python3.6/site-packages/patsy/eval.py\"\u001b[0m, line \u001b[1;32m474\u001b[0m, in \u001b[1;35m<listcomp>\u001b[0m\n    subset_names = [name for name in ast_names(self.code)\n",
      "  File \u001b[1;32m\"/anaconda3/envs/learn-env/lib/python3.6/site-packages/patsy/eval.py\"\u001b[0m, line \u001b[1;32m105\u001b[0m, in \u001b[1;35mast_names\u001b[0m\n    for node in ast.walk(ast.parse(code)):\n",
      "\u001b[0;36m  File \u001b[0;32m\"/anaconda3/envs/learn-env/lib/python3.6/ast.py\"\u001b[0;36m, line \u001b[0;32m35\u001b[0;36m, in \u001b[0;35mparse\u001b[0;36m\u001b[0m\n\u001b[0;31m    return compile(source, filename, mode, PyCF_ONLY_AST)\u001b[0m\n",
      "\u001b[0;36m  File \u001b[0;32m\"<unknown>\"\u001b[0;36m, line \u001b[0;32m1\u001b[0m\n\u001b[0;31m    bathrooms_1 .25\u001b[0m\n\u001b[0m                  ^\u001b[0m\n\u001b[0;31mSyntaxError\u001b[0m\u001b[0;31m:\u001b[0m invalid syntax\n"
     ]
    }
   ],
   "source": [
    "cols_bedroom= sdf.columns[6:15]\n",
    "cols_bathroom = sdf.columns[16:40]\n",
    "cols_floors = sdf.columns[41:46]\n",
    "cols_waterfront = sdf.columns[47:49]\n",
    "cols_view = sdf.columns[50:54]\n",
    "cols_condition = sdf.columns[55:59]\n",
    "cols_grade = sdf.columns[60:70]\n",
    "cols_yr_built = sdf.columns[71:187]\n",
    "\n",
    "cols = [cols_bedroom, cols_bathroom, cols_waterfront, cols_view, cols_condition, cols_grade, cols_yr_built]\n",
    "for col in cols:\n",
    "    sum_cols = \"+\".join(col)\n",
    "    form = \"price ~\" + sum_cols\n",
    "    model = smf.ols(formula= form, data= sdf).fit()\n",
    "    print(model.summary())"
   ]
  },
  {
   "cell_type": "code",
   "execution_count": 68,
   "metadata": {},
   "outputs": [
    {
     "data": {
      "text/html": [
       "<div>\n",
       "<style scoped>\n",
       "    .dataframe tbody tr th:only-of-type {\n",
       "        vertical-align: middle;\n",
       "    }\n",
       "\n",
       "    .dataframe tbody tr th {\n",
       "        vertical-align: top;\n",
       "    }\n",
       "\n",
       "    .dataframe thead th {\n",
       "        text-align: right;\n",
       "    }\n",
       "</style>\n",
       "<table border=\"1\" class=\"dataframe\">\n",
       "  <thead>\n",
       "    <tr style=\"text-align: right;\">\n",
       "      <th></th>\n",
       "      <th>price</th>\n",
       "      <th>sqft_above</th>\n",
       "      <th>sqft_basement</th>\n",
       "      <th>sqft_living15</th>\n",
       "    </tr>\n",
       "  </thead>\n",
       "  <tbody>\n",
       "    <tr>\n",
       "      <th>count</th>\n",
       "      <td>6.329000e+03</td>\n",
       "      <td>6.329000e+03</td>\n",
       "      <td>6.329000e+03</td>\n",
       "      <td>6.329000e+03</td>\n",
       "    </tr>\n",
       "    <tr>\n",
       "      <th>mean</th>\n",
       "      <td>5.476298e+05</td>\n",
       "      <td>1.010410e-16</td>\n",
       "      <td>-8.532351e-17</td>\n",
       "      <td>1.077771e-16</td>\n",
       "    </tr>\n",
       "    <tr>\n",
       "      <th>std</th>\n",
       "      <td>3.818182e+05</td>\n",
       "      <td>1.000000e+00</td>\n",
       "      <td>1.000000e+00</td>\n",
       "      <td>1.000000e+00</td>\n",
       "    </tr>\n",
       "    <tr>\n",
       "      <th>min</th>\n",
       "      <td>8.400000e+04</td>\n",
       "      <td>-1.710652e+00</td>\n",
       "      <td>-6.499619e-01</td>\n",
       "      <td>-2.308916e+00</td>\n",
       "    </tr>\n",
       "    <tr>\n",
       "      <th>25%</th>\n",
       "      <td>3.249500e+05</td>\n",
       "      <td>-7.208244e-01</td>\n",
       "      <td>-6.499619e-01</td>\n",
       "      <td>-7.336850e-01</td>\n",
       "    </tr>\n",
       "    <tr>\n",
       "      <th>50%</th>\n",
       "      <td>4.550000e+05</td>\n",
       "      <td>-2.676504e-01</td>\n",
       "      <td>-6.499619e-01</td>\n",
       "      <td>-2.139021e-01</td>\n",
       "    </tr>\n",
       "    <tr>\n",
       "      <th>75%</th>\n",
       "      <td>6.549500e+05</td>\n",
       "      <td>5.313669e-01</td>\n",
       "      <td>5.825156e-01</td>\n",
       "      <td>5.513339e-01</td>\n",
       "    </tr>\n",
       "    <tr>\n",
       "      <th>max</th>\n",
       "      <td>7.700000e+06</td>\n",
       "      <td>9.070119e+00</td>\n",
       "      <td>8.604823e+00</td>\n",
       "      <td>5.474834e+00</td>\n",
       "    </tr>\n",
       "  </tbody>\n",
       "</table>\n",
       "</div>"
      ],
      "text/plain": [
       "              price    sqft_above  sqft_basement  sqft_living15\n",
       "count  6.329000e+03  6.329000e+03   6.329000e+03   6.329000e+03\n",
       "mean   5.476298e+05  1.010410e-16  -8.532351e-17   1.077771e-16\n",
       "std    3.818182e+05  1.000000e+00   1.000000e+00   1.000000e+00\n",
       "min    8.400000e+04 -1.710652e+00  -6.499619e-01  -2.308916e+00\n",
       "25%    3.249500e+05 -7.208244e-01  -6.499619e-01  -7.336850e-01\n",
       "50%    4.550000e+05 -2.676504e-01  -6.499619e-01  -2.139021e-01\n",
       "75%    6.549500e+05  5.313669e-01   5.825156e-01   5.513339e-01\n",
       "max    7.700000e+06  9.070119e+00   8.604823e+00   5.474834e+00"
      ]
     },
     "execution_count": 68,
     "metadata": {},
     "output_type": "execute_result"
    }
   ],
   "source": [
    "sdf_final = sdf.drop([\"sqft_lot\", \"sqft_lot15\"], axis=1)\n",
    "sdf_final.describe()"
   ]
  },
  {
   "cell_type": "markdown",
   "metadata": {},
   "source": [
    "\"sqft_lot\" and \"sqft_lot15\" were dropped because they resulted with R-squared values of < 0.01 in the single linear models. "
   ]
  },
  {
   "cell_type": "code",
   "execution_count": 69,
   "metadata": {},
   "outputs": [
    {
     "data": {
      "text/html": [
       "<div>\n",
       "<style scoped>\n",
       "    .dataframe tbody tr th:only-of-type {\n",
       "        vertical-align: middle;\n",
       "    }\n",
       "\n",
       "    .dataframe tbody tr th {\n",
       "        vertical-align: top;\n",
       "    }\n",
       "\n",
       "    .dataframe thead th {\n",
       "        text-align: right;\n",
       "    }\n",
       "</style>\n",
       "<table border=\"1\" class=\"dataframe\">\n",
       "  <thead>\n",
       "    <tr style=\"text-align: right;\">\n",
       "      <th></th>\n",
       "      <th>sqft_above</th>\n",
       "      <th>sqft_basement</th>\n",
       "      <th>sqft_living15</th>\n",
       "      <th>bedrooms_1</th>\n",
       "      <th>bedrooms_2</th>\n",
       "      <th>bedrooms_3</th>\n",
       "      <th>bedrooms_33</th>\n",
       "      <th>bedrooms_4</th>\n",
       "      <th>bedrooms_5</th>\n",
       "      <th>bedrooms_6</th>\n",
       "      <th>...</th>\n",
       "      <th>yr_built_2006</th>\n",
       "      <th>yr_built_2007</th>\n",
       "      <th>yr_built_2008</th>\n",
       "      <th>yr_built_2009</th>\n",
       "      <th>yr_built_2010</th>\n",
       "      <th>yr_built_2011</th>\n",
       "      <th>yr_built_2012</th>\n",
       "      <th>yr_built_2013</th>\n",
       "      <th>yr_built_2014</th>\n",
       "      <th>yr_built_2015</th>\n",
       "    </tr>\n",
       "  </thead>\n",
       "  <tbody>\n",
       "    <tr>\n",
       "      <th>20668</th>\n",
       "      <td>0.936838</td>\n",
       "      <td>1.366819</td>\n",
       "      <td>-0.372725</td>\n",
       "      <td>0</td>\n",
       "      <td>0</td>\n",
       "      <td>1</td>\n",
       "      <td>0</td>\n",
       "      <td>0</td>\n",
       "      <td>0</td>\n",
       "      <td>0</td>\n",
       "      <td>...</td>\n",
       "      <td>0</td>\n",
       "      <td>0</td>\n",
       "      <td>0</td>\n",
       "      <td>1</td>\n",
       "      <td>0</td>\n",
       "      <td>0</td>\n",
       "      <td>0</td>\n",
       "      <td>0</td>\n",
       "      <td>0</td>\n",
       "      <td>0</td>\n",
       "    </tr>\n",
       "    <tr>\n",
       "      <th>10575</th>\n",
       "      <td>0.901061</td>\n",
       "      <td>-0.649962</td>\n",
       "      <td>-0.199464</td>\n",
       "      <td>0</td>\n",
       "      <td>0</td>\n",
       "      <td>0</td>\n",
       "      <td>0</td>\n",
       "      <td>1</td>\n",
       "      <td>0</td>\n",
       "      <td>0</td>\n",
       "      <td>...</td>\n",
       "      <td>0</td>\n",
       "      <td>0</td>\n",
       "      <td>0</td>\n",
       "      <td>0</td>\n",
       "      <td>0</td>\n",
       "      <td>0</td>\n",
       "      <td>0</td>\n",
       "      <td>0</td>\n",
       "      <td>0</td>\n",
       "      <td>0</td>\n",
       "    </tr>\n",
       "    <tr>\n",
       "      <th>1851</th>\n",
       "      <td>-1.138222</td>\n",
       "      <td>0.694559</td>\n",
       "      <td>-1.166837</td>\n",
       "      <td>0</td>\n",
       "      <td>1</td>\n",
       "      <td>0</td>\n",
       "      <td>0</td>\n",
       "      <td>0</td>\n",
       "      <td>0</td>\n",
       "      <td>0</td>\n",
       "      <td>...</td>\n",
       "      <td>0</td>\n",
       "      <td>0</td>\n",
       "      <td>0</td>\n",
       "      <td>0</td>\n",
       "      <td>0</td>\n",
       "      <td>0</td>\n",
       "      <td>0</td>\n",
       "      <td>0</td>\n",
       "      <td>0</td>\n",
       "      <td>0</td>\n",
       "    </tr>\n",
       "    <tr>\n",
       "      <th>20309</th>\n",
       "      <td>1.938591</td>\n",
       "      <td>1.546089</td>\n",
       "      <td>2.240629</td>\n",
       "      <td>0</td>\n",
       "      <td>0</td>\n",
       "      <td>1</td>\n",
       "      <td>0</td>\n",
       "      <td>0</td>\n",
       "      <td>0</td>\n",
       "      <td>0</td>\n",
       "      <td>...</td>\n",
       "      <td>0</td>\n",
       "      <td>0</td>\n",
       "      <td>0</td>\n",
       "      <td>0</td>\n",
       "      <td>0</td>\n",
       "      <td>0</td>\n",
       "      <td>0</td>\n",
       "      <td>0</td>\n",
       "      <td>1</td>\n",
       "      <td>0</td>\n",
       "    </tr>\n",
       "    <tr>\n",
       "      <th>14111</th>\n",
       "      <td>-0.899709</td>\n",
       "      <td>-0.649962</td>\n",
       "      <td>-1.109084</td>\n",
       "      <td>0</td>\n",
       "      <td>1</td>\n",
       "      <td>0</td>\n",
       "      <td>0</td>\n",
       "      <td>0</td>\n",
       "      <td>0</td>\n",
       "      <td>0</td>\n",
       "      <td>...</td>\n",
       "      <td>0</td>\n",
       "      <td>0</td>\n",
       "      <td>0</td>\n",
       "      <td>0</td>\n",
       "      <td>0</td>\n",
       "      <td>0</td>\n",
       "      <td>0</td>\n",
       "      <td>0</td>\n",
       "      <td>0</td>\n",
       "      <td>0</td>\n",
       "    </tr>\n",
       "  </tbody>\n",
       "</table>\n",
       "<p>5 rows × 184 columns</p>\n",
       "</div>"
      ],
      "text/plain": [
       "       sqft_above  sqft_basement  sqft_living15 bedrooms_1 bedrooms_2  \\\n",
       "20668    0.936838       1.366819      -0.372725          0          0   \n",
       "10575    0.901061      -0.649962      -0.199464          0          0   \n",
       "1851    -1.138222       0.694559      -1.166837          0          1   \n",
       "20309    1.938591       1.546089       2.240629          0          0   \n",
       "14111   -0.899709      -0.649962      -1.109084          0          1   \n",
       "\n",
       "      bedrooms_3 bedrooms_33 bedrooms_4 bedrooms_5 bedrooms_6      ...       \\\n",
       "20668          1           0          0          0          0      ...        \n",
       "10575          0           0          1          0          0      ...        \n",
       "1851           0           0          0          0          0      ...        \n",
       "20309          1           0          0          0          0      ...        \n",
       "14111          0           0          0          0          0      ...        \n",
       "\n",
       "      yr_built_2006 yr_built_2007 yr_built_2008 yr_built_2009 yr_built_2010  \\\n",
       "20668             0             0             0             1             0   \n",
       "10575             0             0             0             0             0   \n",
       "1851              0             0             0             0             0   \n",
       "20309             0             0             0             0             0   \n",
       "14111             0             0             0             0             0   \n",
       "\n",
       "      yr_built_2011 yr_built_2012 yr_built_2013 yr_built_2014 yr_built_2015  \n",
       "20668             0             0             0             0             0  \n",
       "10575             0             0             0             0             0  \n",
       "1851              0             0             0             0             0  \n",
       "20309             0             0             0             1             0  \n",
       "14111             0             0             0             0             0  \n",
       "\n",
       "[5 rows x 184 columns]"
      ]
     },
     "execution_count": 69,
     "metadata": {},
     "output_type": "execute_result"
    }
   ],
   "source": [
    "y = sdf_final[[\"price\"]]\n",
    "X = sdf_final.drop([\"price\"], axis=1)\n",
    "X.head()"
   ]
  },
  {
   "cell_type": "code",
   "execution_count": 70,
   "metadata": {},
   "outputs": [],
   "source": [
    "from sklearn.feature_selection import RFE\n",
    "from sklearn.linear_model import LinearRegression\n",
    "linreg = LinearRegression()"
   ]
  },
  {
   "cell_type": "code",
   "execution_count": 71,
   "metadata": {},
   "outputs": [
    {
     "name": "stdout",
     "output_type": "stream",
     "text": [
      "price    0.105638\n",
      "dtype: float64\n",
      "price    0.078854\n",
      "dtype: float64\n",
      "price    0.112301\n",
      "dtype: float64\n",
      "price    0.085716\n",
      "dtype: float64\n",
      "price    0.376461\n",
      "dtype: float64\n",
      "price    0.357787\n",
      "dtype: float64\n",
      "price    0.623547\n",
      "dtype: float64\n",
      "price    0.612273\n",
      "dtype: float64\n",
      "price    0.633222\n",
      "dtype: float64\n",
      "price    0.622238\n",
      "dtype: float64\n",
      "price    0.639247\n",
      "dtype: float64\n",
      "price    0.628443\n",
      "dtype: float64\n",
      "price    0.642538\n",
      "dtype: float64\n",
      "price    0.631833\n",
      "dtype: float64\n",
      "price    0.646882\n",
      "dtype: float64\n",
      "price    0.636307\n",
      "dtype: float64\n",
      "price    0.651798\n",
      "dtype: float64\n",
      "price    0.64137\n",
      "dtype: float64\n"
     ]
    }
   ],
   "source": [
    "r_list = []\n",
    "adj_r_list = []\n",
    "list_n = list(range(5,86,10))\n",
    "for n in list_n: \n",
    "    select_n = RFE(linreg, n_features_to_select = n)\n",
    "    select_n = select_n.fit(X, np.ravel(y))\n",
    "    selected_columns = X.columns[select_n.support_ ]\n",
    "    linreg.fit(X[selected_columns],y)\n",
    "    yhat = linreg.predict(X[selected_columns])\n",
    "    SS_Residual = np.sum((y-yhat)**2)\n",
    "    SS_Total = np.sum((y-np.mean(y))**2)\n",
    "    r_squared = 1 - (float(SS_Residual))/SS_Total\n",
    "    print(r_squared)\n",
    "    adjusted_r_squared = 1 - (1-r_squared)*(len(y)-1)/(len(y)-X.shape[1]-1)\n",
    "    print(adjusted_r_squared)\n",
    "r_list.append(r_squared)\n",
    "adj_r_list.append(adjusted_r_squared)"
   ]
  },
  {
   "cell_type": "markdown",
   "metadata": {},
   "source": [
    "Feature ranking with recursive feature elimination. Seems to be going up as we include more features. "
   ]
  },
  {
   "cell_type": "code",
   "execution_count": 72,
   "metadata": {},
   "outputs": [
    {
     "name": "stdout",
     "output_type": "stream",
     "text": [
      "price    1.323430e+11\n",
      "dtype: float64\n",
      "price    1.224975e+11\n",
      "dtype: float64\n",
      "price    1.251704e+11\n",
      "dtype: float64\n",
      "price    1.169762e+11\n",
      "dtype: float64\n",
      "price    1.045181e+11\n",
      "dtype: float64\n",
      "price    9.236164e+10\n",
      "dtype: float64\n",
      "price    1.019809e+11\n",
      "dtype: float64\n",
      "price    5.977452e+32\n",
      "dtype: float64\n",
      "price    5.551662e+10\n",
      "dtype: float64\n",
      "price    2.173861e+33\n",
      "dtype: float64\n",
      "price    5.359195e+10\n",
      "dtype: float64\n",
      "price    3.341338e+32\n",
      "dtype: float64\n",
      "price    5.154633e+10\n",
      "dtype: float64\n",
      "price    8.274031e+33\n",
      "dtype: float64\n",
      "price    5.052819e+10\n",
      "dtype: float64\n",
      "price    5.781304e+33\n",
      "dtype: float64\n",
      "price    4.980436e+10\n",
      "dtype: float64\n",
      "price    4.479524e+33\n",
      "dtype: float64\n"
     ]
    }
   ],
   "source": [
    "from sklearn.model_selection import train_test_split\n",
    "X_train, X_test, y_train, y_test = train_test_split(X, y, test_size = 0.2, random_state=3)\n",
    "\n",
    "MSE_test = []\n",
    "MSE_train = []\n",
    "list_n = list(range(5,86,10))\n",
    "for n in list_n: \n",
    "    select_n = RFE(linreg, n_features_to_select = n)\n",
    "    select_n = select_n.fit(X_train, np.ravel(y_train))\n",
    "    selected_columns = X.columns[select_n.support_ ]\n",
    "    linreg.fit(X_train[selected_columns],y_train)\n",
    "    yhat_train = linreg.predict(X_train[selected_columns])\n",
    "    yhat_test = linreg.predict(X_test[selected_columns])\n",
    "    mse_train = np.sum((y_train-yhat_train)**2)/len(y_train)\n",
    "    mse_test =np.sum((y_test-yhat_test)**2)/len(y_test)\n",
    "    print(mse_train)\n",
    "    print(mse_test)\n",
    "MSE_test.append(mse_test)\n",
    "MSE_train.append(mse_train)"
   ]
  },
  {
   "cell_type": "markdown",
   "metadata": {},
   "source": [
    "Feature ranking with recursive feature elimination with a train-test-split. But this time we are looking at Mean Squared Error(MSE) instead of R-squared and adjusted R-squared. "
   ]
  },
  {
   "cell_type": "code",
   "execution_count": 73,
   "metadata": {},
   "outputs": [
    {
     "data": {
      "text/plain": [
       "array([-1.33702636e+11, -1.09815789e+11, -1.03699207e+11, -1.44349673e+11,\n",
       "       -1.07604120e+11, -1.06496379e+11, -5.21928725e+37, -1.60368798e+11,\n",
       "       -1.00933264e+11, -1.75165269e+11])"
      ]
     },
     "execution_count": 73,
     "metadata": {},
     "output_type": "execute_result"
    }
   ],
   "source": [
    "from sklearn.metrics import mean_squared_error\n",
    "from sklearn.model_selection import cross_val_score\n",
    "\n",
    "# select 85 best predictors\n",
    "\n",
    "select_85 = RFE(linreg, n_features_to_select = 85)\n",
    "select_85 = select_n.fit(X, np.ravel(y))\n",
    "selected_columns = X.columns[select_n.support_]\n",
    "\n",
    "cv_10_results = cross_val_score(linreg, X[selected_columns], y, cv=10, scoring=\"neg_mean_squared_error\")\n",
    "\n",
    "cv_10_results"
   ]
  },
  {
   "cell_type": "markdown",
   "metadata": {},
   "source": [
    "10-fold cross validation with the final model"
   ]
  },
  {
   "cell_type": "code",
   "execution_count": null,
   "metadata": {},
   "outputs": [],
   "source": []
  }
 ],
 "metadata": {
  "kernelspec": {
   "display_name": "Python 3",
   "language": "python",
   "name": "python3"
  },
  "language_info": {
   "codemirror_mode": {
    "name": "ipython",
    "version": 3
   },
   "file_extension": ".py",
   "mimetype": "text/x-python",
   "name": "python",
   "nbconvert_exporter": "python",
   "pygments_lexer": "ipython3",
   "version": "3.6.6"
  }
 },
 "nbformat": 4,
 "nbformat_minor": 2
}
